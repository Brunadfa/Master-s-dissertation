{
 "cells": [
  {
   "cell_type": "code",
   "execution_count": 1,
   "id": "1aaab333-3efb-4771-a6de-889f26b8c76e",
   "metadata": {
    "tags": []
   },
   "outputs": [],
   "source": [
    "import numpy as np\n",
    "import random as rnd\n",
    "import time\n",
    "from enum import Enum"
   ]
  },
  {
   "cell_type": "code",
   "execution_count": 2,
   "id": "2b45833b-152b-4176-9f03-b6b300fc4b8b",
   "metadata": {
    "tags": []
   },
   "outputs": [],
   "source": [
    "from skimage import color\n",
    "from skimage.filters import unsharp_mask\n",
    "from skimage.morphology import dilation, square\n",
    "from skimage.restoration import  estimate_sigma, denoise_nl_means\n",
    "from skimage.segmentation import checkerboard_level_set, chan_vese"
   ]
  },
  {
   "cell_type": "code",
   "execution_count": 3,
   "id": "0b485cd0-6d64-40b7-aec0-ba74f866b8b1",
   "metadata": {
    "tags": []
   },
   "outputs": [],
   "source": [
    "import cv2\n",
    "from scipy.spatial import KDTree"
   ]
  },
  {
   "cell_type": "code",
   "execution_count": 4,
   "id": "f9d3ad33-7f34-4229-ae15-51fb9f1e6478",
   "metadata": {
    "tags": []
   },
   "outputs": [],
   "source": [
    "import matplotlib.cm as cm"
   ]
  },
  {
   "cell_type": "code",
   "execution_count": 5,
   "id": "1fd3eb0f-8e9c-4d58-b8ad-fda74b18b471",
   "metadata": {
    "tags": []
   },
   "outputs": [],
   "source": [
    "class Parameters(Enum):\n",
    "    box = 1\n",
    "    scanner = 2\n",
    "    box_aeruginosa = 3\n",
    "    \n",
    "category_id_dict = {'S.aureus': \"1\", 'B.subtilis': \"2\", 'P.aeruginosa': \"3\", 'E.coli': \"4\", 'C.albicans': \"6\", 'Defect': \"0\", 'Contamination': \"0\"}\n",
    "\n",
    "parameters_family = Parameters.box  # box or scanner or aeruginosa\n",
    "whole_dish = False  # True for a whole dish generation, False if smaller patches should be generated\n",
    "\n",
    "if parameters_family.value == 1:\n",
    "\n",
    "    translate_factor = 4000./700\n",
    "    scalling_factor = .3\n",
    "    adjacency_threshold = .01\n",
    "    dark_regions_threshold = 25\n",
    "    dark_matter_threshold = 5\n",
    "    colonies_threshold = 30\n",
    "    image_size = 1024\n",
    "    dish_radius = 512 # in pixels\n",
    "    remove_labels_flag = True\n",
    "    patches_dirs = {\"aureus\":\"1\",\\\n",
    "                    \"subtilis\":\"2\",\\\n",
    "                    \"aeruginosa\":\"3\",\\\n",
    "                    \"coli\":\"4\", \\\n",
    "                    \"albicans\":\"6\"}\n",
    "    style_dirs = {\"aureus\":\"1\",\\\n",
    "                  \"subtilis\":\"2\",\\\n",
    "                  \"aeruginosa\":\"3\",\\\n",
    "                  \"coli\":\"4\",\\\n",
    "                  \"albicans\":\"6\"}\n",
    "\n",
    "if parameters_family.value == 2:\n",
    "\n",
    "    translate_factor = 2048./700\n",
    "    scalling_factor = .54\n",
    "    adjacency_threshold = .01\n",
    "    dark_regions_threshold = 25\n",
    "    dark_matter_threshold = 5\n",
    "    colonies_threshold = 30\n",
    "    image_size = 1024\n",
    "    dish_radius = 475 # in pixels\n",
    "    remove_labels_flag = False\n",
    "    patches_dirs = {\"aureus\":\"1\",\\\n",
    "                    \"aeruginosa\":\"3\",\\\n",
    "                    \"coli\":\"4\"}\n",
    "    style_dirs = {\"aureus\":\"1\",\\\n",
    "                  \"aeruginosa\":\"3\",\\\n",
    "                  \"coli\":\"4\"}\n",
    "\n",
    "if parameters_family.value == 3:\n",
    "\n",
    "    translate_factor = 4000./700\n",
    "    scalling_factor = .3\n",
    "    adjacency_threshold = .01\n",
    "    dark_regions_threshold = 25\n",
    "    dark_matter_threshold = 5\n",
    "    colonies_threshold = 30\n",
    "    image_size = 1024\n",
    "    dish_radius = 512 # in pixels\n",
    "    remove_labels_flag = True\n",
    "    patches_dirs = {\"aeruginosa\":\"3\"}\n",
    "    style_dirs = {\"aeruginosa\":\"3b\"}\n",
    "\n",
    "\n",
    "if whole_dish == False: \n",
    "    scalling_factor = 1."
   ]
  },
  {
   "cell_type": "code",
   "execution_count": 6,
   "id": "d47082f1-2176-43a5-924a-a14262d7414b",
   "metadata": {
    "tags": []
   },
   "outputs": [],
   "source": [
    "class Coordinate:\n",
    "    def __init__(self, coordinate):\n",
    "        self.x1 = coordinate[0]\n",
    "        self.x2 = coordinate[1]\n",
    "        self.y1 = coordinate[2]\n",
    "        self.y2 = coordinate[3]\n",
    "    def __mul__(self, factor):\n",
    "        return(Coordinate([self.x1*factor,self.x2*factor,self.y1*factor,self.y2*factor]))\n",
    "\n",
    "    __rmul__ = __mul__\n",
    "\n",
    "    def to_int(self):\n",
    "        self.x1 = int(self.x1)\n",
    "        self.x2 = int(self.x2)\n",
    "        self.y1 = int(self.y1)\n",
    "        self.y2 = int(self.y2)\n"
   ]
  },
  {
   "cell_type": "code",
   "execution_count": 7,
   "id": "e23e2016-61ea-47d8-87d6-cb2c9af90bc7",
   "metadata": {
    "tags": []
   },
   "outputs": [],
   "source": [
    "def adjacency_matrix_between_patches(coordinates):\n",
    "    \"\"\"\n",
    "    matrix describing mutual intersection between (rectangular) patches\n",
    "    \"\"\"\n",
    "    adj = np.zeros((len(coordinates),len(coordinates)),dtype=np.float16)\n",
    "    for ic, c0 in enumerate(coordinates):\n",
    "        for jc, c1 in enumerate(coordinates[ic+1:]):\n",
    "            xx = 0.\n",
    "            if c1.x1 < c0.x1:\n",
    "                if c1.x2  > c0.x1:\n",
    "                    if c1.x2 < c0.x2 : \n",
    "                        xx = c1.x2 - c0.x1\n",
    "                    else: xx = c0.x2 - c0.x1         \n",
    "            else:\n",
    "                if c1.x1 < c0.x2 :\n",
    "                    if c1.x2  < c0.x2 : \n",
    "                        xx = c1.x2 - c1.x1\n",
    "                    else: xx = c0.x2 - c1.x1\n",
    "            yy = 0.\n",
    "            if c1.y1 < c0.y1:\n",
    "                if c1.y2  > c0.y1:\n",
    "                    if c1.y2 < c0.y2 : \n",
    "                        yy = c1.y2 - c0.y1\n",
    "                    else: yy = c0.y2 - c0.y1         \n",
    "            else:\n",
    "                if c1.y1 < c0.y2 :\n",
    "                    if c1.y2  < c0.y2 : \n",
    "                        yy = c1.y2  - c1.y1\n",
    "                    else: yy = c0.y2  - c1.y1\n",
    "\n",
    "            if np.sqrt(xx*yy/(c0.x2-c0.x1)/(c0.y2-c0.y1)) > adjacency_threshold \\\n",
    "                    or np.sqrt(xx*yy/(c1.x2-c1.x1)/(c1.y2-c1.y1)) > adjacency_threshold:\n",
    "                adj[ic,jc+ic+1] = 1.\n",
    "    return adj\n"
   ]
  },
  {
   "cell_type": "code",
   "execution_count": 8,
   "id": "66139ce0-63ec-424a-9da2-2b945bc6b11b",
   "metadata": {
    "tags": []
   },
   "outputs": [],
   "source": [
    "def del_multiple(list_to_del, indices):\n",
    "    return [val for i, val in enumerate(list_to_del) if i not in indices]"
   ]
  },
  {
   "cell_type": "code",
   "execution_count": 9,
   "id": "8ce230cf-a6d0-4458-b58f-a3018e520736",
   "metadata": {
    "tags": []
   },
   "outputs": [],
   "source": [
    "def rand_position(occupation_matrix, patch_size):\n",
    "    patch_radius = np.sqrt(patch_size[0]**2+patch_size[1]**2)/2\n",
    "    if patch_radius > dish_radius*.7: \n",
    "        raise Exception('too large patch to be placed')\n",
    "    trial_occupation = np.zeros_like(occupation_matrix)\n",
    "    watchdog = 0\n",
    "    while True:\n",
    "        while True:\n",
    "            x = rnd.randint(-dish_radius,dish_radius)\n",
    "            y = rnd.randint(-dish_radius,dish_radius)\n",
    "            if whole_dish:\n",
    "                if x**2+y**2 < dish_radius**2: break\n",
    "            else: \n",
    "                break\n",
    "        if whole_dish:\n",
    "            if np.sqrt(x**2+y**2) + patch_radius > dish_radius: continue\n",
    "        else:\n",
    "            if np.abs(x) + patch_radius > dish_radius: continue\n",
    "            if np.abs(y) + patch_radius > dish_radius: continue\n",
    "        x += int(image_size/2)\n",
    "        y += int(image_size/2)\n",
    "        x1 = x-int(patch_size[0]/2)\n",
    "        x2 = x1+patch_size[0]\n",
    "        y1 = y-int(patch_size[1]/2)\n",
    "        y2 = y1+patch_size[1]\n",
    "        trial_occupation[:,:] = 0\n",
    "        trial_occupation[x1:x2,y1:y2] = 1 \n",
    "        if not np.any(np.multiply(occupation_matrix,trial_occupation)): break\n",
    "        watchdog += 1\n",
    "        if watchdog > 100: raise Exception('too many bacterias on dish')\n",
    "    return [x, y]\n"
   ]
  },
  {
   "cell_type": "code",
   "execution_count": 10,
   "id": "66df4884-66e7-43e7-9391-737235231f7d",
   "metadata": {
    "tags": []
   },
   "outputs": [],
   "source": [
    "def blend_patch(occupation_matrix, dish, patch, position):\n",
    "    x1 = position[0]-int(patch.shape[0]/2)\n",
    "    x2 = x1+patch.shape[0]\n",
    "    y1 = position[1]-int(patch.shape[1]/2)\n",
    "    y2 = y1+patch.shape[1]\n",
    "    alpha = patch[:,:,3]/255\n",
    "    for i in [0,1,2]:\n",
    "        dish[x1:x2,y1:y2,i] = dish[x1:x2,y1:y2,i]*(1.-alpha[:,:]) + patch[:,:,i]*alpha[:,:]\n",
    "    occupation_matrix[x1:x2,y1:y2] = 1"
   ]
  },
  {
   "cell_type": "code",
   "execution_count": 11,
   "id": "c5fab9c1-7af3-4464-bc76-6a9338b9d385",
   "metadata": {
    "tags": []
   },
   "outputs": [],
   "source": [
    "def segmentation_mask(segmentation_matrix, patch, position):\n",
    "    x1 = position[0]-int(patch.shape[0]/2)\n",
    "    x2 = x1+patch.shape[0]\n",
    "    y1 = position[1]-int(patch.shape[1]/2)\n",
    "    y2 = y1+patch.shape[1]\n",
    "    alpha = patch[:,:,3]\n",
    "    alpha[alpha > 1] = 1\n",
    "    segmentation_matrix[x1:x2,y1:y2] = alpha\n"
   ]
  },
  {
   "cell_type": "code",
   "execution_count": 12,
   "id": "6764e3a4-46bf-4e85-b233-85223ca5c2e4",
   "metadata": {
    "tags": []
   },
   "outputs": [],
   "source": [
    "def gaussian_alpha(patch):\n",
    "    sigma = .8\n",
    "    x, y = np.meshgrid(np.linspace(-1,1,patch.shape[1]), np.linspace(-1,1,patch.shape[0]))\n",
    "    patch[:,:,3] *= np.exp(-(x*x+y*y)/(2.*sigma**2))"
   ]
  },
  {
   "cell_type": "code",
   "execution_count": 13,
   "id": "f8d1016b-a153-460a-9d3b-f3cb11b88ee9",
   "metadata": {
    "tags": []
   },
   "outputs": [],
   "source": [
    "def filter_patch(patch, remove_labels=remove_labels_flag):\n",
    "    \"\"\"\n",
    "    basic filtering based on unsharp mask and dark objects removal\n",
    "    (they are detected by thresholding in Lab color-space, and replaced by the nearest valid pixel founded by random walk)\n",
    "    \"\"\"\n",
    "    size_x = patch.shape[0]\n",
    "    size_y = patch.shape[1]\n",
    "    size_c = patch.shape[2]\n",
    "    b = color.rgb2lab(patch[:,:,:3])[:,:,2] # b in Lab colorspace \n",
    "    # unsharp mask\n",
    "    patch = unsharp_mask(patch, radius=100.0, amount=1.5, multichannel=True, preserve_range=False)\n",
    "    # remove black areas\n",
    "    L = color.rgb2lab(patch[:,:,:3])[:,:,0] # luminance in Lab colorspace\n",
    "    #\n",
    "    if remove_labels:\n",
    "        if size_c == 3: patch[np.logical_and(L <= dark_matter_threshold, b < colonies_threshold)] = [1.,1.,1.]\n",
    "        if size_c == 4: patch[np.logical_and(L <= dark_matter_threshold, b < colonies_threshold)] = [1.,1.,1.,0.]\n",
    "        # \n",
    "        mask = np.zeros_like(patch[:,:,0], dtype=np.uint8)\n",
    "        # detect dark regions via luminance and b-value thresholing\n",
    "        mask[np.logical_and.reduce((L > dark_matter_threshold, L < dark_regions_threshold, b < colonies_threshold))] = 1 \n",
    "        # dilate mask for better coverage of dark regions\n",
    "        dilation_steps = int(np.sqrt(size_x*size_y)/64) # 36 # 128 # 256\n",
    "        if dilation_steps > 16: dilation_steps = 16\n",
    "        for i in range(dilation_steps): mask = dilation(mask) \n",
    "        where_mask = np.where(mask==1) \n",
    "        for i0,j0 in zip(where_mask[0],where_mask[1]):\n",
    "            i = i0\n",
    "            j = j0\n",
    "            step = 2 # random walk starting step\n",
    "            while mask[i,j]==1 and step < size_x and step < size_y: # random walk\n",
    "                direction = int(rnd.random()*4)\n",
    "                if direction == 0 and i < size_x-step: i += step\n",
    "                elif direction == 1 and j < size_y-step: j += step\n",
    "                elif direction == 2 and i > step-1: i -= step\n",
    "                elif j > step-1: j -= step\n",
    "                step += 2\n",
    "            patch[i0,j0,:] = patch[i,j,:]\n",
    "    return patch"
   ]
  },
  {
   "cell_type": "code",
   "execution_count": 14,
   "id": "f7cd04b0-010c-4b6b-a405-58f1d02c5740",
   "metadata": {
    "tags": []
   },
   "outputs": [],
   "source": [
    "def postpro_filtering(patch):\n",
    "    \"\"\"\n",
    "    speckle noise cancellation\n",
    "    \"\"\"\n",
    "    sigma_est = np.mean(estimate_sigma(patch, multichannel=True))\n",
    "    patch_kw = dict(patch_size=5, patch_distance=13, multichannel=True)\n",
    "    # denoising\n",
    "    patch = denoise_nl_means(patch, h=1.5*sigma_est, sigma=sigma_est, fast_mode=True, **patch_kw)\n",
    "    return patch"
   ]
  },
  {
   "cell_type": "code",
   "execution_count": 15,
   "id": "0862de62-97ad-4fe2-b97f-4a2dca5c9977",
   "metadata": {
    "tags": []
   },
   "outputs": [],
   "source": [
    "def segment_patch(patch):\n",
    "    \"\"\"\n",
    "    patch segmentation by using robust Chan-Vese algorithm\n",
    "    \"\"\"\n",
    "    i = np.arange(patch.shape[0])\n",
    "    j = np.arange(patch.shape[1])\n",
    "    ii, jj = np.meshgrid(j, i, sparse=True)\n",
    "    init_set = (np.sin(ii/1*np.pi)*np.sin(jj/1*np.pi))**2\n",
    "    return chan_vese(color.rgb2gray(patch[:,:,:3]), mu=0.5, lambda1=1, lambda2=1, \n",
    "                        tol=2e-3, max_iter=200,dt=0.5, init_level_set=init_set)\n"
   ]
  },
  {
   "cell_type": "code",
   "execution_count": 16,
   "id": "934408bd-e34f-46a7-91b1-04dbdcc6337a",
   "metadata": {
    "tags": []
   },
   "outputs": [],
   "source": [
    "def get_alpha_from_segmentation(patch):\n",
    "    \"\"\"\n",
    "    refine alpha matrix using segmentation\n",
    "    \"\"\"\n",
    "    patch = filter_patch(patch)\n",
    "    patch = postpro_filtering(patch)\n",
    "    segmented = segment_patch(patch)\n",
    "    alpha_matrix = np.zeros_like(segmented, dtype=np.uint8)\n",
    "    alpha_matrix[segmented] = 1\n",
    "    dilation_step = np.sqrt(patch.shape[0]**2+patch.shape[1]**2)/50.\n",
    "    alpha_matrix = dilation(alpha_matrix, square(dilation_step.astype(np.uint16))) # adding margin to segmentation mask\n",
    "    return alpha_matrix"
   ]
  },
  {
   "cell_type": "code",
   "execution_count": 17,
   "id": "cb22b4c8-769c-45c0-9fc1-955f146a04e4",
   "metadata": {
    "tags": []
   },
   "outputs": [],
   "source": [
    "def get_alpha_from_blending_with_backgroung(patch, alpha_from_seg, alpha_from_bboxes):\n",
    "    \"\"\"\n",
    "    generate mask with lower values where pixel_color ~ patch_background_color: \n",
    "    to blend with empty dish backround\n",
    "    \"\"\"\n",
    "    # patch in Lab colorspace\n",
    "    patch_lab = color.rgb2lab(patch)\n",
    "    # patch backround area\n",
    "    background_colors = patch_lab[np.logical_and(alpha_from_bboxes == 1, alpha_from_seg == 0)]\n",
    "    bgd_c = [np.mean(background_colors[:,i]) for i in range(3)] # average backround color\n",
    "    # distance from backround color in Lab colorspace\n",
    "    lab_dist = np.sqrt((patch_lab[:,:,0]-bgd_c[0])**2+(patch_lab[:,:,1]-bgd_c[1])**2+(patch_lab[:,:,2]-bgd_c[2])**2)  \n",
    "    # normalization and weighting\n",
    "    lab_dist /= np.amax(lab_dist)\n",
    "    lab_dist = np.sqrt(np.sin(lab_dist*np.pi/2.))\n",
    "    lab_dist = .6 + lab_dist*.4\n",
    "    #\n",
    "    return img_float2int(lab_dist, 255)"
   ]
  },
  {
   "cell_type": "code",
   "execution_count": 18,
   "id": "f4d3e3b4-89ce-4689-8af8-15698864fcc1",
   "metadata": {
    "tags": []
   },
   "outputs": [],
   "source": [
    "def segment_dish(dish, div=4):\n",
    "    \"\"\"\n",
    "    segment subsequent patches\n",
    "    \"\"\"\n",
    "    seg_matrix=np.zeros_like(dish[:,:,0], dtype=np.bool) \n",
    "    x_size = int(dish.shape[0]/div)\n",
    "    x_rem = dish.shape[0] % x_size\n",
    "    y_size = int(dish.shape[1]/div)\n",
    "    y_rem = dish.shape[1] % y_size\n",
    "    for i in range(div):\n",
    "        for j in range(div):\n",
    "            patch_x = x_size if i < div else x_size + x_rem\n",
    "            patch_y = y_size if j < div else y_size + y_rem\n",
    "            patch = dish[i*x_size:i*x_size+patch_x,j*y_size:j*y_size+patch_y,:]\n",
    "            seg_matrix[i*x_size:i*x_size+patch_x,j*y_size:j*y_size+patch_y] = segment_patch(patch)\n",
    "    return seg_matrix"
   ]
  },
  {
   "cell_type": "code",
   "execution_count": 19,
   "id": "5b587715-fa6c-4c80-89f9-d7b83b21c418",
   "metadata": {
    "tags": []
   },
   "outputs": [],
   "source": [
    "def img_float2int(image, multiply = 1):\n",
    "    return (image*multiply).astype(np.uint8)"
   ]
  },
  {
   "cell_type": "code",
   "execution_count": 20,
   "id": "bed536c4-81af-4b4c-9d41-3622d97c6218",
   "metadata": {
    "tags": []
   },
   "outputs": [],
   "source": [
    "def get_polygons(binary_mask):\n",
    "\n",
    "    # Initialize variables\n",
    "    obj = {}\n",
    "    segmentation = []\n",
    "    segmentation_polygons = []\n",
    "\n",
    "    mask_list = np.ascontiguousarray(binary_mask)\n",
    "    contours, hierarchy = cv2.findContours(mask_list, cv2.RETR_TREE,\n",
    "                                            cv2.CHAIN_APPROX_SIMPLE)\n",
    "    # Get the contours\n",
    "    for contour in contours:\n",
    "        contour = contour.flatten().tolist()\n",
    "        if len(contour) > 4:\n",
    "            segmentation.append(contour)\n",
    "    # if len(segmentation) == 0:\n",
    "    #     continue\n",
    "\n",
    "    # Get the polygons as (x, y) coordinates\n",
    "    for i in range(len(segmentation)):\n",
    "        segment = segmentation[i]\n",
    "        poligon = []\n",
    "        poligons = []\n",
    "        for j in range(len(segment)):\n",
    "            poligon.append(segment[j])\n",
    "            if (j + 1) % 2 == 0:\n",
    "                poligons.append(poligon)\n",
    "                poligon = []\n",
    "        segmentation_polygons.append(poligons)\n",
    "\n",
    "    # Save the segmentation and polygons for the current annotation\n",
    "    return segmentation_polygons"
   ]
  },
  {
   "cell_type": "code",
   "execution_count": 21,
   "id": "66caa6e2-fe1a-49da-8a98-c18f382ef0f3",
   "metadata": {
    "tags": []
   },
   "outputs": [],
   "source": [
    "def get_polygons_plot(segmentation_matrix):\n",
    "    \"\"\"\n",
    "    return 2darray with the contours found\n",
    "    \"\"\"\n",
    "    polygons = get_polygons(img_float2int(segmentation_matrix))\n",
    "    polygons_plot = np.zeros_like(segmentation_matrix, dtype=np.uint8)\n",
    "    for polygon in polygons:\n",
    "        for point in polygon:\n",
    "            polygons_plot[point[1],point[0]] = 1\n",
    "    return polygons_plot"
   ]
  },
  {
   "cell_type": "code",
   "execution_count": 22,
   "id": "c9c40287-adb5-4d92-a8fe-d226ada34d7f",
   "metadata": {
    "tags": []
   },
   "outputs": [],
   "source": [
    "def transform_bboxes(json_data, patch, position, angle, mode):\n",
    "    \"\"\"\n",
    "    transformation due to scalling, rotation and/or mirroring\n",
    "    \"\"\"\n",
    "    px2 = patch.shape[0]/2\n",
    "    py2 = patch.shape[1]/2\n",
    "    pox = position[0]\n",
    "    poy = position[1]\n",
    "    for bbox in json_data:\n",
    "        w = int(bbox['width']*scalling_factor) \n",
    "        h = int(bbox['height']*scalling_factor) \n",
    "        x = bbox['x']*scalling_factor\n",
    "        y = bbox['y']*scalling_factor \n",
    "        if angle == 1:\n",
    "            bw = w \n",
    "            bh = h\n",
    "            bx = int( px2-x-w)\n",
    "            by = int(-py2+y)           \n",
    "        elif angle == 2:\n",
    "            bw = h \n",
    "            bh = w\n",
    "            bx = int( px2-y-h)\n",
    "            by = int( py2-x-w)\n",
    "        elif angle == 3:\n",
    "            bw = w \n",
    "            bh = h\n",
    "            bx = int(-px2+x)\n",
    "            by = int( py2-y-h) \n",
    "        else:\n",
    "            bw = h \n",
    "            bh = w\n",
    "            bx = int(-px2+y)\n",
    "            by = int(-py2+x) \n",
    "        if mode == 1: bx = -bx-bw\n",
    "        if mode == 2: by = -by-bh\n",
    "        bbox['width'] = bw\n",
    "        bbox['height'] = bh\n",
    "        bbox['x'] = int(pox+bx)\n",
    "        bbox['y'] = int(poy+by) \n",
    "\n",
    "    return json_data\n"
   ]
  },
  {
   "cell_type": "code",
   "execution_count": 23,
   "id": "c15762f4-df5b-4ce8-a807-3e0e5897d1fa",
   "metadata": {
    "tags": []
   },
   "outputs": [],
   "source": [
    "def isegmentation_mask(isegmentation_matrix, patch, position, patch_bboxes):\n",
    "    colormap = cm.prism\n",
    "    x1 = position[0]-int(patch.shape[0]/2)\n",
    "    x2 = x1+patch.shape[0]\n",
    "    y1 = position[1]-int(patch.shape[1]/2)\n",
    "    y2 = y1+patch.shape[1]\n",
    "    alpha = patch[:,:,3]\n",
    "    alpha[alpha > 1] = 1\n",
    "    no_clusters = len(patch_bboxes) \n",
    "\n",
    "    if no_clusters == 1:\n",
    "        rgb = np.array(colormap(rnd.random()))[0:3]*rnd.randint(100,255)\n",
    "        color_mask = np.stack((alpha*rgb[0],alpha*rgb[1],alpha*rgb[2])).transpose(1,2,0)\n",
    "    else:\n",
    "        to_clusterize = np.stack(np.where(alpha==1)).transpose()\n",
    "        centroids = []\n",
    "        for bbox in patch_bboxes: centroids.append([bbox['x']-x1 + int(bbox['width']/2),\n",
    "                                                    bbox['y']-y1 + int(bbox['height']/2)])\n",
    "        ctree = KDTree(np.array(centroids))\n",
    "        labels = ctree.query(to_clusterize, p=2)[1]\n",
    "        color_mask = np.zeros_like(patch[:,:,:3])\n",
    "        for k in range(no_clusters):\n",
    "            cluster = to_clusterize[np.where(labels==k)]\n",
    "            rgb = np.array(colormap(rnd.random()))[0:3]*rnd.randint(100,255)\n",
    "            for xy in cluster:\n",
    "                color_mask[xy[0],xy[1],:] = rgb\n",
    "\n",
    "    isegmentation_matrix[x1:x2,y1:y2,:] = color_mask"
   ]
  },
  {
   "cell_type": "code",
   "execution_count": 24,
   "id": "b748abb2-0e21-4204-8214-67c4d0e6616a",
   "metadata": {
    "tags": []
   },
   "outputs": [],
   "source": [
    "def bbox_dict(grouped_coordinates, classe):\n",
    "    labels = []\n",
    "    for coordinate in grouped_coordinates:\n",
    "        coordinate.to_int()\n",
    "        dicty = {}\n",
    "        dicty[\"width\"] = coordinate.x2-coordinate.x1\n",
    "        dicty[\"height\"] = coordinate.y2-coordinate.y1\n",
    "        dicty[\"x\"] = coordinate.x1\n",
    "        dicty[\"y\"] = coordinate.y1\n",
    "        dicty[\"class\"] = classe\n",
    "        labels.append(dicty)\n",
    "    out_dict = {}\n",
    "    out_dict[\"labels\"] = labels\n",
    "    return out_dict"
   ]
  },
  {
   "cell_type": "code",
   "execution_count": 25,
   "id": "6c2c163e-c663-4d2e-ba24-c7e331a5bbae",
   "metadata": {
    "tags": []
   },
   "outputs": [],
   "source": [
    "def bbox_plot(image_matrix, bbox_list):\n",
    "    \"\"\"\n",
    "    plot bboxes on a given 2darray\n",
    "    \"\"\"\n",
    "    for bbox in bbox_list:\n",
    "        x1 = bbox['x']\n",
    "        x2 = bbox['x'] + bbox['width']\n",
    "        y1 = bbox['y']\n",
    "        y2 = bbox['y'] + bbox['height']\n",
    "        image_matrix[x1:x2,y1] = 1\n",
    "        image_matrix[x2,y1:y2] = 1\n",
    "        image_matrix[x1:x2,y2] = 1\n",
    "        image_matrix[x1,y1:y2] = 1\n",
    "    return image_matrix"
   ]
  },
  {
   "cell_type": "code",
   "execution_count": 26,
   "id": "dbdf5287-1632-42bd-8ce9-32ac26666c52",
   "metadata": {
    "tags": []
   },
   "outputs": [],
   "source": [
    "def cut_from_dish(dish):\n",
    "    \"\"\"\n",
    "    cut randomly recetangle of image_size x images_size from dish\n",
    "    \"\"\"\n",
    "    x0 = rnd.randint(0,dish.shape[0]-image_size)\n",
    "    y0 = rnd.randint(0,dish.shape[1]-image_size)\n",
    "    dish = dish[x0:x0+image_size, y0:y0+image_size]\n",
    "    return dish"
   ]
  },
  {
   "cell_type": "code",
   "execution_count": 27,
   "id": "f36d33e8-acdc-4c64-856c-ba2a9c49f324",
   "metadata": {
    "tags": []
   },
   "outputs": [],
   "source": [
    "def cut_patch(img, mask_coord, bbox_dict):\n",
    "    bbox_mask = np.zeros_like(img, dtype=np.int8)\n",
    "    labels = []\n",
    "    for bbox in bbox_dict[\"labels\"]:\n",
    "        bbox_mask[:,:] = 0\n",
    "        x1 = bbox['x']\n",
    "        x2 = bbox['x'] + bbox['width']\n",
    "        y1 = bbox['y']\n",
    "        y2 = bbox['y'] + bbox['height']\n",
    "        bbox_mask[x1:x2,y1:y2] = 1\n",
    "        new_bbox_mask = bbox_mask[mask_coord[0]:mask_coord[1], mask_coord[2]:mask_coord[3]]\n",
    "        if np.any(new_bbox_mask):\n",
    "            nonzero_indices = np.stack(np.nonzero(new_bbox_mask),axis=1)\n",
    "            x1 = np.amin(nonzero_indices[:,0])\n",
    "            x2 = np.amax(nonzero_indices[:,0])\n",
    "            y1 = np.amin(nonzero_indices[:,1])\n",
    "            y2 = np.amax(nonzero_indices[:,1])\n",
    "            if x2 > x1 and y2 > y1:\n",
    "                dicty = {}\n",
    "                dicty[\"width\"] = int(x2-x1)\n",
    "                dicty[\"height\"] = int(y2-y1)\n",
    "                dicty[\"x\"] = int(x1)\n",
    "                dicty[\"y\"] = int(y1)\n",
    "                dicty[\"class\"] = bbox[\"class\"]\n",
    "                labels.append(dicty)\n",
    "    new_bbox_dict = {}\n",
    "    new_bbox_dict[\"labels\"] = labels\n",
    "    return img[mask_coord[0]:mask_coord[1], mask_coord[2]:mask_coord[3]], new_bbox_dict\n"
   ]
  },
  {
   "cell_type": "code",
   "execution_count": null,
   "id": "2e9f9331-b052-4a8a-8bb3-dbdeb82779fb",
   "metadata": {},
   "outputs": [],
   "source": []
  }
 ],
 "metadata": {
  "kernelspec": {
   "display_name": "Python 3 (ipykernel)",
   "language": "python",
   "name": "python3"
  },
  "language_info": {
   "codemirror_mode": {
    "name": "ipython",
    "version": 3
   },
   "file_extension": ".py",
   "mimetype": "text/x-python",
   "name": "python",
   "nbconvert_exporter": "python",
   "pygments_lexer": "ipython3",
   "version": "3.11.5"
  }
 },
 "nbformat": 4,
 "nbformat_minor": 5
}

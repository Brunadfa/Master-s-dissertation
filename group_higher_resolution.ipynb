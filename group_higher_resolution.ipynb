{
 "cells": [
  {
   "cell_type": "code",
   "execution_count": 1,
   "id": "e814c1de-a062-4bc2-8479-a6689e485484",
   "metadata": {
    "tags": []
   },
   "outputs": [],
   "source": [
    "import os\n",
    "import json\n",
    "import numpy as np\n",
    "import cv2\n",
    "from sklearn.preprocessing import LabelEncoder\n",
    "import tensorflow as tf\n",
    "from tensorflow.keras import layers, models\n",
    "from PIL import Image\n",
    "from sklearn.model_selection import train_test_split"
   ]
  },
  {
   "cell_type": "code",
   "execution_count": 2,
   "id": "d31725ac-ecbd-4ab9-8a9a-837edb489088",
   "metadata": {
    "tags": []
   },
   "outputs": [],
   "source": [
    "from torch.utils.data import Dataset\n",
    "import torchvision.transforms as transforms\n",
    "import torch\n",
    "import torch.nn as nn\n",
    "import torch.optim as optim\n",
    "from torch.utils.data import DataLoader\n",
    "from sklearn.model_selection import StratifiedKFold"
   ]
  },
  {
   "cell_type": "code",
   "execution_count": 3,
   "id": "8ca46013-b24d-4c97-8e3a-61faf60ef35c",
   "metadata": {
    "tags": []
   },
   "outputs": [
    {
     "name": "stdout",
     "output_type": "stream",
     "text": [
      "GPU is not available\n"
     ]
    }
   ],
   "source": [
    "# Import OS libraries\n",
    "import os\n",
    "import itertools\n",
    "\n",
    "# Data handling tools\n",
    "import cv2\n",
    "import matplotlib.pyplot as plt\n",
    "import numpy as np\n",
    "import pandas as pd\n",
    "import seaborn as sns\n",
    "\n",
    "from sklearn.model_selection import train_test_split\n",
    "from sklearn.metrics import confusion_matrix , classification_report\n",
    "\n",
    "\n",
    "# Deep learning libraries\n",
    "import tensorflow as tf\n",
    "from tensorflow import keras\n",
    "from tensorflow.keras.models import Sequential\n",
    "\n",
    "from tensorflow.keras.preprocessing.image import ImageDataGenerator\n",
    "from tensorflow.keras.layers import Conv2D, MaxPooling2D, Flatten, Dense,  BatchNormalization, Activation, Dropout  \n",
    "from tensorflow.keras.callbacks import EarlyStopping, ModelCheckpoint\n",
    "from tensorflow.keras.optimizers import Adam , Adamax\n",
    "from tensorflow.keras import regularizers\n",
    "\n",
    "# from googleapiclient.discovery import build\n",
    "# from google.oauth2.credentials import Credentials\n",
    "# from googleapiclient.http import MediaFileUpload\n",
    "\n",
    "# Suppress warnings\n",
    "import warnings\n",
    "warnings.filterwarnings(\"ignore\")\n",
    "\n",
    "\n",
    "# Check GPU availability\n",
    "print(\"GPU is available\" if tf.config.list_physical_devices('GPU') else \"GPU is not available\")\n",
    "\n",
    "sns.set_style('whitegrid')"
   ]
  },
  {
   "cell_type": "code",
   "execution_count": 4,
   "id": "18a8beb0-4b76-4677-8b4e-644f372c3163",
   "metadata": {
    "tags": []
   },
   "outputs": [],
   "source": [
    "# Diretório onde estão armazenadas as imagens sem ser separadas por pastas\n",
    "image_dir = r'C:\\Users\\bruna\\OneDrive - Universidade do Minho\\Tese Mestrado em Bioinformática\\AGAR_dataset\\AGAR_dataset\\dataset'"
   ]
  },
  {
   "cell_type": "code",
   "execution_count": 5,
   "id": "329fc1ab-c494-4956-affd-8b160fda782c",
   "metadata": {
    "tags": []
   },
   "outputs": [],
   "source": [
    "def load_image(image_path, target_size=(112, 112)):\n",
    "    try:\n",
    "        image = Image.open(image_path)\n",
    "        image = image.resize(target_size)  \n",
    "        return np.array(image) / 255.0  \n",
    "    except Exception as e:\n",
    "        print(f\"Erro ao carregar a imagem {image_path}: {e}\")\n",
    "        return None"
   ]
  },
  {
   "cell_type": "code",
   "execution_count": 6,
   "id": "1e1c3531-5379-4150-b51e-84039e408b31",
   "metadata": {},
   "outputs": [],
   "source": [
    "# Carregar IDs do grupo de treinamento de um arquivo de texto\n",
    "train_ids_file = r'C:\\Users\\bruna\\OneDrive - Universidade do Minho\\Tese Mestrado em Bioinformática\\AGAR_dataset\\AGAR_dataset\\training_lists\\higher_resolution_train.txt'\n",
    "with open(train_ids_file, 'r') as file:\n",
    "    train_ids = [str(id) for id in json.loads(file.read())]"
   ]
  },
  {
   "cell_type": "code",
   "execution_count": 7,
   "id": "8151f636-b3c1-4e08-8edb-e16a6ac7d5b9",
   "metadata": {},
   "outputs": [],
   "source": [
    "# Carregar IDs do grupo de validação de um arquivo de texto\n",
    "val_ids_file = r'C:\\Users\\bruna\\OneDrive - Universidade do Minho\\Tese Mestrado em Bioinformática\\AGAR_dataset\\AGAR_dataset\\training_lists\\higher_resolution_val.txt'\n",
    "with open(val_ids_file, 'r') as file:\n",
    "    val_ids = [str(id) for id in json.loads(file.read())]"
   ]
  },
  {
   "cell_type": "code",
   "execution_count": 8,
   "id": "32b2f655-316b-4a71-8fe0-2f8596d5b02b",
   "metadata": {},
   "outputs": [
    {
     "name": "stdout",
     "output_type": "stream",
     "text": [
      "IDs de treinamento carregados: ['3382', '6923', '593', '1200', '4373'] ... (5242 no total)\n",
      "IDs de validação carregados: ['4020', '4021', '4029', '5983', '5984'] ... (1748 no total)\n"
     ]
    }
   ],
   "source": [
    "# Verificar se os IDs foram carregados corretamente\n",
    "print(f\"IDs de treinamento carregados: {train_ids[:5]} ... ({len(train_ids)} no total)\")\n",
    "print(f\"IDs de validação carregados: {val_ids[:5]} ... ({len(val_ids)} no total)\")"
   ]
  },
  {
   "cell_type": "code",
   "execution_count": 9,
   "id": "56f4f561-355f-44c1-b463-ecc098196b61",
   "metadata": {},
   "outputs": [],
   "source": [
    "%%capture\n",
    "# Listas para armazenar caminhos de imagem e rótulos correspondentes\n",
    "train_data = []\n",
    "val_data = []\n",
    "\n",
    "# Iterar sobre todos os arquivos no diretório\n",
    "for filename in os.listdir(image_dir):\n",
    "    if filename.endswith('.json'):\n",
    "        json_path = os.path.join(image_dir, filename)\n",
    "        with open(json_path, 'r') as file:\n",
    "            try:\n",
    "                json_data = json.load(file)\n",
    "            except json.JSONDecodeError as e:\n",
    "                print(f\"Erro ao carregar JSON {json_path}: {e}\")\n",
    "                continue\n",
    "        \n",
    "        sample_id = str(json_data.get('sample_id', None))\n",
    "        if sample_id is None:\n",
    "            print(f\"ID da amostra ausente no JSON: {json_path}\")\n",
    "            continue\n",
    "\n",
    "        image_filename = f\"{sample_id}.jpg\"\n",
    "        image_path = os.path.join(image_dir, image_filename)\n",
    "        if not os.path.exists(image_path):\n",
    "            print(f\"Arquivo de imagem não encontrado: {image_path}\")\n",
    "            continue\n",
    "        \n",
    "        classes = json_data.get('classes', [])\n",
    "        if not classes:\n",
    "            print(f\"Chave 'classes' ausente ou vazia no JSON: {json_path}\")\n",
    "            continue\n",
    "        \n",
    "        data_tuple = (image_path, classes[0])\n",
    "        if sample_id in train_ids:\n",
    "            train_data.append(data_tuple)\n",
    "        elif sample_id in val_ids:\n",
    "            val_data.append(data_tuple)"
   ]
  },
  {
   "cell_type": "code",
   "execution_count": 10,
   "id": "696ace66-9155-4fd2-85fe-429df96e44f7",
   "metadata": {
    "tags": []
   },
   "outputs": [
    {
     "name": "stdout",
     "output_type": "stream",
     "text": [
      "Número de imagens de treinamento carregadas: 5240\n",
      "Número de imagens de validação carregadas: 1746\n"
     ]
    }
   ],
   "source": [
    "# Verificar o número de imagens carregadas\n",
    "print(f\"Número de imagens de treinamento carregadas: {len(train_data)}\")\n",
    "print(f\"Número de imagens de validação carregadas: {len(val_data)}\")"
   ]
  },
  {
   "cell_type": "code",
   "execution_count": 11,
   "id": "d8009fb6-9b86-4a78-9e44-5195bc093f65",
   "metadata": {
    "tags": []
   },
   "outputs": [],
   "source": [
    "train_images = [data[0] for data in train_data]\n",
    "train_labels = [data[1] for data in train_data]"
   ]
  },
  {
   "cell_type": "code",
   "execution_count": 12,
   "id": "f5376928-7eaa-448a-9ca4-40f48418ac1b",
   "metadata": {
    "tags": []
   },
   "outputs": [],
   "source": [
    "# Separar as imagens e os rótulos (labels) para validação\n",
    "val_images = [data[0] for data in val_data]\n",
    "val_labels = [data[1] for data in val_data]"
   ]
  },
  {
   "cell_type": "code",
   "execution_count": 13,
   "id": "4bd4a10a-37d5-40fa-ab84-438bb7f65e87",
   "metadata": {
    "tags": []
   },
   "outputs": [],
   "source": [
    "# Verificar se as listas estão vazias\n",
    "if len(train_images) == 0:\n",
    "    print(\"Nenhuma imagem de treinamento foi carregada.\")\n",
    "if len(val_images) == 0:\n",
    "    print(\"Nenhuma imagem de validação foi carregada.\")"
   ]
  },
  {
   "cell_type": "code",
   "execution_count": 14,
   "id": "5c082868-4a2d-4c94-a34f-2505a16f4d7c",
   "metadata": {
    "tags": []
   },
   "outputs": [],
   "source": [
    "# Filtrar caminhos de imagem válidos\n",
    "train_images = [img for img in train_images if img is not None]\n",
    "val_images = [img for img in val_images if img is not None]"
   ]
  },
  {
   "cell_type": "code",
   "execution_count": 15,
   "id": "d063e9a1-0294-435c-afbb-81ab8852cb0a",
   "metadata": {
    "tags": []
   },
   "outputs": [],
   "source": [
    "# Converter as imagens em tensores e normalizar, se necessário\n",
    "train_images = [load_image(image_path, target_size=(112, 112)) for image_path in train_images]\n",
    "val_images = [load_image(image_path, target_size=(112, 112)) for image_path in val_images]"
   ]
  },
  {
   "cell_type": "code",
   "execution_count": 16,
   "id": "3f04c1e1-4323-47b5-8e32-eeacf3d5a7da",
   "metadata": {
    "tags": []
   },
   "outputs": [],
   "source": [
    "# Verificar se alguma imagem falhou ao carregar\n",
    "train_images = [img for img in train_images if img is not None]\n",
    "val_images = [img for img in val_images if img is not None]"
   ]
  },
  {
   "cell_type": "code",
   "execution_count": 17,
   "id": "6b6f80c9-2fee-4638-b3b7-93e6b51b1e97",
   "metadata": {
    "tags": []
   },
   "outputs": [
    {
     "name": "stdout",
     "output_type": "stream",
     "text": [
      "Shape de train_images antes da codificação: (5240, 112, 112, 3)\n",
      "Shape de train_labels antes da codificação: (5240,)\n",
      "Shape de val_images antes da codificação: (1746, 112, 112, 3)\n",
      "Shape de val_labels antes da codificação: (1746,)\n"
     ]
    }
   ],
   "source": [
    "# Verificar o shape das imagens e dos rótulos antes da codificação\n",
    "print(\"Shape de train_images antes da codificação:\", np.array(train_images).shape)\n",
    "print(\"Shape de train_labels antes da codificação:\", np.array(train_labels).shape)\n",
    "print(\"Shape de val_images antes da codificação:\", np.array(val_images).shape)\n",
    "print(\"Shape de val_labels antes da codificação:\", np.array(val_labels).shape)"
   ]
  },
  {
   "cell_type": "code",
   "execution_count": 18,
   "id": "44012e76-843a-49e0-9adc-737f75cdf313",
   "metadata": {
    "tags": []
   },
   "outputs": [
    {
     "name": "stdout",
     "output_type": "stream",
     "text": [
      "Todas as imagens de treinamento têm a forma correta: True\n",
      "Todas as imagens de validação têm a forma correta: True\n"
     ]
    }
   ],
   "source": [
    "def check_image_shapes(image_list):\n",
    "    for i, img in enumerate(image_list):\n",
    "        if not isinstance(img, np.ndarray):\n",
    "            print(f\"Item at index {i} is not a numpy array.\")\n",
    "            return False\n",
    "        if img.shape != (112, 112, 3):\n",
    "            print(f\"Image at index {i} has shape {img.shape} instead of (112, 112, 3).\")\n",
    "            return False\n",
    "    return True\n",
    "\n",
    "# Verificar shapes das imagens de treinamento\n",
    "train_images_valid = check_image_shapes(train_images)\n",
    "print(f\"Todas as imagens de treinamento têm a forma correta: {train_images_valid}\")\n",
    "\n",
    "# Verificar shapes das imagens de validação\n",
    "val_images_valid = check_image_shapes(val_images)\n",
    "print(f\"Todas as imagens de validação têm a forma correta: {val_images_valid}\")"
   ]
  },
  {
   "cell_type": "code",
   "execution_count": 19,
   "id": "a1af151b-026a-4eb9-9441-462981d91d0a",
   "metadata": {
    "tags": []
   },
   "outputs": [],
   "source": [
    "# Converter os rótulos em formato adequado (numérico), se necessário\n",
    "label_encoder = LabelEncoder()\n",
    "train_labels = label_encoder.fit_transform(train_labels)\n",
    "val_labels = label_encoder.transform(val_labels)"
   ]
  },
  {
   "cell_type": "code",
   "execution_count": 20,
   "id": "f5114085-7828-43a8-a443-b17337803eae",
   "metadata": {
    "tags": []
   },
   "outputs": [
    {
     "name": "stdout",
     "output_type": "stream",
     "text": [
      "Número de classes: 5\n"
     ]
    }
   ],
   "source": [
    "# Verificar o número de classes\n",
    "num_classes = len(label_encoder.classes_)\n",
    "print(f\"Número de classes: {num_classes}\")"
   ]
  },
  {
   "cell_type": "code",
   "execution_count": 21,
   "id": "44c03b99-108f-4218-acda-477729c50601",
   "metadata": {
    "tags": []
   },
   "outputs": [
    {
     "name": "stdout",
     "output_type": "stream",
     "text": [
      "Shape de train_labels_one_hot após o one-hot encoding: (5240, 5)\n",
      "Shape de val_labels_one_hot após o one-hot encoding: (1746, 5)\n"
     ]
    }
   ],
   "source": [
    "# One-hot encoding dos rótulos após a divisão\n",
    "from sklearn.preprocessing import LabelEncoder, OneHotEncoder\n",
    "one_hot_encoder = OneHotEncoder(sparse=False)\n",
    "train_labels_one_hot = one_hot_encoder.fit_transform(train_labels.reshape(-1, 1))\n",
    "val_labels_one_hot = one_hot_encoder.transform(val_labels.reshape(-1, 1))\n",
    "\n",
    "# Verificar os shapes dos rótulos one-hot encoded\n",
    "print(\"Shape de train_labels_one_hot após o one-hot encoding:\", train_labels_one_hot.shape)\n",
    "print(\"Shape de val_labels_one_hot após o one-hot encoding:\", val_labels_one_hot.shape)"
   ]
  },
  {
   "cell_type": "code",
   "execution_count": 22,
   "id": "b3cef437-0b65-4918-8154-92a817cc0a9a",
   "metadata": {
    "tags": []
   },
   "outputs": [],
   "source": [
    "#  Criar o modelo da CNN\n",
    "model = tf.keras.Sequential([\n",
    "    tf.keras.layers.Conv2D(32, (3, 3), activation='relu', input_shape=(112, 112, 3)),\n",
    "    tf.keras.layers.MaxPooling2D((2, 2)),\n",
    "    tf.keras.layers.Conv2D(64, (3, 3), activation='relu'),\n",
    "    tf.keras.layers.MaxPooling2D((2, 2)),\n",
    "    tf.keras.layers.Conv2D(128, (3, 3), activation='relu'),\n",
    "    tf.keras.layers.MaxPooling2D((2, 2)),\n",
    "    tf.keras.layers.Flatten(),\n",
    "    tf.keras.layers.Dense(128, activation='relu'),\n",
    "    tf.keras.layers.Dropout(0.5),\n",
    "    tf.keras.layers.Dense(len(label_encoder.classes_), activation='softmax')\n",
    "])"
   ]
  },
  {
   "cell_type": "code",
   "execution_count": 23,
   "id": "8355a958-fd8b-443f-bc76-38d0215de16a",
   "metadata": {
    "tags": []
   },
   "outputs": [],
   "source": [
    "#  Compilar o modelo\n",
    "model.compile(optimizer='adam',\n",
    "              loss='categorical_crossentropy',\n",
    "              metrics=['accuracy'])"
   ]
  },
  {
   "cell_type": "code",
   "execution_count": 24,
   "id": "16db486c-4b55-4d71-ac6d-be20b17264f9",
   "metadata": {
    "tags": []
   },
   "outputs": [
    {
     "name": "stdout",
     "output_type": "stream",
     "text": [
      "Shape de train_images: (5240, 112, 112, 3)\n",
      "Shape de train_labels_one_hot: (5240, 5)\n",
      "Shape de val_images: (1746, 112, 112, 3)\n",
      "Shape de val_labels_one_hot: (1746, 5)\n"
     ]
    }
   ],
   "source": [
    "import numpy as np\n",
    "\n",
    "# Verificar as dimensões dos dados\n",
    "print(\"Shape de train_images:\", np.array(train_images).shape)\n",
    "print(\"Shape de train_labels_one_hot:\", train_labels_one_hot.shape)\n",
    "print(\"Shape de val_images:\", np.array(val_images).shape)\n",
    "print(\"Shape de val_labels_one_hot:\", val_labels_one_hot.shape)"
   ]
  },
  {
   "cell_type": "code",
   "execution_count": 27,
   "id": "386fd635-8ae1-47e1-82fd-46ad1f81a3f1",
   "metadata": {
    "tags": []
   },
   "outputs": [
    {
     "name": "stdout",
     "output_type": "stream",
     "text": [
      "Epoch 1/20\n",
      "164/164 [==============================] - 67s 400ms/step - loss: 1.5147 - accuracy: 0.3015 - val_loss: 1.4165 - val_accuracy: 0.3591\n",
      "Epoch 2/20\n",
      "164/164 [==============================] - 65s 398ms/step - loss: 1.3791 - accuracy: 0.3739 - val_loss: 1.3276 - val_accuracy: 0.3912\n",
      "Epoch 3/20\n",
      "164/164 [==============================] - 68s 414ms/step - loss: 1.2517 - accuracy: 0.4706 - val_loss: 1.1334 - val_accuracy: 0.5384\n",
      "Epoch 4/20\n",
      "164/164 [==============================] - 64s 391ms/step - loss: 1.0422 - accuracy: 0.5922 - val_loss: 0.8888 - val_accuracy: 0.6621\n",
      "Epoch 5/20\n",
      "164/164 [==============================] - 65s 397ms/step - loss: 0.8876 - accuracy: 0.6542 - val_loss: 0.7945 - val_accuracy: 0.6844\n",
      "Epoch 6/20\n",
      "164/164 [==============================] - 63s 385ms/step - loss: 0.7868 - accuracy: 0.6950 - val_loss: 0.7437 - val_accuracy: 0.7314\n",
      "Epoch 7/20\n",
      "164/164 [==============================] - 63s 387ms/step - loss: 0.7256 - accuracy: 0.7239 - val_loss: 0.7030 - val_accuracy: 0.7446\n",
      "Epoch 8/20\n",
      "164/164 [==============================] - 69s 419ms/step - loss: 0.6761 - accuracy: 0.7452 - val_loss: 0.7425 - val_accuracy: 0.7342\n",
      "Epoch 9/20\n",
      "164/164 [==============================] - 67s 409ms/step - loss: 0.6107 - accuracy: 0.7637 - val_loss: 0.7007 - val_accuracy: 0.7463\n",
      "Epoch 10/20\n",
      "164/164 [==============================] - 68s 414ms/step - loss: 0.5628 - accuracy: 0.7836 - val_loss: 0.6894 - val_accuracy: 0.7635\n",
      "Epoch 11/20\n",
      "164/164 [==============================] - 69s 419ms/step - loss: 0.5009 - accuracy: 0.8073 - val_loss: 0.6827 - val_accuracy: 0.7778\n",
      "Epoch 12/20\n",
      "164/164 [==============================] - 68s 417ms/step - loss: 0.4746 - accuracy: 0.8170 - val_loss: 0.6974 - val_accuracy: 0.7738\n",
      "Epoch 13/20\n",
      "164/164 [==============================] - 67s 410ms/step - loss: 0.4343 - accuracy: 0.8363 - val_loss: 0.7301 - val_accuracy: 0.7818\n",
      "Epoch 14/20\n",
      "164/164 [==============================] - 64s 393ms/step - loss: 0.3971 - accuracy: 0.8527 - val_loss: 0.6744 - val_accuracy: 0.7892\n",
      "Epoch 15/20\n",
      "164/164 [==============================] - 64s 391ms/step - loss: 0.3765 - accuracy: 0.8601 - val_loss: 0.6901 - val_accuracy: 0.7812\n",
      "Epoch 16/20\n",
      "164/164 [==============================] - 65s 396ms/step - loss: 0.3934 - accuracy: 0.8557 - val_loss: 0.7194 - val_accuracy: 0.7858\n",
      "Epoch 17/20\n",
      "164/164 [==============================] - 64s 393ms/step - loss: 0.3316 - accuracy: 0.8782 - val_loss: 0.7641 - val_accuracy: 0.7927\n",
      "Epoch 18/20\n",
      "164/164 [==============================] - 64s 391ms/step - loss: 0.3106 - accuracy: 0.8859 - val_loss: 0.8615 - val_accuracy: 0.7795\n",
      "Epoch 19/20\n",
      "164/164 [==============================] - 65s 394ms/step - loss: 0.2898 - accuracy: 0.8891 - val_loss: 0.8891 - val_accuracy: 0.7858\n",
      "Epoch 20/20\n",
      "164/164 [==============================] - 64s 393ms/step - loss: 0.2741 - accuracy: 0.8964 - val_loss: 0.8570 - val_accuracy: 0.7795\n"
     ]
    }
   ],
   "source": [
    "# Treinar o modelo novamente\n",
    "history = model.fit(\n",
    "    np.array(train_images), \n",
    "    train_labels_one_hot, \n",
    "    epochs=20, \n",
    "    batch_size=32, \n",
    "    validation_data=(np.array(val_images), val_labels_one_hot)\n",
    ")"
   ]
  },
  {
   "cell_type": "code",
   "execution_count": 28,
   "id": "c9dcd7f3-dede-45e5-ba4d-ea233d465d2d",
   "metadata": {
    "tags": []
   },
   "outputs": [
    {
     "name": "stdout",
     "output_type": "stream",
     "text": [
      "INFO:tensorflow:Assets written to: trained_model.higher_resolution\\assets\n"
     ]
    },
    {
     "name": "stderr",
     "output_type": "stream",
     "text": [
      "INFO:tensorflow:Assets written to: trained_model.higher_resolution\\assets\n"
     ]
    }
   ],
   "source": [
    "model.save('trained_model.higher_resolution')"
   ]
  },
  {
   "cell_type": "code",
   "execution_count": 32,
   "id": "9bc4ca09-cca4-42bf-836e-9c218b2e55fe",
   "metadata": {
    "tags": []
   },
   "outputs": [],
   "source": [
    "import numpy as np\n",
    "\n",
    "# Salvar imagens e rótulos\n",
    "np.save('train_images.npy', np.array(train_images))\n",
    "np.save('train_labels_one_hot.npy', train_labels_one_hot)\n",
    "np.save('val_images.npy', np.array(val_images))\n",
    "np.save('val_labels_one_hot.npy', val_labels_one_hot)"
   ]
  },
  {
   "cell_type": "code",
   "execution_count": 29,
   "id": "b57fe4f3-3b19-43ac-9927-219c69b912cb",
   "metadata": {
    "tags": []
   },
   "outputs": [
    {
     "name": "stdout",
     "output_type": "stream",
     "text": [
      "55/55 [==============================] - 8s 135ms/step - loss: 0.8570 - accuracy: 0.7795\n",
      "Loss no conjunto de validação: 0.8569734692573547\n",
      "Accuracy no conjunto de validação: 0.7794960141181946\n"
     ]
    }
   ],
   "source": [
    "# Avaliar no conjunto de validação\n",
    "val_loss, val_accuracy = model.evaluate(np.array(val_images), val_labels_one_hot)\n",
    "print(f\"Loss no conjunto de validação: {val_loss}\")\n",
    "print(f\"Accuracy no conjunto de validação: {val_accuracy}\")"
   ]
  },
  {
   "cell_type": "code",
   "execution_count": 30,
   "id": "fbd5aa34-a2f9-4ba0-8f37-f9a63834de27",
   "metadata": {
    "tags": []
   },
   "outputs": [
    {
     "name": "stdout",
     "output_type": "stream",
     "text": [
      "55/55 [==============================] - 5s 86ms/step\n",
      "Matriz de Confusão:\n",
      "[[101  17  12  44   5]\n",
      " [ 12 317  14  14  11]\n",
      " [ 22  10 360  38   2]\n",
      " [ 31  26  53 353   8]\n",
      " [  1  41   7  17 230]]\n",
      "Relatório de Classificação:\n",
      "              precision    recall  f1-score   support\n",
      "\n",
      "    Classe 0       0.60      0.56      0.58       179\n",
      "    Classe 1       0.77      0.86      0.81       368\n",
      "    Classe 2       0.81      0.83      0.82       432\n",
      "    Classe 3       0.76      0.75      0.75       471\n",
      "    Classe 4       0.90      0.78      0.83       296\n",
      "\n",
      "    accuracy                           0.78      1746\n",
      "   macro avg       0.77      0.76      0.76      1746\n",
      "weighted avg       0.78      0.78      0.78      1746\n",
      "\n"
     ]
    }
   ],
   "source": [
    "from sklearn.metrics import confusion_matrix, classification_report\n",
    "import numpy as np\n",
    "\n",
    "# Obter previsões do modelo\n",
    "val_predictions = model.predict(np.array(val_images))\n",
    "\n",
    "# Converter previsões one-hot encoded para rótulos\n",
    "val_predictions_labels = np.argmax(val_predictions, axis=1)\n",
    "val_labels_labels = np.argmax(val_labels_one_hot, axis=1)\n",
    "\n",
    "# Matriz de confusão\n",
    "conf_matrix = confusion_matrix(val_labels_labels, val_predictions_labels)\n",
    "print(\"Matriz de Confusão:\")\n",
    "print(conf_matrix)\n",
    "\n",
    "# Relatório de classificação\n",
    "target_names = ['Classe 0', 'Classe 1', 'Classe 2', 'Classe 3', 'Classe 4']\n",
    "class_report = classification_report(val_labels_labels, val_predictions_labels, target_names=target_names)\n",
    "print(\"Relatório de Classificação:\")\n",
    "print(class_report)\n"
   ]
  },
  {
   "cell_type": "code",
   "execution_count": 31,
   "id": "84f605d6-9edd-4e8e-9282-31365f8e2504",
   "metadata": {},
   "outputs": [
    {
     "data": {
      "image/png": "[encoded data removed]",
      "text/plain": [
       "<Figure size 1000x800 with 2 Axes>"
      ]
     },
     "metadata": {},
     "output_type": "display_data"
    }
   ],
   "source": [
    "import seaborn as sns\n",
    "import matplotlib.pyplot as plt\n",
    "# Visualizar a matriz de confusão\n",
    "plt.figure(figsize=(10, 8))\n",
    "sns.heatmap(conf_matrix, annot=True, fmt='d', cmap='Blues', xticklabels=label_encoder.classes_, yticklabels=label_encoder.classes_)\n",
    "plt.xlabel('Predicted Label')\n",
    "plt.ylabel('True Label')\n",
    "plt.title('Confusion Matrix')\n",
    "plt.show()"
   ]
  },
  {
   "cell_type": "code",
   "execution_count": null,
   "id": "a5dc70ad-33aa-40cf-bfb0-24fd83abcf43",
   "metadata": {},
   "outputs": [],
   "source": []
  }
 ],
 "metadata": {
  "kernelspec": {
   "display_name": "Python 3 (ipykernel)",
   "language": "python",
   "name": "python3"
  },
  "language_info": {
   "codemirror_mode": {
    "name": "ipython",
    "version": 3
   },
   "file_extension": ".py",
   "mimetype": "text/x-python",
   "name": "python",
   "nbconvert_exporter": "python",
   "pygments_lexer": "ipython3",
   "version": "3.11.5"
  },
  "widgets": {
   "application/vnd.jupyter.widget-state+json": {
    "state": {},
    "version_major": 2,
    "version_minor": 0
   }
  }
 },
 "nbformat": 4,
 "nbformat_minor": 5
}

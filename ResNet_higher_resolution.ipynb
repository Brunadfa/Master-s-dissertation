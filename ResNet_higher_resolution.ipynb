{
 "cells": [
  {
   "cell_type": "code",
   "execution_count": 74,
   "id": "0337467c-f7a1-4b4c-8973-791bef7e58de",
   "metadata": {
    "tags": []
   },
   "outputs": [],
   "source": [
    "import os\n",
    "import json\n",
    "import numpy as np\n",
    "from PIL import Image\n",
    "from sklearn.preprocessing import LabelEncoder, OneHotEncoder\n",
    "from sklearn.model_selection import train_test_split\n",
    "import tensorflow as tf\n",
    "from tensorflow.keras.applications import ResNet50\n",
    "from tensorflow.keras.layers import Dense, Flatten, Dropout\n",
    "from tensorflow.keras.models import Model\n",
    "from tensorflow.keras.utils import Sequence"
   ]
  },
  {
   "cell_type": "code",
   "execution_count": 46,
   "id": "55a33b72-5883-4f94-91fc-c57734c0ffe3",
   "metadata": {},
   "outputs": [
    {
     "name": "stdout",
     "output_type": "stream",
     "text": [
      "GPU is not available\n"
     ]
    }
   ],
   "source": [
    "# Verificar se a GPU está disponível\n",
    "print(\"GPU is available\" if tf.config.list_physical_devices('GPU') else \"GPU is not available\")\n"
   ]
  },
  {
   "cell_type": "code",
   "execution_count": 47,
   "id": "f8f6c419-71fd-4c33-a828-dc40958a5ba0",
   "metadata": {
    "tags": []
   },
   "outputs": [],
   "source": [
    "# Diretório onde estão armazenadas as imagens\n",
    "image_dir = r'C:\\Users\\bruna\\OneDrive - Universidade do Minho\\Tese Mestrado em Bioinformática\\AGAR_dataset\\AGAR_dataset\\dataset'\n"
   ]
  },
  {
   "cell_type": "code",
   "execution_count": 78,
   "id": "4ac1939d-0b41-4605-9be5-937ef2eb11b8",
   "metadata": {
    "tags": []
   },
   "outputs": [],
   "source": [
    "# Função para carregar e redimensionar as imagens\n",
    "def load_image(image_path, target_size=(56, 56)):\n",
    "    try:\n",
    "        image = Image.open(image_path)\n",
    "        image = image.resize(target_size)  \n",
    "        return np.array(image) / 255.0  \n",
    "    except Exception as e:\n",
    "        print(f\"Erro ao carregar a imagem {image_path}: {e}\")\n",
    "        return None"
   ]
  },
  {
   "cell_type": "code",
   "execution_count": 79,
   "id": "d59ee610-4e7f-489a-b2df-33df1d992c6c",
   "metadata": {
    "tags": []
   },
   "outputs": [],
   "source": [
    "# Carregar IDs do grupo de treinamento\n",
    "train_ids_file = r'C:\\Users\\bruna\\OneDrive - Universidade do Minho\\Tese Mestrado em Bioinformática\\AGAR_dataset\\AGAR_dataset\\training_lists\\higher_resolution_train.txt'\n",
    "with open(train_ids_file, 'r') as file:\n",
    "    train_ids = [str(id) for id in json.loads(file.read())]"
   ]
  },
  {
   "cell_type": "code",
   "execution_count": 80,
   "id": "3a22ca76-8aca-4b61-a7f6-b312c8058ac6",
   "metadata": {
    "tags": []
   },
   "outputs": [],
   "source": [
    "# Carregar IDs do grupo de validação\n",
    "val_ids_file = r'C:\\Users\\bruna\\OneDrive - Universidade do Minho\\Tese Mestrado em Bioinformática\\AGAR_dataset\\AGAR_dataset\\training_lists\\higher_resolution_val.txt'\n",
    "with open(val_ids_file, 'r') as file:\n",
    "    val_ids = [str(id) for id in json.loads(file.read())]"
   ]
  },
  {
   "cell_type": "code",
   "execution_count": 81,
   "id": "a7a64750-a7cc-46d6-a419-914268243a73",
   "metadata": {},
   "outputs": [],
   "source": [
    "%%capture\n",
    "# Listas para armazenar caminhos de imagem e rótulos correspondentes\n",
    "train_data = []\n",
    "val_data = []\n",
    "\n",
    "# Iterar sobre todos os arquivos no diretório\n",
    "for filename in os.listdir(image_dir):\n",
    "    if filename.endswith('.json'):\n",
    "        json_path = os.path.join(image_dir, filename)\n",
    "        with open(json_path, 'r') as file:\n",
    "            try:\n",
    "                json_data = json.load(file)\n",
    "            except json.JSONDecodeError as e:\n",
    "                print(f\"Erro ao carregar JSON {json_path}: {e}\")\n",
    "                continue\n",
    "        \n",
    "        sample_id = str(json_data.get('sample_id', None))\n",
    "        if sample_id is None:\n",
    "            print(f\"ID da amostra ausente no JSON: {json_path}\")\n",
    "            continue\n",
    "\n",
    "        image_filename = f\"{sample_id}.jpg\"\n",
    "        image_path = os.path.join(image_dir, image_filename)\n",
    "        if not os.path.exists(image_path):\n",
    "            print(f\"Arquivo de imagem não encontrado: {image_path}\")\n",
    "            continue\n",
    "        \n",
    "        classes = json_data.get('classes', [])\n",
    "        if not classes:\n",
    "            print(f\"Chave 'classes' ausente ou vazia no JSON: {json_path}\")\n",
    "            continue\n",
    "        \n",
    "        data_tuple = (image_path, classes[0])\n",
    "        if sample_id in train_ids:\n",
    "            train_data.append(data_tuple)\n",
    "        elif sample_id in val_ids:\n",
    "            val_data.append(data_tuple)"
   ]
  },
  {
   "cell_type": "code",
   "execution_count": 82,
   "id": "7a6aa1b7-8b3f-4dfa-a020-e9893dfecd5b",
   "metadata": {
    "tags": []
   },
   "outputs": [
    {
     "name": "stdout",
     "output_type": "stream",
     "text": [
      "Número de imagens de treinamento carregadas: 5240\n",
      "Número de imagens de validação carregadas: 1746\n"
     ]
    }
   ],
   "source": [
    "# Verificar o número de imagens carregadas\n",
    "print(f\"Número de imagens de treinamento carregadas: {len(train_data)}\")\n",
    "print(f\"Número de imagens de validação carregadas: {len(val_data)}\")"
   ]
  },
  {
   "cell_type": "code",
   "execution_count": 83,
   "id": "ad2c436d-1db1-407e-85b0-a1c148e2a63b",
   "metadata": {
    "tags": []
   },
   "outputs": [],
   "source": [
    "# Separar as imagens e os rótulos (labels)\n",
    "train_images = [data[0] for data in train_data]\n",
    "train_labels = [data[1] for data in train_data]"
   ]
  },
  {
   "cell_type": "code",
   "execution_count": 84,
   "id": "b03a6ba6-db86-459e-9814-51e9229985fe",
   "metadata": {
    "tags": []
   },
   "outputs": [],
   "source": [
    "val_images = [data[0] for data in val_data]\n",
    "val_labels = [data[1] for data in val_data]"
   ]
  },
  {
   "cell_type": "code",
   "execution_count": 85,
   "id": "419734bc-612b-4b07-9d32-a461871e1d91",
   "metadata": {
    "tags": []
   },
   "outputs": [],
   "source": [
    "# Carregar as imagens\n",
    "train_images = [load_image(image_path, target_size=(56, 56)) for image_path in train_images]\n",
    "val_images = [load_image(image_path, target_size=(56, 56)) for image_path in val_images]"
   ]
  },
  {
   "cell_type": "code",
   "execution_count": 86,
   "id": "a604a7de-270d-4051-b42a-9cf49fa33754",
   "metadata": {
    "tags": []
   },
   "outputs": [],
   "source": [
    "# Verificar se alguma imagem falhou ao carregar\n",
    "train_images = [img for img in train_images if img is not None]\n",
    "val_images = [img for img in val_images if img is not None]"
   ]
  },
  {
   "cell_type": "code",
   "execution_count": 87,
   "id": "d5d4c01f-5f8b-4679-a89d-a7ca795b8270",
   "metadata": {
    "tags": []
   },
   "outputs": [],
   "source": [
    "# Converter os rótulos em formato adequado (numérico)\n",
    "label_encoder = LabelEncoder()\n",
    "train_labels = label_encoder.fit_transform(train_labels)\n",
    "val_labels = label_encoder.transform(val_labels)"
   ]
  },
  {
   "cell_type": "code",
   "execution_count": 88,
   "id": "39a8328b-674e-4fe5-a629-b5823f6d6279",
   "metadata": {
    "tags": []
   },
   "outputs": [],
   "source": [
    "from sklearn.preprocessing import LabelEncoder, OneHotEncoder\n",
    "\n",
    "# Use sparse_output no lugar de sparse\n",
    "one_hot_encoder = OneHotEncoder(sparse_output=False)\n",
    "\n",
    "# Ajuste o codificador nos rótulos de treino e transforme-os em one-hot encoding\n",
    "train_labels_one_hot = one_hot_encoder.fit_transform(train_labels.reshape(-1, 1))\n",
    "\n",
    "# Transforme os rótulos de validação\n",
    "val_labels_one_hot = one_hot_encoder.transform(val_labels.reshape(-1, 1))"
   ]
  },
  {
   "cell_type": "code",
   "execution_count": 89,
   "id": "0eba6fc0-0c93-4bc2-b5ae-c72c5466a24b",
   "metadata": {
    "tags": []
   },
   "outputs": [],
   "source": [
    "# Definir um gerador de dados personalizado\n",
    "class DataGenerator(Sequence):\n",
    "    def __init__(self, image_paths, labels, batch_size=16, target_size=(56, 56)):\n",
    "        self.image_paths = image_paths\n",
    "        self.labels = labels\n",
    "        self.batch_size = batch_size\n",
    "        self.target_size = target_size\n",
    "        self.indices = np.arange(len(self.image_paths))\n",
    "    \n",
    "    def __len__(self):\n",
    "        return int(np.ceil(len(self.image_paths) / self.batch_size))\n",
    "    \n",
    "    def __getitem__(self, index):\n",
    "        batch_indices = self.indices[index * self.batch_size:(index + 1) * self.batch_size]\n",
    "        batch_images = [load_image(self.image_paths[i], self.target_size) for i in batch_indices]\n",
    "        batch_labels = self.labels[batch_indices]\n",
    "        return np.array(batch_images), np.array(batch_labels)\n",
    "    \n",
    "    def on_epoch_end(self):\n",
    "        np.random.shuffle(self.indices)"
   ]
  },
  {
   "cell_type": "code",
   "execution_count": 90,
   "id": "38144ddf-d104-4e08-bc6f-dc62f03a8f9f",
   "metadata": {
    "tags": []
   },
   "outputs": [],
   "source": [
    "# Criar geradores para treinamento e validação\n",
    "train_generator = DataGenerator(train_images, train_labels_one_hot, batch_size=16)\n",
    "val_generator = DataGenerator(val_images, val_labels_one_hot, batch_size=16)"
   ]
  },
  {
   "cell_type": "code",
   "execution_count": 91,
   "id": "cd4e89de-5c9c-4981-aa80-822e0b47765c",
   "metadata": {
    "tags": []
   },
   "outputs": [],
   "source": [
    "# Carregar o modelo base ResNet50 com pesos pré-treinados da ImageNet\n",
    "base_model = ResNet50(weights='imagenet', include_top=False, input_shape=(56, 56, 3))"
   ]
  },
  {
   "cell_type": "code",
   "execution_count": 92,
   "id": "2e1c1957-e838-4b72-bc66-8e63193fd6db",
   "metadata": {
    "tags": []
   },
   "outputs": [],
   "source": [
    "# Congelar as camadas da ResNet50 para treinar apenas as camadas personalizadas\n",
    "base_model.trainable = False"
   ]
  },
  {
   "cell_type": "code",
   "execution_count": 93,
   "id": "6412f61d-f5e2-4a79-b055-80f966f15e56",
   "metadata": {
    "tags": []
   },
   "outputs": [],
   "source": [
    "# Adicionar novas camadas no topo do modelo base\n",
    "x = base_model.output\n",
    "x = Flatten()(x)\n",
    "x = Dense(128, activation='relu')(x)\n",
    "x = Dropout(0.5)(x)\n",
    "predictions = Dense(len(label_encoder.classes_), activation='softmax')(x)"
   ]
  },
  {
   "cell_type": "code",
   "execution_count": 94,
   "id": "1f5c49dc-f735-4884-ae95-91dc5e2d71c9",
   "metadata": {
    "tags": []
   },
   "outputs": [],
   "source": [
    "# Criar o modelo final\n",
    "model = Model(inputs=base_model.input, outputs=predictions)"
   ]
  },
  {
   "cell_type": "code",
   "execution_count": 95,
   "id": "fd5128f7-0476-4cab-a66c-e248609162c5",
   "metadata": {
    "tags": []
   },
   "outputs": [],
   "source": [
    "# Fine-tuning \n",
    "# Descongelar as últimas camadas da ResNet50 para fazer fine-tuning\n",
    "for layer in base_model.layers[-10:]:\n",
    "    layer.trainable = True"
   ]
  },
  {
   "cell_type": "code",
   "execution_count": 96,
   "id": "a4629468-e7c5-4af9-a758-f94cc3ee32c4",
   "metadata": {
    "tags": []
   },
   "outputs": [],
   "source": [
    "# Recompilar o modelo \n",
    "model.compile(optimizer=tf.keras.optimizers.Adam(learning_rate=1e-5), \n",
    "              loss='categorical_crossentropy', \n",
    "              metrics=['accuracy'])"
   ]
  },
  {
   "cell_type": "code",
   "execution_count": 100,
   "id": "020365c2-17fd-41d7-92f1-e39f61d1ba96",
   "metadata": {
    "tags": []
   },
   "outputs": [
    {
     "name": "stdout",
     "output_type": "stream",
     "text": [
      "Epoch 1/20\n",
      "328/328 [==============================] - 147s 446ms/step - loss: 1.1667 - accuracy: 0.5109 - val_loss: 1.1762 - val_accuracy: 0.5017\n",
      "Epoch 2/20\n",
      "328/328 [==============================] - 134s 410ms/step - loss: 1.1624 - accuracy: 0.5095 - val_loss: 1.1562 - val_accuracy: 0.5149\n",
      "Epoch 3/20\n",
      "328/328 [==============================] - 132s 403ms/step - loss: 1.1391 - accuracy: 0.5239 - val_loss: 1.1765 - val_accuracy: 0.5017\n",
      "Epoch 4/20\n",
      "328/328 [==============================] - 139s 424ms/step - loss: 1.1463 - accuracy: 0.5145 - val_loss: 1.1256 - val_accuracy: 0.5418\n",
      "Epoch 5/20\n",
      "328/328 [==============================] - 145s 442ms/step - loss: 1.1287 - accuracy: 0.5315 - val_loss: 1.1956 - val_accuracy: 0.5011\n",
      "Epoch 6/20\n",
      "328/328 [==============================] - 141s 431ms/step - loss: 1.1203 - accuracy: 0.5288 - val_loss: 1.1264 - val_accuracy: 0.5384\n",
      "Epoch 7/20\n",
      "328/328 [==============================] - 140s 426ms/step - loss: 1.1182 - accuracy: 0.5330 - val_loss: 1.1745 - val_accuracy: 0.5189\n",
      "Epoch 8/20\n",
      "328/328 [==============================] - 139s 423ms/step - loss: 1.1261 - accuracy: 0.5218 - val_loss: 1.1450 - val_accuracy: 0.5332\n",
      "Epoch 9/20\n",
      "328/328 [==============================] - 132s 404ms/step - loss: 1.1040 - accuracy: 0.5391 - val_loss: 1.1439 - val_accuracy: 0.5155\n",
      "Epoch 10/20\n",
      "328/328 [==============================] - 143s 436ms/step - loss: 1.1024 - accuracy: 0.5412 - val_loss: 1.2409 - val_accuracy: 0.4891\n",
      "Epoch 11/20\n",
      "328/328 [==============================] - 148s 451ms/step - loss: 1.1146 - accuracy: 0.5401 - val_loss: 1.2663 - val_accuracy: 0.4456\n",
      "Epoch 12/20\n",
      "328/328 [==============================] - 142s 432ms/step - loss: 1.0886 - accuracy: 0.5504 - val_loss: 1.1127 - val_accuracy: 0.5498\n",
      "Epoch 13/20\n",
      "328/328 [==============================] - 142s 433ms/step - loss: 1.0825 - accuracy: 0.5523 - val_loss: 1.1118 - val_accuracy: 0.5452\n",
      "Epoch 14/20\n",
      "328/328 [==============================] - 139s 422ms/step - loss: 1.0800 - accuracy: 0.5544 - val_loss: 1.2190 - val_accuracy: 0.4737\n",
      "Epoch 15/20\n",
      "328/328 [==============================] - 133s 406ms/step - loss: 1.0747 - accuracy: 0.5538 - val_loss: 1.1069 - val_accuracy: 0.5515\n",
      "Epoch 16/20\n",
      "328/328 [==============================] - 131s 401ms/step - loss: 1.0598 - accuracy: 0.5540 - val_loss: 1.0893 - val_accuracy: 0.5550\n",
      "Epoch 17/20\n",
      "328/328 [==============================] - 133s 405ms/step - loss: 1.0463 - accuracy: 0.5607 - val_loss: 1.0863 - val_accuracy: 0.5487\n",
      "Epoch 18/20\n",
      "328/328 [==============================] - 133s 407ms/step - loss: 1.0538 - accuracy: 0.5624 - val_loss: 1.1130 - val_accuracy: 0.5452\n",
      "Epoch 19/20\n",
      "328/328 [==============================] - 142s 432ms/step - loss: 1.0396 - accuracy: 0.5651 - val_loss: 1.0618 - val_accuracy: 0.5550\n",
      "Epoch 20/20\n",
      "328/328 [==============================] - 138s 420ms/step - loss: 1.0452 - accuracy: 0.5592 - val_loss: 1.0970 - val_accuracy: 0.5389\n"
     ]
    }
   ],
   "source": [
    "# Continuar o treinamento com fine-tuning\n",
    "history_finetune = model.fit(\n",
    "    np.array(train_images), \n",
    "    train_labels_one_hot, \n",
    "    epochs=20, \n",
    "    batch_size=16, \n",
    "    validation_data=(np.array(val_images), val_labels_one_hot)\n",
    ")"
   ]
  },
  {
   "cell_type": "code",
   "execution_count": 101,
   "id": "90b9adae-7f93-4948-9517-191776b49d5d",
   "metadata": {
    "tags": []
   },
   "outputs": [
    {
     "name": "stdout",
     "output_type": "stream",
     "text": [
      "INFO:tensorflow:Assets written to: trained_model.resnet_higher_resolution\\assets\n"
     ]
    },
    {
     "name": "stderr",
     "output_type": "stream",
     "text": [
      "INFO:tensorflow:Assets written to: trained_model.resnet_higher_resolution\\assets\n"
     ]
    }
   ],
   "source": [
    "model.save('trained_model.resnet_higher_resolution')"
   ]
  },
  {
   "cell_type": "code",
   "execution_count": 102,
   "id": "0865b644-2b80-439c-b1f0-432671292bc5",
   "metadata": {
    "tags": []
   },
   "outputs": [
    {
     "name": "stdout",
     "output_type": "stream",
     "text": [
      "55/55 [==============================] - 13s 241ms/step - loss: 1.0970 - accuracy: 0.5389\n",
      "Loss no conjunto de validação: 1.0970485210418701\n",
      "Accuracy no conjunto de validação: 0.5389461517333984\n"
     ]
    }
   ],
   "source": [
    "# Avaliar no conjunto de validação\n",
    "val_loss, val_accuracy = model.evaluate(np.array(val_images), val_labels_one_hot)\n",
    "print(f\"Loss no conjunto de validação: {val_loss}\")\n",
    "print(f\"Accuracy no conjunto de validação: {val_accuracy}\")"
   ]
  },
  {
   "cell_type": "code",
   "execution_count": 103,
   "id": "953d923f-0053-4226-bca6-19e4cf0f2746",
   "metadata": {
    "tags": []
   },
   "outputs": [
    {
     "name": "stdout",
     "output_type": "stream",
     "text": [
      "55/55 [==============================] - 15s 240ms/step\n",
      "Matriz de Confusão:\n",
      "[[ 14  43  31  70  21]\n",
      " [  4 219  17  91  37]\n",
      " [  8  45 250 111  18]\n",
      " [  3  57  46 346  19]\n",
      " [  7  63  32  82 112]]\n",
      "Relatório de Classificação:\n",
      "              precision    recall  f1-score   support\n",
      "\n",
      "    Classe 0       0.39      0.08      0.13       179\n",
      "    Classe 1       0.51      0.60      0.55       368\n",
      "    Classe 2       0.66      0.58      0.62       432\n",
      "    Classe 3       0.49      0.73      0.59       471\n",
      "    Classe 4       0.54      0.38      0.45       296\n",
      "\n",
      "    accuracy                           0.54      1746\n",
      "   macro avg       0.52      0.47      0.47      1746\n",
      "weighted avg       0.54      0.54      0.52      1746\n",
      "\n"
     ]
    }
   ],
   "source": [
    "from sklearn.metrics import confusion_matrix, classification_report\n",
    "import numpy as np\n",
    "\n",
    "# Obter previsões do modelo\n",
    "val_predictions = model.predict(np.array(val_images))\n",
    "\n",
    "# Converter previsões one-hot encoded para rótulos\n",
    "val_predictions_labels = np.argmax(val_predictions, axis=1)\n",
    "val_labels_labels = np.argmax(val_labels_one_hot, axis=1)\n",
    "\n",
    "# Matriz de confusão\n",
    "conf_matrix = confusion_matrix(val_labels_labels, val_predictions_labels)\n",
    "print(\"Matriz de Confusão:\")\n",
    "print(conf_matrix)\n",
    "\n",
    "# Relatório de classificação\n",
    "target_names = ['Classe 0', 'Classe 1', 'Classe 2', 'Classe 3', 'Classe 4']\n",
    "class_report = classification_report(val_labels_labels, val_predictions_labels, target_names=target_names)\n",
    "print(\"Relatório de Classificação:\")\n",
    "print(class_report)"
   ]
  },
  {
   "cell_type": "code",
   "execution_count": 104,
   "id": "e63eab11-8305-471f-959b-1fb8e273b647",
   "metadata": {
    "tags": []
   },
   "outputs": [],
   "source": [
    "# Salvar a matriz de confusão e o relatório de classificação\n",
    "np.save('confusion_matrix.npy', conf_matrix)"
   ]
  },
  {
   "cell_type": "code",
   "execution_count": 105,
   "id": "63d46605-ccd3-410d-be0a-ded371f1bdaa",
   "metadata": {
    "tags": []
   },
   "outputs": [
    {
     "data": {
      "image/png": "[encoded data removed]",
      "text/plain": [
       "<Figure size 1000x800 with 2 Axes>"
      ]
     },
     "metadata": {},
     "output_type": "display_data"
    }
   ],
   "source": [
    "import seaborn as sns\n",
    "import matplotlib.pyplot as plt\n",
    "# Visualizar a matriz de confusão\n",
    "plt.figure(figsize=(10, 8))\n",
    "sns.heatmap(conf_matrix, annot=True, fmt='d', cmap='Blues', xticklabels=label_encoder.classes_, yticklabels=label_encoder.classes_)\n",
    "plt.xlabel('Predicted Label')\n",
    "plt.ylabel('True Label')\n",
    "plt.title('Confusion Matrix')\n",
    "plt.show()"
   ]
  },
  {
   "cell_type": "code",
   "execution_count": null,
   "id": "774da841-d290-4aad-87be-eafe76e15288",
   "metadata": {},
   "outputs": [],
   "source": []
  },
  {
   "cell_type": "code",
   "execution_count": null,
   "id": "8e5a4b62-be2f-44fe-97eb-6ee5cd941740",
   "metadata": {},
   "outputs": [],
   "source": []
  }
 ],
 "metadata": {
  "kernelspec": {
   "display_name": "Python 3 (ipykernel)",
   "language": "python",
   "name": "python3"
  },
  "language_info": {
   "codemirror_mode": {
    "name": "ipython",
    "version": 3
   },
   "file_extension": ".py",
   "mimetype": "text/x-python",
   "name": "python",
   "nbconvert_exporter": "python",
   "pygments_lexer": "ipython3",
   "version": "3.11.5"
  },
  "widgets": {
   "application/vnd.jupyter.widget-state+json": {
    "state": {},
    "version_major": 2,
    "version_minor": 0
   }
  }
 },
 "nbformat": 4,
 "nbformat_minor": 5
}

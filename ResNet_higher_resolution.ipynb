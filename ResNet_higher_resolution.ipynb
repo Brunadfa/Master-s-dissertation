{
 "cells": [
  {
   "cell_type": "code",
   "execution_count": 1,
   "id": "0337467c-f7a1-4b4c-8973-791bef7e58de",
   "metadata": {
    "tags": []
   },
   "outputs": [],
   "source": [
    "import os\n",
    "import json\n",
    "import numpy as np\n",
    "from PIL import Image\n",
    "from sklearn.preprocessing import LabelEncoder, OneHotEncoder\n",
    "from sklearn.model_selection import train_test_split\n",
    "import tensorflow as tf\n",
    "from tensorflow.keras.applications import ResNet50\n",
    "from tensorflow.keras.layers import Dense, Flatten, Dropout\n",
    "from tensorflow.keras.models import Model"
   ]
  },
  {
   "cell_type": "code",
   "execution_count": 2,
   "id": "55a33b72-5883-4f94-91fc-c57734c0ffe3",
   "metadata": {},
   "outputs": [
    {
     "name": "stdout",
     "output_type": "stream",
     "text": [
      "GPU is not available\n"
     ]
    }
   ],
   "source": [
    "# Verificar se a GPU está disponível\n",
    "print(\"GPU is available\" if tf.config.list_physical_devices('GPU') else \"GPU is not available\")\n"
   ]
  },
  {
   "cell_type": "code",
   "execution_count": 3,
   "id": "f8f6c419-71fd-4c33-a828-dc40958a5ba0",
   "metadata": {
    "tags": []
   },
   "outputs": [],
   "source": [
    "# Diretório onde estão armazenadas as imagens\n",
    "image_dir = r'C:\\Users\\bruna\\OneDrive - Universidade do Minho\\Tese Mestrado em Bioinformática\\AGAR_dataset\\AGAR_dataset\\dataset'\n"
   ]
  },
  {
   "cell_type": "code",
   "execution_count": 4,
   "id": "4ac1939d-0b41-4605-9be5-937ef2eb11b8",
   "metadata": {
    "tags": []
   },
   "outputs": [],
   "source": [
    "# Função para carregar e redimensionar as imagens\n",
    "def load_image(image_path, target_size=(112, 112)):\n",
    "    try:\n",
    "        image = Image.open(image_path)\n",
    "        image = image.resize(target_size)  \n",
    "        return np.array(image) / 255.0  \n",
    "    except Exception as e:\n",
    "        print(f\"Erro ao carregar a imagem {image_path}: {e}\")\n",
    "        return None"
   ]
  },
  {
   "cell_type": "code",
   "execution_count": 5,
   "id": "d59ee610-4e7f-489a-b2df-33df1d992c6c",
   "metadata": {
    "tags": []
   },
   "outputs": [],
   "source": [
    "# Carregar IDs do grupo de treinamento\n",
    "train_ids_file = r'C:\\Users\\bruna\\OneDrive - Universidade do Minho\\Tese Mestrado em Bioinformática\\AGAR_dataset\\AGAR_dataset\\training_lists\\higher_resolution_train.txt'\n",
    "with open(train_ids_file, 'r') as file:\n",
    "    train_ids = [str(id) for id in json.loads(file.read())]"
   ]
  },
  {
   "cell_type": "code",
   "execution_count": 6,
   "id": "3a22ca76-8aca-4b61-a7f6-b312c8058ac6",
   "metadata": {
    "tags": []
   },
   "outputs": [],
   "source": [
    "# Carregar IDs do grupo de validação\n",
    "val_ids_file = r'C:\\Users\\bruna\\OneDrive - Universidade do Minho\\Tese Mestrado em Bioinformática\\AGAR_dataset\\AGAR_dataset\\training_lists\\higher_resolution_val.txt'\n",
    "with open(val_ids_file, 'r') as file:\n",
    "    val_ids = [str(id) for id in json.loads(file.read())]"
   ]
  },
  {
   "cell_type": "code",
   "execution_count": 10,
   "id": "a7a64750-a7cc-46d6-a419-914268243a73",
   "metadata": {},
   "outputs": [],
   "source": [
    "%%capture\n",
    "# Listas para armazenar caminhos de imagem e rótulos correspondentes\n",
    "train_data = []\n",
    "val_data = []\n",
    "\n",
    "# Iterar sobre todos os arquivos no diretório\n",
    "for filename in os.listdir(image_dir):\n",
    "    if filename.endswith('.json'):\n",
    "        json_path = os.path.join(image_dir, filename)\n",
    "        with open(json_path, 'r') as file:\n",
    "            try:\n",
    "                json_data = json.load(file)\n",
    "            except json.JSONDecodeError as e:\n",
    "                print(f\"Erro ao carregar JSON {json_path}: {e}\")\n",
    "                continue\n",
    "        \n",
    "        sample_id = str(json_data.get('sample_id', None))\n",
    "        if sample_id is None:\n",
    "            print(f\"ID da amostra ausente no JSON: {json_path}\")\n",
    "            continue\n",
    "\n",
    "        image_filename = f\"{sample_id}.jpg\"\n",
    "        image_path = os.path.join(image_dir, image_filename)\n",
    "        if not os.path.exists(image_path):\n",
    "            print(f\"Arquivo de imagem não encontrado: {image_path}\")\n",
    "            continue\n",
    "        \n",
    "        classes = json_data.get('classes', [])\n",
    "        if not classes:\n",
    "            print(f\"Chave 'classes' ausente ou vazia no JSON: {json_path}\")\n",
    "            continue\n",
    "        \n",
    "        data_tuple = (image_path, classes[0])\n",
    "        if sample_id in train_ids:\n",
    "            train_data.append(data_tuple)\n",
    "        elif sample_id in val_ids:\n",
    "            val_data.append(data_tuple)"
   ]
  },
  {
   "cell_type": "code",
   "execution_count": 11,
   "id": "7a6aa1b7-8b3f-4dfa-a020-e9893dfecd5b",
   "metadata": {
    "tags": []
   },
   "outputs": [
    {
     "name": "stdout",
     "output_type": "stream",
     "text": [
      "Número de imagens de treinamento carregadas: 5240\n",
      "Número de imagens de validação carregadas: 1746\n"
     ]
    }
   ],
   "source": [
    "# Verificar o número de imagens carregadas\n",
    "print(f\"Número de imagens de treinamento carregadas: {len(train_data)}\")\n",
    "print(f\"Número de imagens de validação carregadas: {len(val_data)}\")"
   ]
  },
  {
   "cell_type": "code",
   "execution_count": 12,
   "id": "ad2c436d-1db1-407e-85b0-a1c148e2a63b",
   "metadata": {
    "tags": []
   },
   "outputs": [],
   "source": [
    "# Separar as imagens e os rótulos (labels)\n",
    "train_images = [data[0] for data in train_data]\n",
    "train_labels = [data[1] for data in train_data]"
   ]
  },
  {
   "cell_type": "code",
   "execution_count": 13,
   "id": "b03a6ba6-db86-459e-9814-51e9229985fe",
   "metadata": {
    "tags": []
   },
   "outputs": [],
   "source": [
    "val_images = [data[0] for data in val_data]\n",
    "val_labels = [data[1] for data in val_data]"
   ]
  },
  {
   "cell_type": "code",
   "execution_count": 14,
   "id": "419734bc-612b-4b07-9d32-a461871e1d91",
   "metadata": {
    "tags": []
   },
   "outputs": [],
   "source": [
    "# Carregar as imagens\n",
    "train_images = [load_image(image_path, target_size=(112, 112)) for image_path in train_images]\n",
    "val_images = [load_image(image_path, target_size=(112, 112)) for image_path in val_images]"
   ]
  },
  {
   "cell_type": "code",
   "execution_count": 15,
   "id": "a604a7de-270d-4051-b42a-9cf49fa33754",
   "metadata": {
    "tags": []
   },
   "outputs": [],
   "source": [
    "# Verificar se alguma imagem falhou ao carregar\n",
    "train_images = [img for img in train_images if img is not None]\n",
    "val_images = [img for img in val_images if img is not None]"
   ]
  },
  {
   "cell_type": "code",
   "execution_count": 16,
   "id": "d5d4c01f-5f8b-4679-a89d-a7ca795b8270",
   "metadata": {
    "tags": []
   },
   "outputs": [],
   "source": [
    "# Converter os rótulos em formato adequado (numérico)\n",
    "label_encoder = LabelEncoder()\n",
    "train_labels = label_encoder.fit_transform(train_labels)\n",
    "val_labels = label_encoder.transform(val_labels)"
   ]
  },
  {
   "cell_type": "code",
   "execution_count": 17,
   "id": "39a8328b-674e-4fe5-a629-b5823f6d6279",
   "metadata": {
    "tags": []
   },
   "outputs": [
    {
     "name": "stderr",
     "output_type": "stream",
     "text": [
      "C:\\Users\\bruna\\anaconda3\\Lib\\site-packages\\sklearn\\preprocessing\\_encoders.py:972: FutureWarning: `sparse` was renamed to `sparse_output` in version 1.2 and will be removed in 1.4. `sparse_output` is ignored unless you leave `sparse` to its default value.\n",
      "  warnings.warn(\n"
     ]
    }
   ],
   "source": [
    "# One-hot encoding dos rótulos\n",
    "one_hot_encoder = OneHotEncoder(sparse=False)\n",
    "train_labels_one_hot = one_hot_encoder.fit_transform(train_labels.reshape(-1, 1))\n",
    "val_labels_one_hot = one_hot_encoder.transform(val_labels.reshape(-1, 1))"
   ]
  },
  {
   "cell_type": "code",
   "execution_count": 18,
   "id": "cd4e89de-5c9c-4981-aa80-822e0b47765c",
   "metadata": {
    "tags": []
   },
   "outputs": [],
   "source": [
    "# Carregar o modelo base ResNet50 com pesos pré-treinados da ImageNet\n",
    "base_model = ResNet50(weights='imagenet', include_top=False, input_shape=(112, 112, 3))"
   ]
  },
  {
   "cell_type": "code",
   "execution_count": 19,
   "id": "2e1c1957-e838-4b72-bc66-8e63193fd6db",
   "metadata": {
    "tags": []
   },
   "outputs": [],
   "source": [
    "# Congelar as camadas da ResNet50 para treinar apenas as camadas personalizadas\n",
    "base_model.trainable = False"
   ]
  },
  {
   "cell_type": "code",
   "execution_count": 20,
   "id": "6412f61d-f5e2-4a79-b055-80f966f15e56",
   "metadata": {
    "tags": []
   },
   "outputs": [],
   "source": [
    "# Adicionar novas camadas no topo do modelo base\n",
    "x = base_model.output\n",
    "x = Flatten()(x)\n",
    "x = Dense(128, activation='relu')(x)\n",
    "x = Dropout(0.5)(x)\n",
    "predictions = Dense(len(label_encoder.classes_), activation='softmax')(x)"
   ]
  },
  {
   "cell_type": "code",
   "execution_count": 21,
   "id": "1f5c49dc-f735-4884-ae95-91dc5e2d71c9",
   "metadata": {
    "tags": []
   },
   "outputs": [],
   "source": [
    "# Criar o modelo final\n",
    "model = Model(inputs=base_model.input, outputs=predictions)"
   ]
  },
  {
   "cell_type": "code",
   "execution_count": 22,
   "id": "fd5128f7-0476-4cab-a66c-e248609162c5",
   "metadata": {
    "tags": []
   },
   "outputs": [],
   "source": [
    "# Fine-tuning \n",
    "# Descongelar as últimas camadas da ResNet50 para fazer fine-tuning\n",
    "for layer in base_model.layers[-10:]:\n",
    "    layer.trainable = True"
   ]
  },
  {
   "cell_type": "code",
   "execution_count": 23,
   "id": "a4629468-e7c5-4af9-a758-f94cc3ee32c4",
   "metadata": {
    "tags": []
   },
   "outputs": [],
   "source": [
    "# Recompilar o modelo \n",
    "model.compile(optimizer=tf.keras.optimizers.Adam(learning_rate=1e-5), \n",
    "              loss='categorical_crossentropy', \n",
    "              metrics=['accuracy'])"
   ]
  },
  {
   "cell_type": "code",
   "execution_count": 31,
   "id": "020365c2-17fd-41d7-92f1-e39f61d1ba96",
   "metadata": {
    "tags": []
   },
   "outputs": [
    {
     "name": "stdout",
     "output_type": "stream",
     "text": [
      "Epoch 1/20\n",
      "164/164 [==============================] - 213s 1s/step - loss: 1.1987 - accuracy: 0.4912 - val_loss: 1.4748 - val_accuracy: 0.3797\n",
      "Epoch 2/20\n",
      "164/164 [==============================] - 216s 1s/step - loss: 1.1937 - accuracy: 0.4914 - val_loss: 1.1833 - val_accuracy: 0.5040\n",
      "Epoch 3/20\n",
      "164/164 [==============================] - 198s 1s/step - loss: 1.1731 - accuracy: 0.5048 - val_loss: 1.2282 - val_accuracy: 0.4536\n",
      "Epoch 4/20\n",
      "164/164 [==============================] - 209s 1s/step - loss: 1.1621 - accuracy: 0.5111 - val_loss: 1.1692 - val_accuracy: 0.5178\n",
      "Epoch 5/20\n",
      "164/164 [==============================] - 235s 1s/step - loss: 1.1551 - accuracy: 0.5168 - val_loss: 1.1403 - val_accuracy: 0.5218\n",
      "Epoch 6/20\n",
      "164/164 [==============================] - 202s 1s/step - loss: 1.1453 - accuracy: 0.5235 - val_loss: 1.1442 - val_accuracy: 0.5132\n",
      "Epoch 7/20\n",
      "164/164 [==============================] - 198s 1s/step - loss: 1.1468 - accuracy: 0.5195 - val_loss: 1.1890 - val_accuracy: 0.4834\n",
      "Epoch 8/20\n",
      "164/164 [==============================] - 197s 1s/step - loss: 1.1261 - accuracy: 0.5233 - val_loss: 1.2818 - val_accuracy: 0.4559\n",
      "Epoch 9/20\n",
      "164/164 [==============================] - 183s 1s/step - loss: 1.1100 - accuracy: 0.5332 - val_loss: 1.1034 - val_accuracy: 0.5172\n",
      "Epoch 10/20\n",
      "164/164 [==============================] - 186s 1s/step - loss: 1.1097 - accuracy: 0.5305 - val_loss: 1.4406 - val_accuracy: 0.4233\n",
      "Epoch 11/20\n",
      "164/164 [==============================] - 182s 1s/step - loss: 1.1191 - accuracy: 0.5330 - val_loss: 1.1164 - val_accuracy: 0.5160\n",
      "Epoch 12/20\n",
      "164/164 [==============================] - 181s 1s/step - loss: 1.0906 - accuracy: 0.5418 - val_loss: 1.2714 - val_accuracy: 0.4765\n",
      "Epoch 13/20\n",
      "164/164 [==============================] - 200s 1s/step - loss: 1.0854 - accuracy: 0.5473 - val_loss: 1.2153 - val_accuracy: 0.4920\n",
      "Epoch 14/20\n",
      "164/164 [==============================] - 220s 1s/step - loss: 1.0843 - accuracy: 0.5540 - val_loss: 1.0783 - val_accuracy: 0.5498\n",
      "Epoch 15/20\n",
      "164/164 [==============================] - 219s 1s/step - loss: 1.0806 - accuracy: 0.5542 - val_loss: 1.3121 - val_accuracy: 0.4559\n",
      "Epoch 16/20\n",
      "164/164 [==============================] - 226s 1s/step - loss: 1.0623 - accuracy: 0.5637 - val_loss: 1.1120 - val_accuracy: 0.5183\n",
      "Epoch 17/20\n",
      "164/164 [==============================] - 231s 1s/step - loss: 1.0492 - accuracy: 0.5664 - val_loss: 1.1031 - val_accuracy: 0.5498\n",
      "Epoch 18/20\n",
      "164/164 [==============================] - 216s 1s/step - loss: 1.0723 - accuracy: 0.5510 - val_loss: 1.1211 - val_accuracy: 0.5281\n",
      "Epoch 19/20\n",
      "164/164 [==============================] - 224s 1s/step - loss: 1.0529 - accuracy: 0.5710 - val_loss: 1.1284 - val_accuracy: 0.5246\n",
      "Epoch 20/20\n",
      "164/164 [==============================] - 233s 1s/step - loss: 1.0565 - accuracy: 0.5645 - val_loss: 1.0871 - val_accuracy: 0.5298\n"
     ]
    }
   ],
   "source": [
    "# Continuar o treinamento com fine-tuning\n",
    "history_finetune = model.fit(\n",
    "    np.array(train_images), \n",
    "    train_labels_one_hot, \n",
    "    epochs=20, \n",
    "    batch_size=32, \n",
    "    validation_data=(np.array(val_images), val_labels_one_hot)\n",
    ")"
   ]
  },
  {
   "cell_type": "code",
   "execution_count": 32,
   "id": "90b9adae-7f93-4948-9517-191776b49d5d",
   "metadata": {
    "tags": []
   },
   "outputs": [
    {
     "name": "stdout",
     "output_type": "stream",
     "text": [
      "INFO:tensorflow:Assets written to: trained_model.resnet_higher_resolution\\assets\n"
     ]
    },
    {
     "name": "stderr",
     "output_type": "stream",
     "text": [
      "INFO:tensorflow:Assets written to: trained_model.resnet_higher_resolution\\assets\n"
     ]
    }
   ],
   "source": [
    "model.save('trained_model.resnet_higher_resolution')"
   ]
  },
  {
   "cell_type": "code",
   "execution_count": 33,
   "id": "0865b644-2b80-439c-b1f0-432671292bc5",
   "metadata": {
    "tags": []
   },
   "outputs": [
    {
     "name": "stdout",
     "output_type": "stream",
     "text": [
      "55/55 [==============================] - 36s 658ms/step - loss: 1.0871 - accuracy: 0.5298\n",
      "Loss no conjunto de validação: 1.0871435403823853\n",
      "Accuracy no conjunto de validação: 0.5297823548316956\n"
     ]
    }
   ],
   "source": [
    "# Avaliar no conjunto de validação\n",
    "val_loss, val_accuracy = model.evaluate(np.array(val_images), val_labels_one_hot)\n",
    "print(f\"Loss no conjunto de validação: {val_loss}\")\n",
    "print(f\"Accuracy no conjunto de validação: {val_accuracy}\")"
   ]
  },
  {
   "cell_type": "code",
   "execution_count": 34,
   "id": "953d923f-0053-4226-bca6-19e4cf0f2746",
   "metadata": {
    "tags": []
   },
   "outputs": [
    {
     "name": "stdout",
     "output_type": "stream",
     "text": [
      "55/55 [==============================] - 36s 649ms/step\n",
      "Matriz de Confusão:\n",
      "[[ 18  21  47  56  37]\n",
      " [ 14 152  20  84  98]\n",
      " [ 17   7 293  81  34]\n",
      " [ 10  33  95 263  70]\n",
      " [  9  24   9  55 199]]\n",
      "Relatório de Classificação:\n",
      "              precision    recall  f1-score   support\n",
      "\n",
      "    Classe 0       0.26      0.10      0.15       179\n",
      "    Classe 1       0.64      0.41      0.50       368\n",
      "    Classe 2       0.63      0.68      0.65       432\n",
      "    Classe 3       0.49      0.56      0.52       471\n",
      "    Classe 4       0.45      0.67      0.54       296\n",
      "\n",
      "    accuracy                           0.53      1746\n",
      "   macro avg       0.50      0.48      0.47      1746\n",
      "weighted avg       0.53      0.53      0.52      1746\n",
      "\n"
     ]
    }
   ],
   "source": [
    "from sklearn.metrics import confusion_matrix, classification_report\n",
    "import numpy as np\n",
    "\n",
    "# Obter previsões do modelo\n",
    "val_predictions = model.predict(np.array(val_images))\n",
    "\n",
    "# Converter previsões one-hot encoded para rótulos\n",
    "val_predictions_labels = np.argmax(val_predictions, axis=1)\n",
    "val_labels_labels = np.argmax(val_labels_one_hot, axis=1)\n",
    "\n",
    "# Matriz de confusão\n",
    "conf_matrix = confusion_matrix(val_labels_labels, val_predictions_labels)\n",
    "print(\"Matriz de Confusão:\")\n",
    "print(conf_matrix)\n",
    "\n",
    "# Relatório de classificação\n",
    "target_names = ['Classe 0', 'Classe 1', 'Classe 2', 'Classe 3', 'Classe 4']\n",
    "class_report = classification_report(val_labels_labels, val_predictions_labels, target_names=target_names)\n",
    "print(\"Relatório de Classificação:\")\n",
    "print(class_report)"
   ]
  },
  {
   "cell_type": "code",
   "execution_count": 35,
   "id": "e63eab11-8305-471f-959b-1fb8e273b647",
   "metadata": {
    "tags": []
   },
   "outputs": [],
   "source": [
    "# Salvar a matriz de confusão e o relatório de classificação\n",
    "np.save('confusion_matrix.npy', conf_matrix)"
   ]
  },
  {
   "cell_type": "code",
   "execution_count": 36,
   "id": "63d46605-ccd3-410d-be0a-ded371f1bdaa",
   "metadata": {
    "tags": []
   },
   "outputs": [
    {
     "data": {
      "image/png": "[encoded data removed]",
      "text/plain": [
       "<Figure size 1000x800 with 2 Axes>"
      ]
     },
     "metadata": {},
     "output_type": "display_data"
    }
   ],
   "source": [
    "import seaborn as sns\n",
    "import matplotlib.pyplot as plt\n",
    "# Visualizar a matriz de confusão\n",
    "plt.figure(figsize=(10, 8))\n",
    "sns.heatmap(conf_matrix, annot=True, fmt='d', cmap='Blues', xticklabels=label_encoder.classes_, yticklabels=label_encoder.classes_)\n",
    "plt.xlabel('Predicted Label')\n",
    "plt.ylabel('True Label')\n",
    "plt.title('Confusion Matrix')\n",
    "plt.show()"
   ]
  },
  {
   "cell_type": "code",
   "execution_count": null,
   "id": "774da841-d290-4aad-87be-eafe76e15288",
   "metadata": {},
   "outputs": [],
   "source": []
  },
  {
   "cell_type": "code",
   "execution_count": null,
   "id": "8e5a4b62-be2f-44fe-97eb-6ee5cd941740",
   "metadata": {},
   "outputs": [],
   "source": []
  }
 ],
 "metadata": {
  "kernelspec": {
   "display_name": "Python 3 (ipykernel)",
   "language": "python",
   "name": "python3"
  },
  "language_info": {
   "codemirror_mode": {
    "name": "ipython",
    "version": 3
   },
   "file_extension": ".py",
   "mimetype": "text/x-python",
   "name": "python",
   "nbconvert_exporter": "python",
   "pygments_lexer": "ipython3",
   "version": "3.11.5"
  },
  "widgets": {
   "application/vnd.jupyter.widget-state+json": {
    "state": {},
    "version_major": 2,
    "version_minor": 0
   }
  }
 },
 "nbformat": 4,
 "nbformat_minor": 5
}

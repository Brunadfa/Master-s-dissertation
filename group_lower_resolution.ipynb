{
 "cells": [
  {
   "cell_type": "code",
   "execution_count": 4,
   "id": "16cf5eb3-83a1-4703-94d6-574481d77243",
   "metadata": {
    "tags": []
   },
   "outputs": [],
   "source": [
    "import os\n",
    "import json\n",
    "import numpy as np\n",
    "import cv2\n",
    "from sklearn.preprocessing import LabelEncoder\n",
    "import tensorflow as tf\n",
    "from tensorflow.keras import layers, models\n",
    "from PIL import Image\n",
    "from sklearn.model_selection import train_test_split"
   ]
  },
  {
   "cell_type": "code",
   "execution_count": 5,
   "id": "32a70323-fe76-4058-863f-e50a4c79497b",
   "metadata": {
    "tags": []
   },
   "outputs": [],
   "source": [
    "from torch.utils.data import Dataset\n",
    "import torchvision.transforms as transforms\n",
    "import torch\n",
    "import torch.nn as nn\n",
    "import torch.optim as optim\n",
    "from torch.utils.data import DataLoader\n",
    "from sklearn.model_selection import StratifiedKFold"
   ]
  },
  {
   "cell_type": "code",
   "execution_count": 6,
   "id": "34e34936-eb4a-4f56-a855-ec47d8e87825",
   "metadata": {
    "tags": []
   },
   "outputs": [
    {
     "name": "stdout",
     "output_type": "stream",
     "text": [
      "GPU is not available\n"
     ]
    }
   ],
   "source": [
    "# Import OS libraries\n",
    "import os\n",
    "import itertools\n",
    "\n",
    "# Data handling tools\n",
    "import cv2\n",
    "import matplotlib.pyplot as plt\n",
    "import numpy as np\n",
    "import pandas as pd\n",
    "import seaborn as sns\n",
    "\n",
    "from sklearn.model_selection import train_test_split\n",
    "from sklearn.metrics import confusion_matrix , classification_report\n",
    "\n",
    "\n",
    "# Deep learning libraries\n",
    "import tensorflow as tf\n",
    "from tensorflow import keras\n",
    "from tensorflow.keras.models import Sequential\n",
    "\n",
    "from tensorflow.keras.preprocessing.image import ImageDataGenerator\n",
    "from tensorflow.keras.layers import Conv2D, MaxPooling2D, Flatten, Dense,  BatchNormalization, Activation, Dropout  \n",
    "from tensorflow.keras.callbacks import EarlyStopping, ModelCheckpoint\n",
    "from tensorflow.keras.optimizers import Adam , Adamax\n",
    "from tensorflow.keras import regularizers\n",
    "\n",
    "# from googleapiclient.discovery import build\n",
    "# from google.oauth2.credentials import Credentials\n",
    "# from googleapiclient.http import MediaFileUpload\n",
    "\n",
    "# Suppress warnings\n",
    "import warnings\n",
    "warnings.filterwarnings(\"ignore\")\n",
    "\n",
    "\n",
    "# Check GPU availability\n",
    "print(\"GPU is available\" if tf.config.list_physical_devices('GPU') else \"GPU is not available\")\n",
    "\n",
    "sns.set_style('whitegrid')"
   ]
  },
  {
   "cell_type": "code",
   "execution_count": 7,
   "id": "b868d0b4-5181-4c90-ae47-0b8a739373bc",
   "metadata": {
    "tags": []
   },
   "outputs": [],
   "source": [
    "# Diretório onde estão armazenadas as imagens sem ser separadas por pastas\n",
    "image_dir = r'C:\\Users\\bruna\\OneDrive - Universidade do Minho\\Tese Mestrado em Bioinformática\\AGAR_dataset\\AGAR_dataset\\dataset'"
   ]
  },
  {
   "cell_type": "code",
   "execution_count": 8,
   "id": "e1b7a526-3d0c-4a0a-8054-3f822aba93a3",
   "metadata": {
    "tags": []
   },
   "outputs": [],
   "source": [
    "def load_image(image_path, target_size=(112, 112)):\n",
    "    try:\n",
    "        image = Image.open(image_path)\n",
    "        image = image.resize(target_size)  \n",
    "        return np.array(image) / 255.0  \n",
    "    except Exception as e:\n",
    "        print(f\"Erro ao carregar a imagem {image_path}: {e}\")\n",
    "        return None"
   ]
  },
  {
   "cell_type": "code",
   "execution_count": 9,
   "id": "5be98ac4-9ad5-4964-8b81-00c1245e9828",
   "metadata": {
    "tags": []
   },
   "outputs": [],
   "source": [
    "# Carregar IDs do grupo de treinamento de um arquivo de texto\n",
    "train_ids_file = r'C:\\Users\\bruna\\OneDrive - Universidade do Minho\\Tese Mestrado em Bioinformática\\AGAR_dataset\\AGAR_dataset\\training_lists\\lower_resolution_train.txt'\n",
    "with open(train_ids_file, 'r') as file:\n",
    "    train_ids = [str(id) for id in json.loads(file.read())]"
   ]
  },
  {
   "cell_type": "code",
   "execution_count": 10,
   "id": "0008c52c-db6c-4db8-b248-f8b512b7d4f9",
   "metadata": {
    "tags": []
   },
   "outputs": [],
   "source": [
    "# Carregar IDs do grupo de validação de um arquivo de texto\n",
    "val_ids_file = r'C:\\Users\\bruna\\OneDrive - Universidade do Minho\\Tese Mestrado em Bioinformática\\AGAR_dataset\\AGAR_dataset\\training_lists\\lower_resolution_val.txt'\n",
    "with open(val_ids_file, 'r') as file:\n",
    "    val_ids = [str(id) for id in json.loads(file.read())]"
   ]
  },
  {
   "cell_type": "code",
   "execution_count": 11,
   "id": "d9b1bace-e722-4be4-8cfa-fc39abf6422b",
   "metadata": {
    "tags": []
   },
   "outputs": [
    {
     "name": "stdout",
     "output_type": "stream",
     "text": [
      "IDs de treinamento carregados: ['16078', '16831', '16073', '16072', '16830'] ... (3319 no total)\n",
      "IDs de validação carregados: ['14175', '14176', '15540', '14172', '14678'] ... (1107 no total)\n"
     ]
    }
   ],
   "source": [
    "# Verificar se os IDs foram carregados corretamente\n",
    "print(f\"IDs de treinamento carregados: {train_ids[:5]} ... ({len(train_ids)} no total)\")\n",
    "print(f\"IDs de validação carregados: {val_ids[:5]} ... ({len(val_ids)} no total)\")"
   ]
  },
  {
   "cell_type": "code",
   "execution_count": 12,
   "id": "8f04eea9-9927-4adc-8528-c782a27014fb",
   "metadata": {
    "tags": []
   },
   "outputs": [],
   "source": [
    "%%capture\n",
    "# Listas para armazenar caminhos de imagem e rótulos correspondentes\n",
    "train_data = []\n",
    "val_data = []\n",
    "\n",
    "# Iterar sobre todos os arquivos no diretório\n",
    "for filename in os.listdir(image_dir):\n",
    "    if filename.endswith('.json'):\n",
    "        json_path = os.path.join(image_dir, filename)\n",
    "        with open(json_path, 'r') as file:\n",
    "            try:\n",
    "                json_data = json.load(file)\n",
    "            except json.JSONDecodeError as e:\n",
    "                print(f\"Erro ao carregar JSON {json_path}: {e}\")\n",
    "                continue\n",
    "        \n",
    "        sample_id = str(json_data.get('sample_id', None))\n",
    "        if sample_id is None:\n",
    "            print(f\"ID da amostra ausente no JSON: {json_path}\")\n",
    "            continue\n",
    "\n",
    "        image_filename = f\"{sample_id}.jpg\"\n",
    "        image_path = os.path.join(image_dir, image_filename)\n",
    "        if not os.path.exists(image_path):\n",
    "            print(f\"Arquivo de imagem não encontrado: {image_path}\")\n",
    "            continue\n",
    "        \n",
    "        classes = json_data.get('classes', [])\n",
    "        if not classes:\n",
    "            print(f\"Chave 'classes' ausente ou vazia no JSON: {json_path}\")\n",
    "            continue\n",
    "        \n",
    "        data_tuple = (image_path, classes[0])\n",
    "        if sample_id in train_ids:\n",
    "            train_data.append(data_tuple)\n",
    "        elif sample_id in val_ids:\n",
    "            val_data.append(data_tuple)"
   ]
  },
  {
   "cell_type": "code",
   "execution_count": 13,
   "id": "c771e9d8-4c21-434d-8e65-6a3f9264a6ef",
   "metadata": {
    "tags": []
   },
   "outputs": [
    {
     "name": "stdout",
     "output_type": "stream",
     "text": [
      "Número de imagens de treinamento carregadas: 3318\n",
      "Número de imagens de validação carregadas: 1106\n"
     ]
    }
   ],
   "source": [
    "# Verificar o número de imagens carregadas\n",
    "print(f\"Número de imagens de treinamento carregadas: {len(train_data)}\")\n",
    "print(f\"Número de imagens de validação carregadas: {len(val_data)}\")"
   ]
  },
  {
   "cell_type": "code",
   "execution_count": 14,
   "id": "f4ca7157-48ae-4b8e-858a-18fe8ec6097a",
   "metadata": {
    "tags": []
   },
   "outputs": [],
   "source": [
    "train_images = [data[0] for data in train_data]\n",
    "train_labels = [data[1] for data in train_data]"
   ]
  },
  {
   "cell_type": "code",
   "execution_count": 15,
   "id": "57264185-a569-4f7b-adc9-59cbd737a6b9",
   "metadata": {
    "tags": []
   },
   "outputs": [],
   "source": [
    "# Separar as imagens e os rótulos (labels) para validação\n",
    "val_images = [data[0] for data in val_data]\n",
    "val_labels = [data[1] for data in val_data]"
   ]
  },
  {
   "cell_type": "code",
   "execution_count": 16,
   "id": "eee306ca-7758-4d40-ac8d-738b2fabbfba",
   "metadata": {
    "tags": []
   },
   "outputs": [],
   "source": [
    "# Verificar se as listas estão vazias\n",
    "if len(train_images) == 0:\n",
    "    print(\"Nenhuma imagem de treinamento foi carregada.\")\n",
    "if len(val_images) == 0:\n",
    "    print(\"Nenhuma imagem de validação foi carregada.\")"
   ]
  },
  {
   "cell_type": "code",
   "execution_count": 17,
   "id": "22be5826-01da-4e8d-a617-bc8190eccf08",
   "metadata": {
    "tags": []
   },
   "outputs": [],
   "source": [
    "# Filtrar caminhos de imagem válidos\n",
    "train_images = [img for img in train_images if img is not None]\n",
    "val_images = [img for img in val_images if img is not None]"
   ]
  },
  {
   "cell_type": "code",
   "execution_count": 20,
   "id": "a49aa361-3344-457f-8abf-065b4eb09164",
   "metadata": {
    "tags": []
   },
   "outputs": [],
   "source": [
    "# Converter as imagens em tensores e normalizar, se necessário\n",
    "train_images = [load_image(image_path, target_size=(112, 112)) for image_path in train_images]\n",
    "val_images = [load_image(image_path, target_size=(112, 112)) for image_path in val_images]"
   ]
  },
  {
   "cell_type": "code",
   "execution_count": 21,
   "id": "4d223038-f1f3-4449-8302-9e595c646a5b",
   "metadata": {
    "tags": []
   },
   "outputs": [],
   "source": [
    "# Verificar se alguma imagem falhou ao carregar\n",
    "train_images = [img for img in train_images if img is not None]\n",
    "val_images = [img for img in val_images if img is not None]"
   ]
  },
  {
   "cell_type": "code",
   "execution_count": 22,
   "id": "b114a0eb-64ba-4047-833f-7e8b140bfa0c",
   "metadata": {
    "tags": []
   },
   "outputs": [
    {
     "name": "stdout",
     "output_type": "stream",
     "text": [
      "Shape de train_images antes da codificação: (3318, 112, 112, 3)\n",
      "Shape de train_labels antes da codificação: (3318,)\n",
      "Shape de val_images antes da codificação: (1106, 112, 112, 3)\n",
      "Shape de val_labels antes da codificação: (1106,)\n"
     ]
    }
   ],
   "source": [
    "# Verificar o shape das imagens e dos rótulos antes da codificação\n",
    "print(\"Shape de train_images antes da codificação:\", np.array(train_images).shape)\n",
    "print(\"Shape de train_labels antes da codificação:\", np.array(train_labels).shape)\n",
    "print(\"Shape de val_images antes da codificação:\", np.array(val_images).shape)\n",
    "print(\"Shape de val_labels antes da codificação:\", np.array(val_labels).shape)"
   ]
  },
  {
   "cell_type": "code",
   "execution_count": 23,
   "id": "87ea2d45-050c-4193-bf9b-fd1505a18c38",
   "metadata": {},
   "outputs": [
    {
     "name": "stdout",
     "output_type": "stream",
     "text": [
      "Todas as imagens de treinamento têm a forma correta: True\n",
      "Todas as imagens de validação têm a forma correta: True\n"
     ]
    }
   ],
   "source": [
    "def check_image_shapes(image_list):\n",
    "    for i, img in enumerate(image_list):\n",
    "        if not isinstance(img, np.ndarray):\n",
    "            print(f\"Item at index {i} is not a numpy array.\")\n",
    "            return False\n",
    "        if img.shape != (112, 112, 3):\n",
    "            print(f\"Image at index {i} has shape {img.shape} instead of (112, 112, 3).\")\n",
    "            return False\n",
    "    return True\n",
    "\n",
    "# Verificar shapes das imagens de treinamento\n",
    "train_images_valid = check_image_shapes(train_images)\n",
    "print(f\"Todas as imagens de treinamento têm a forma correta: {train_images_valid}\")\n",
    "\n",
    "# Verificar shapes das imagens de validação\n",
    "val_images_valid = check_image_shapes(val_images)\n",
    "print(f\"Todas as imagens de validação têm a forma correta: {val_images_valid}\")"
   ]
  },
  {
   "cell_type": "code",
   "execution_count": 24,
   "id": "e319f4d8-28a9-4eb2-8890-6ec2f272c48f",
   "metadata": {},
   "outputs": [],
   "source": [
    "# Converter os rótulos em formato adequado (numérico), se necessário\n",
    "label_encoder = LabelEncoder()\n",
    "train_labels = label_encoder.fit_transform(train_labels)\n",
    "val_labels = label_encoder.transform(val_labels)"
   ]
  },
  {
   "cell_type": "code",
   "execution_count": 25,
   "id": "027ca3f6-ed71-4d12-8a2d-8270e7b76dc1",
   "metadata": {},
   "outputs": [
    {
     "name": "stdout",
     "output_type": "stream",
     "text": [
      "Número de classes: 5\n"
     ]
    }
   ],
   "source": [
    "# Verificar o número de classes\n",
    "num_classes = len(label_encoder.classes_)\n",
    "print(f\"Número de classes: {num_classes}\")"
   ]
  },
  {
   "cell_type": "code",
   "execution_count": 26,
   "id": "ebe89d1e-0d0c-4d0c-a15f-1abce11d18f4",
   "metadata": {},
   "outputs": [
    {
     "name": "stdout",
     "output_type": "stream",
     "text": [
      "Shape de train_labels_one_hot após o one-hot encoding: (3318, 5)\n",
      "Shape de val_labels_one_hot após o one-hot encoding: (1106, 5)\n"
     ]
    }
   ],
   "source": [
    "# One-hot encoding dos rótulos após a divisão\n",
    "from sklearn.preprocessing import LabelEncoder, OneHotEncoder\n",
    "one_hot_encoder = OneHotEncoder(sparse=False)\n",
    "train_labels_one_hot = one_hot_encoder.fit_transform(train_labels.reshape(-1, 1))\n",
    "val_labels_one_hot = one_hot_encoder.transform(val_labels.reshape(-1, 1))\n",
    "\n",
    "# Verificar os shapes dos rótulos one-hot encoded\n",
    "print(\"Shape de train_labels_one_hot após o one-hot encoding:\", train_labels_one_hot.shape)\n",
    "print(\"Shape de val_labels_one_hot após o one-hot encoding:\", val_labels_one_hot.shape)"
   ]
  },
  {
   "cell_type": "code",
   "execution_count": 27,
   "id": "d60cfd0e-db83-49c3-8919-620886ba870e",
   "metadata": {},
   "outputs": [],
   "source": [
    "#  Criar o modelo da CNN\n",
    "model = tf.keras.Sequential([\n",
    "    tf.keras.layers.Conv2D(32, (3, 3), activation='relu', input_shape=(112, 112, 3)),\n",
    "    tf.keras.layers.MaxPooling2D((2, 2)),\n",
    "    tf.keras.layers.Conv2D(64, (3, 3), activation='relu'),\n",
    "    tf.keras.layers.MaxPooling2D((2, 2)),\n",
    "    tf.keras.layers.Conv2D(128, (3, 3), activation='relu'),\n",
    "    tf.keras.layers.MaxPooling2D((2, 2)),\n",
    "    tf.keras.layers.Flatten(),\n",
    "    tf.keras.layers.Dense(128, activation='relu'),\n",
    "    tf.keras.layers.Dropout(0.5),\n",
    "    tf.keras.layers.Dense(len(label_encoder.classes_), activation='softmax')\n",
    "])"
   ]
  },
  {
   "cell_type": "code",
   "execution_count": 28,
   "id": "ec3efdc7-c4f7-4297-9649-85a6a359ed65",
   "metadata": {},
   "outputs": [],
   "source": [
    "#  Compilar o modelo\n",
    "model.compile(optimizer='adam',\n",
    "              loss='categorical_crossentropy',\n",
    "              metrics=['accuracy'])"
   ]
  },
  {
   "cell_type": "code",
   "execution_count": 29,
   "id": "10be09ad-5a77-4ed9-8703-3e4669b49aa6",
   "metadata": {},
   "outputs": [
    {
     "name": "stdout",
     "output_type": "stream",
     "text": [
      "Shape de train_images: (3318, 112, 112, 3)\n",
      "Shape de train_labels_one_hot: (3318, 5)\n",
      "Shape de val_images: (1106, 112, 112, 3)\n",
      "Shape de val_labels_one_hot: (1106, 5)\n"
     ]
    }
   ],
   "source": [
    "import numpy as np\n",
    "\n",
    "# Verificar as dimensões dos dados\n",
    "print(\"Shape de train_images:\", np.array(train_images).shape)\n",
    "print(\"Shape de train_labels_one_hot:\", train_labels_one_hot.shape)\n",
    "print(\"Shape de val_images:\", np.array(val_images).shape)\n",
    "print(\"Shape de val_labels_one_hot:\", val_labels_one_hot.shape)\n"
   ]
  },
  {
   "cell_type": "code",
   "execution_count": 43,
   "id": "9d064ee5-1854-4b56-a879-f9f34c2de534",
   "metadata": {},
   "outputs": [
    {
     "name": "stdout",
     "output_type": "stream",
     "text": [
      "Epoch 1/20\n",
      "104/104 [==============================] - 47s 430ms/step - loss: 1.2988 - accuracy: 0.3912 - val_loss: 1.0958 - val_accuracy: 0.5687\n",
      "Epoch 2/20\n",
      "104/104 [==============================] - 40s 382ms/step - loss: 1.0448 - accuracy: 0.5338 - val_loss: 0.8497 - val_accuracy: 0.6763\n",
      "Epoch 3/20\n",
      "104/104 [==============================] - 38s 369ms/step - loss: 0.8281 - accuracy: 0.6489 - val_loss: 0.7019 - val_accuracy: 0.7441\n",
      "Epoch 4/20\n",
      "104/104 [==============================] - 38s 370ms/step - loss: 0.6784 - accuracy: 0.7170 - val_loss: 0.4922 - val_accuracy: 0.8210\n",
      "Epoch 5/20\n",
      "104/104 [==============================] - 39s 374ms/step - loss: 0.5057 - accuracy: 0.8044 - val_loss: 0.3406 - val_accuracy: 0.8897\n",
      "Epoch 6/20\n",
      "104/104 [==============================] - 38s 367ms/step - loss: 0.4200 - accuracy: 0.8336 - val_loss: 0.3558 - val_accuracy: 0.8644\n",
      "Epoch 7/20\n",
      "104/104 [==============================] - 39s 375ms/step - loss: 0.3742 - accuracy: 0.8586 - val_loss: 0.2349 - val_accuracy: 0.9123\n",
      "Epoch 8/20\n",
      "104/104 [==============================] - 38s 369ms/step - loss: 0.3324 - accuracy: 0.8816 - val_loss: 0.2582 - val_accuracy: 0.9177\n",
      "Epoch 9/20\n",
      "104/104 [==============================] - 39s 371ms/step - loss: 0.2962 - accuracy: 0.8927 - val_loss: 0.2639 - val_accuracy: 0.9204\n",
      "Epoch 10/20\n",
      "104/104 [==============================] - 39s 373ms/step - loss: 0.2625 - accuracy: 0.9066 - val_loss: 0.2475 - val_accuracy: 0.9213\n",
      "Epoch 11/20\n",
      "104/104 [==============================] - 39s 372ms/step - loss: 0.2344 - accuracy: 0.9111 - val_loss: 0.1893 - val_accuracy: 0.9458\n",
      "Epoch 12/20\n",
      "104/104 [==============================] - 38s 368ms/step - loss: 0.1928 - accuracy: 0.9358 - val_loss: 0.1974 - val_accuracy: 0.9430\n",
      "Epoch 13/20\n",
      "104/104 [==============================] - 38s 369ms/step - loss: 0.1858 - accuracy: 0.9361 - val_loss: 0.1816 - val_accuracy: 0.9412\n",
      "Epoch 14/20\n",
      "104/104 [==============================] - 38s 365ms/step - loss: 0.1885 - accuracy: 0.9337 - val_loss: 0.1695 - val_accuracy: 0.9539\n",
      "Epoch 15/20\n",
      "104/104 [==============================] - 38s 367ms/step - loss: 0.1580 - accuracy: 0.9458 - val_loss: 0.1720 - val_accuracy: 0.9512\n",
      "Epoch 16/20\n",
      "104/104 [==============================] - 39s 371ms/step - loss: 0.1374 - accuracy: 0.9506 - val_loss: 0.1816 - val_accuracy: 0.9548\n",
      "Epoch 17/20\n",
      "104/104 [==============================] - 38s 368ms/step - loss: 0.1522 - accuracy: 0.9500 - val_loss: 0.1586 - val_accuracy: 0.9647\n",
      "Epoch 18/20\n",
      "104/104 [==============================] - 38s 368ms/step - loss: 0.1211 - accuracy: 0.9587 - val_loss: 0.1718 - val_accuracy: 0.9611\n",
      "Epoch 19/20\n",
      "104/104 [==============================] - 41s 399ms/step - loss: 0.1208 - accuracy: 0.9566 - val_loss: 0.1818 - val_accuracy: 0.9539\n",
      "Epoch 20/20\n",
      "104/104 [==============================] - 42s 406ms/step - loss: 0.1199 - accuracy: 0.9593 - val_loss: 0.2065 - val_accuracy: 0.9539\n"
     ]
    }
   ],
   "source": [
    "# Treinar o modelo novamente\n",
    "history = model.fit(\n",
    "    np.array(train_images), \n",
    "    train_labels_one_hot, \n",
    "    epochs=20, \n",
    "    batch_size=32, \n",
    "    validation_data=(np.array(val_images), val_labels_one_hot)\n",
    ")"
   ]
  },
  {
   "cell_type": "code",
   "execution_count": 45,
   "id": "8bbeea4e-4ca8-4421-a38f-4ed87661bd85",
   "metadata": {
    "tags": []
   },
   "outputs": [
    {
     "name": "stdout",
     "output_type": "stream",
     "text": [
      "35/35 [==============================] - 3s 75ms/step - loss: 0.2065 - accuracy: 0.9539\n",
      "Loss no conjunto de validação: 0.20646382868289948\n",
      "Accuracy no conjunto de validação: 0.9538878798484802\n"
     ]
    }
   ],
   "source": [
    "# Avaliar no conjunto de validação\n",
    "val_loss, val_accuracy = model.evaluate(np.array(val_images), val_labels_one_hot)\n",
    "print(f\"Loss no conjunto de validação: {val_loss}\")\n",
    "print(f\"Accuracy no conjunto de validação: {val_accuracy}\")"
   ]
  },
  {
   "cell_type": "code",
   "execution_count": 46,
   "id": "3569b7a0-6ec1-4944-bd8a-5cc08dfd6fd4",
   "metadata": {
    "tags": []
   },
   "outputs": [
    {
     "name": "stdout",
     "output_type": "stream",
     "text": [
      "INFO:tensorflow:Assets written to: trained_model.loser_resolution\\assets\n"
     ]
    },
    {
     "name": "stderr",
     "output_type": "stream",
     "text": [
      "INFO:tensorflow:Assets written to: trained_model.loser_resolution\\assets\n"
     ]
    }
   ],
   "source": [
    "model.save('trained_model.lower_resolution')"
   ]
  },
  {
   "cell_type": "code",
   "execution_count": 49,
   "id": "77d92e57-8061-4a7e-85a9-0102309f647d",
   "metadata": {
    "tags": []
   },
   "outputs": [],
   "source": [
    "def predict_images(model, image_path, img_height, img_width):\n",
    "    img = load_img(image_path, target_size=(img_height, img_width))\n",
    "    img_array = img_to_array(img)\n",
    "    img_array = np.expand_dims(img_array, axis=0) / 255.0\n",
    "    prediction = model.predict(img_array)\n",
    "    return prediction"
   ]
  },
  {
   "cell_type": "code",
   "execution_count": 50,
   "id": "3b50cf25-1fd8-4d29-a238-22dbe723b1b3",
   "metadata": {
    "tags": []
   },
   "outputs": [],
   "source": [
    "def get_class_label(prediction, class_indices):\n",
    "    max_prob_index = np.argmax(prediction)  # Encontra o índice da maior probabilidade\n",
    "    class_label = list(class_indices.keys())[max_prob_index]  # Obtém a classe correspondente ao índice\n",
    "    return class_label"
   ]
  },
  {
   "cell_type": "code",
   "execution_count": 51,
   "id": "55de0cca-4086-4abd-acf6-968268244078",
   "metadata": {
    "tags": []
   },
   "outputs": [
    {
     "name": "stdout",
     "output_type": "stream",
     "text": [
      "Diretório C:\\Users\\bruna\\OneDrive - Universidade do Minho\\Microbialdataset\\images encontrado.\n"
     ]
    }
   ],
   "source": [
    "import os\n",
    "\n",
    "data_dir = r'C:\\Users\\bruna\\OneDrive - Universidade do Minho\\Microbialdataset\\images'\n",
    "if not os.path.exists(data_dir):\n",
    "    print(f\"Diretório {data_dir} não encontrado.\")\n",
    "else:\n",
    "    print(f\"Diretório {data_dir} encontrado.\")\n"
   ]
  },
  {
   "cell_type": "code",
   "execution_count": 52,
   "id": "5a11afa2-3d5a-42df-bbeb-3a61cf3144ec",
   "metadata": {
    "tags": []
   },
   "outputs": [
    {
     "name": "stdout",
     "output_type": "stream",
     "text": [
      "Found 116293 images belonging to 6 classes.\n"
     ]
    }
   ],
   "source": [
    "# Gerar um ImageDataGenerator para carregar imagens do diretório\n",
    "train_datagen = ImageDataGenerator(rescale=1./255)\n",
    "train_generator = train_datagen.flow_from_directory(\n",
    "    data_dir,\n",
    "    target_size=(224,224),\n",
    "    batch_size=32,\n",
    "    class_mode='categorical')"
   ]
  },
  {
   "cell_type": "code",
   "execution_count": 53,
   "id": "a7be59e1-d782-4791-89ec-9fbb32d9c58f",
   "metadata": {
    "tags": []
   },
   "outputs": [],
   "source": [
    "class_indices = train_generator.class_indices"
   ]
  },
  {
   "cell_type": "code",
   "execution_count": 69,
   "id": "aa2bdc88-3233-45a8-b155-3ec29729f1d0",
   "metadata": {
    "tags": []
   },
   "outputs": [],
   "source": [
    "image_path = \"C:\\\\Users\\\\bruna\\\\OneDrive - Universidade do Minho\\\\Microbialdataset\\\\images\\\\0\\\\class_0\\\\1169_3.png\""
   ]
  },
  {
   "cell_type": "code",
   "execution_count": 70,
   "id": "bfc4221a-e6d9-4bf8-830b-c9281656b8ab",
   "metadata": {
    "tags": []
   },
   "outputs": [
    {
     "name": "stdout",
     "output_type": "stream",
     "text": [
      "1/1 [==============================] - 0s 41ms/step\n"
     ]
    }
   ],
   "source": [
    "import os\n",
    "import numpy as np\n",
    "import matplotlib.pyplot as plt\n",
    "from tensorflow.keras.preprocessing.image import ImageDataGenerator, load_img, img_to_array\n",
    "from tensorflow.keras.models import load_model\n",
    "\n",
    "prediction = predict_images(model, image_path, 112,112)\n",
    "class_label = get_class_label(prediction, class_indices)"
   ]
  },
  {
   "cell_type": "code",
   "execution_count": 71,
   "id": "b2924aad-58ad-4187-a92c-c06b2f28977a",
   "metadata": {
    "tags": []
   },
   "outputs": [
    {
     "name": "stdout",
     "output_type": "stream",
     "text": [
      "A imagem 'C:\\Users\\bruna\\OneDrive - Universidade do Minho\\Microbialdataset\\images\\0\\class_0\\1169_3.png' foi classificada como '1' com probabilidade 56.06%.\n"
     ]
    }
   ],
   "source": [
    "print(f\"A imagem '{image_path}' foi classificada como '{class_label}' com probabilidade {np.max(prediction) * 100:.2f}%.\") #Está errado"
   ]
  },
  {
   "cell_type": "code",
   "execution_count": 72,
   "id": "5f8ebdfc-d570-4e1c-9f1f-6177ab82bc7c",
   "metadata": {
    "tags": []
   },
   "outputs": [],
   "source": [
    "# Carregar a imagem usando load_img\n",
    "img = load_img(image_path, target_size=(112, 112))"
   ]
  },
  {
   "cell_type": "code",
   "execution_count": 73,
   "id": "33646182-2e4b-4d98-8936-9261b618a311",
   "metadata": {
    "tags": []
   },
   "outputs": [
    {
     "data": {
      "image/png": "[encoded data removed]",
      "text/plain": [
       "<Figure size 640x480 with 1 Axes>"
      ]
     },
     "metadata": {},
     "output_type": "display_data"
    }
   ],
   "source": [
    "plt.imshow(img)\n",
    "plt.title('image class 1')  # Adiciona um título\n",
    "plt.xlabel('Largura')           # Rótulo para o eixo x\n",
    "plt.ylabel('Altura')            # Rótulo para o eixo y\n",
    "plt.show()"
   ]
  },
  {
   "cell_type": "code",
   "execution_count": 30,
   "id": "a4a9f4e9-efdc-4b76-a12b-ecbaecd46341",
   "metadata": {},
   "outputs": [
    {
     "name": "stdout",
     "output_type": "stream",
     "text": [
      "Modelo carregado com sucesso!\n"
     ]
    }
   ],
   "source": [
    "import tensorflow as tf\n",
    "\n",
    "# Carregar o modelo salvo\n",
    "model = tf.keras.models.load_model('trained_model.lower_resolution')\n",
    "print(\"Modelo carregado com sucesso!\")\n"
   ]
  },
  {
   "cell_type": "code",
   "execution_count": 34,
   "id": "01c70bc6-7156-49ac-9bef-87225fd35f8b",
   "metadata": {
    "tags": []
   },
   "outputs": [],
   "source": [
    "# Salvar arrays para uso futuro\n",
    "np.save('val_images.npy', np.array(val_images))\n",
    "np.save('val_labels_one_hot.npy', val_labels_one_hot)"
   ]
  },
  {
   "cell_type": "code",
   "execution_count": 31,
   "id": "f2d82095-e24d-4ea0-af29-97c085d6a7bf",
   "metadata": {
    "tags": []
   },
   "outputs": [
    {
     "name": "stdout",
     "output_type": "stream",
     "text": [
      "35/35 [==============================] - 3s 76ms/step\n"
     ]
    }
   ],
   "source": [
    "import numpy as np\n",
    "# Fazer previsões nas imagens de validação\n",
    "val_predictions = model.predict(np.array(val_images))\n",
    "\n",
    "# Converter previsões para rótulos de classe\n",
    "val_predictions_classes = np.argmax(val_predictions, axis=1)\n",
    "val_true_classes = np.argmax(val_labels_one_hot, axis=1)\n"
   ]
  },
  {
   "cell_type": "code",
   "execution_count": 32,
   "id": "2987b5f4-1e98-45b7-bb43-d44ce4d588ab",
   "metadata": {},
   "outputs": [
    {
     "data": {
      "image/png": "[encoded data removed]",
      "text/plain": [
       "<Figure size 1000x800 with 2 Axes>"
      ]
     },
     "metadata": {},
     "output_type": "display_data"
    }
   ],
   "source": [
    "from sklearn.metrics import confusion_matrix\n",
    "import seaborn as sns\n",
    "import matplotlib.pyplot as plt\n",
    "\n",
    "# Criar a matriz de confusão\n",
    "conf_matrix = confusion_matrix(val_true_classes, val_predictions_classes)\n",
    "\n",
    "# Visualizar a matriz de confusão\n",
    "plt.figure(figsize=(10, 8))\n",
    "sns.heatmap(conf_matrix, annot=True, fmt='d', cmap='Blues', xticklabels=label_encoder.classes_, yticklabels=label_encoder.classes_)\n",
    "plt.xlabel('Predicted Label')\n",
    "plt.ylabel('True Label')\n",
    "plt.title('Confusion Matrix')\n",
    "plt.show()\n"
   ]
  },
  {
   "cell_type": "code",
   "execution_count": 33,
   "id": "98158cac-6d63-4c0b-bcbe-48fb0b673b4e",
   "metadata": {
    "tags": []
   },
   "outputs": [
    {
     "ename": "NameError",
     "evalue": "name 'val_labels_labels' is not defined",
     "output_type": "error",
     "traceback": [
      "\u001b[1;31m---------------------------------------------------------------------------\u001b[0m",
      "\u001b[1;31mNameError\u001b[0m                                 Traceback (most recent call last)",
      "Cell \u001b[1;32mIn[33], line 2\u001b[0m\n\u001b[0;32m      1\u001b[0m \u001b[38;5;66;03m# Matriz de confusão\u001b[39;00m\n\u001b[1;32m----> 2\u001b[0m conf_matrix \u001b[38;5;241m=\u001b[39m confusion_matrix(val_labels_labels, val_predictions_labels)\n\u001b[0;32m      3\u001b[0m \u001b[38;5;28mprint\u001b[39m(\u001b[38;5;124m\"\u001b[39m\u001b[38;5;124mMatriz de Confusão:\u001b[39m\u001b[38;5;124m\"\u001b[39m)\n\u001b[0;32m      4\u001b[0m \u001b[38;5;28mprint\u001b[39m(conf_matrix)\n",
      "\u001b[1;31mNameError\u001b[0m: name 'val_labels_labels' is not defined"
     ]
    }
   ],
   "source": [
    "# Matriz de confusão\n",
    "conf_matrix = confusion_matrix(val_labels_labels, val_predictions_labels)\n",
    "print(\"Matriz de Confusão:\")\n",
    "print(conf_matrix)\n",
    "\n",
    "# Relatório de classificação\n",
    "# Converter os valores de one_hot_encoder.categories_[0] para strings\n",
    "target_names = [str(int(label)) for label in one_hot_encoder.categories_[0]]\n",
    "class_report = classification_report(val_labels_labels, val_predictions_labels, target_names=target_names)\n",
    "print(\"Relatório de Classificação:\")\n",
    "print(class_report)"
   ]
  },
  {
   "cell_type": "code",
   "execution_count": null,
   "id": "98b0dcce-87ba-4157-b5eb-6b957f754141",
   "metadata": {},
   "outputs": [],
   "source": []
  }
 ],
 "metadata": {
  "kernelspec": {
   "display_name": "Python 3 (ipykernel)",
   "language": "python",
   "name": "python3"
  },
  "language_info": {
   "codemirror_mode": {
    "name": "ipython",
    "version": 3
   },
   "file_extension": ".py",
   "mimetype": "text/x-python",
   "name": "python",
   "nbconvert_exporter": "python",
   "pygments_lexer": "ipython3",
   "version": "3.11.5"
  },
  "widgets": {
   "application/vnd.jupyter.widget-state+json": {
    "state": {},
    "version_major": 2,
    "version_minor": 0
   }
  }
 },
 "nbformat": 4,
 "nbformat_minor": 5
}

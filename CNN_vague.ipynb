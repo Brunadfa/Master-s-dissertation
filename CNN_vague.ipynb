{
 "cells": [
  {
   "cell_type": "code",
   "execution_count": 1,
   "id": "58287de5-77b2-4671-af64-a7a93e2ea8e5",
   "metadata": {
    "tags": []
   },
   "outputs": [],
   "source": [
    "# Import OS libraries\n",
    "import os\n",
    "import json\n",
    "import numpy as np\n",
    "import cv2\n",
    "from sklearn.preprocessing import LabelEncoder\n",
    "import tensorflow as tf\n",
    "from tensorflow.keras import layers, models\n",
    "from PIL import Image\n",
    "from sklearn.model_selection import train_test_split"
   ]
  },
  {
   "cell_type": "code",
   "execution_count": 2,
   "id": "dcab1a9e-1eba-4b7e-bc5b-a473c5c54c58",
   "metadata": {
    "tags": []
   },
   "outputs": [],
   "source": [
    "# Import OS libraries\n",
    "from torch.utils.data import Dataset\n",
    "import torchvision.transforms as transforms\n",
    "import torch\n",
    "import torch.nn as nn\n",
    "import torch.optim as optim\n",
    "from torch.utils.data import DataLoader\n",
    "from sklearn.model_selection import StratifiedKFold"
   ]
  },
  {
   "cell_type": "code",
   "execution_count": 3,
   "id": "ab6f21e3-d5cb-4ccd-acdb-0b1243c4e684",
   "metadata": {
    "tags": []
   },
   "outputs": [
    {
     "name": "stdout",
     "output_type": "stream",
     "text": [
      "GPU is not available\n"
     ]
    }
   ],
   "source": [
    "# Import OS libraries\n",
    "import os\n",
    "import itertools\n",
    "\n",
    "# Data handling tools\n",
    "import cv2\n",
    "import matplotlib.pyplot as plt\n",
    "import numpy as np\n",
    "import pandas as pd\n",
    "import seaborn as sns\n",
    "\n",
    "from sklearn.model_selection import train_test_split\n",
    "from sklearn.metrics import confusion_matrix , classification_report\n",
    "\n",
    "\n",
    "# Deep learning libraries\n",
    "import tensorflow as tf\n",
    "from tensorflow import keras\n",
    "from tensorflow.keras.models import Sequential\n",
    "\n",
    "from tensorflow.keras.preprocessing.image import ImageDataGenerator\n",
    "from tensorflow.keras.layers import Conv2D, MaxPooling2D, Flatten, Dense,  BatchNormalization, Activation, Dropout  \n",
    "from tensorflow.keras.callbacks import EarlyStopping, ModelCheckpoint\n",
    "from tensorflow.keras.optimizers import Adam , Adamax\n",
    "from tensorflow.keras import regularizers\n",
    "\n",
    "# from googleapiclient.discovery import build\n",
    "# from google.oauth2.credentials import Credentials\n",
    "# from googleapiclient.http import MediaFileUpload\n",
    "\n",
    "# Suppress warnings\n",
    "import warnings\n",
    "warnings.filterwarnings(\"ignore\")\n",
    "\n",
    "\n",
    "# Check GPU availability\n",
    "print(\"GPU is available\" if tf.config.list_physical_devices('GPU') else \"GPU is not available\")\n",
    "\n",
    "sns.set_style('whitegrid')"
   ]
  },
  {
   "cell_type": "code",
   "execution_count": 4,
   "id": "d3afe15a-9f8c-4a91-bbb1-8000bfe28c6b",
   "metadata": {
    "tags": []
   },
   "outputs": [],
   "source": [
    "# Directory where images are stored without being separated by folders\n",
    "image_dir = r'C:\\Users\\bruna\\OneDrive - Universidade do Minho\\Tese Mestrado em Bioinformática\\AGAR_dataset\\AGAR_dataset\\dataset'"
   ]
  },
  {
   "cell_type": "code",
   "execution_count": 5,
   "id": "029420cd-25b0-4a4a-bbea-ac5611de5492",
   "metadata": {
    "tags": []
   },
   "outputs": [],
   "source": [
    "#load image, resize, normalise and convert \n",
    "def load_image(image_path, target_size=(112, 112)):\n",
    "    try:\n",
    "        image = Image.open(image_path)\n",
    "        image = image.resize(target_size)  \n",
    "        return np.array(image) / 255.0  \n",
    "    except Exception as e:\n",
    "        print(f\"Erro ao carregar a imagem {image_path}: {e}\")\n",
    "        return None"
   ]
  },
  {
   "cell_type": "code",
   "execution_count": 6,
   "id": "f6bdf881-5f03-4eb4-8f1c-285b000be266",
   "metadata": {
    "tags": []
   },
   "outputs": [],
   "source": [
    "# Load training group IDs from a text file\n",
    "train_ids_file = r'C:\\Users\\bruna\\OneDrive - Universidade do Minho\\Tese Mestrado em Bioinformática\\AGAR_dataset\\AGAR_dataset\\training_lists\\vague_train.txt'\n",
    "with open(train_ids_file, 'r') as file:\n",
    "    train_ids = [str(id) for id in json.loads(file.read())]"
   ]
  },
  {
   "cell_type": "code",
   "execution_count": 7,
   "id": "111abcd0-062d-4574-8b3f-19161e70e83d",
   "metadata": {
    "tags": []
   },
   "outputs": [],
   "source": [
    "# Load validation group IDs from a text file\n",
    "val_ids_file = r'C:\\Users\\bruna\\OneDrive - Universidade do Minho\\Tese Mestrado em Bioinformática\\AGAR_dataset\\AGAR_dataset\\training_lists\\vague_val.txt'\n",
    "with open(val_ids_file, 'r') as file:\n",
    "    val_ids = [str(id) for id in json.loads(file.read())]"
   ]
  },
  {
   "cell_type": "code",
   "execution_count": 8,
   "id": "fe96617d-9d36-4ec7-846f-483612991f0a",
   "metadata": {
    "tags": []
   },
   "outputs": [
    {
     "name": "stdout",
     "output_type": "stream",
     "text": [
      "IDs de treinamento carregados: ['11829', '11828', '11825', '11824', '11827'] ... (644 no total)\n",
      "IDs de validação carregados: ['12480', '12395', '12486', '12485', '12236'] ... (215 no total)\n"
     ]
    }
   ],
   "source": [
    "# Check that the IDs have been loaded correctly\n",
    "print(f\"IDs de treinamento carregados: {train_ids[:5]} ... ({len(train_ids)} no total)\")\n",
    "print(f\"IDs de validação carregados: {val_ids[:5]} ... ({len(val_ids)} no total)\")"
   ]
  },
  {
   "cell_type": "code",
   "execution_count": 9,
   "id": "de0ce3e7-1666-4f7c-a4fa-4d8da14ddc39",
   "metadata": {
    "tags": []
   },
   "outputs": [],
   "source": [
    "%%capture\n",
    "# Lists for storing image paths and corresponding labels\n",
    "train_data = []\n",
    "val_data = []\n",
    "\n",
    "# Iterate over all the files in the directory\n",
    "for filename in os.listdir(image_dir):\n",
    "    if filename.endswith('.json'):\n",
    "        json_path = os.path.join(image_dir, filename)\n",
    "        with open(json_path, 'r') as file:\n",
    "            try:\n",
    "                json_data = json.load(file)\n",
    "            except json.JSONDecodeError as e:\n",
    "                print(f\"Erro ao carregar JSON {json_path}: {e}\")\n",
    "                continue\n",
    "        \n",
    "        sample_id = str(json_data.get('sample_id', None))\n",
    "        if sample_id is None:\n",
    "            print(f\"ID da amostra ausente no JSON: {json_path}\")\n",
    "            continue\n",
    "\n",
    "        image_filename = f\"{sample_id}.jpg\"\n",
    "        image_path = os.path.join(image_dir, image_filename)\n",
    "        if not os.path.exists(image_path):\n",
    "            print(f\"Arquivo de imagem não encontrado: {image_path}\")\n",
    "            continue\n",
    "        \n",
    "        classes = json_data.get('classes', [])\n",
    "        if not classes:\n",
    "            print(f\"Chave 'classes' ausente ou vazia no JSON: {json_path}\")\n",
    "            continue\n",
    "        \n",
    "        data_tuple = (image_path, classes[0])\n",
    "        if sample_id in train_ids:\n",
    "            train_data.append(data_tuple)\n",
    "        elif sample_id in val_ids:\n",
    "            val_data.append(data_tuple)"
   ]
  },
  {
   "cell_type": "code",
   "execution_count": 10,
   "id": "fe30694c-7c56-4e26-bf0d-c2ff34060745",
   "metadata": {
    "tags": []
   },
   "outputs": [
    {
     "name": "stdout",
     "output_type": "stream",
     "text": [
      "Número de imagens de treinamento carregadas: 642\n",
      "Número de imagens de validação carregadas: 214\n"
     ]
    }
   ],
   "source": [
    "# Check the number of images uploaded\n",
    "print(f\"Número de imagens de treinamento carregadas: {len(train_data)}\")\n",
    "print(f\"Número de imagens de validação carregadas: {len(val_data)}\")"
   ]
  },
  {
   "cell_type": "code",
   "execution_count": 11,
   "id": "fafc5e97-55c7-4210-a91d-3deb7f04e417",
   "metadata": {
    "tags": []
   },
   "outputs": [],
   "source": [
    "train_images = [data[0] for data in train_data]\n",
    "train_labels = [data[1] for data in train_data]"
   ]
  },
  {
   "cell_type": "code",
   "execution_count": 12,
   "id": "27108d8e-7655-45f0-8f47-42465b275c1d",
   "metadata": {
    "tags": []
   },
   "outputs": [],
   "source": [
    "# Separate images and labels for validation\n",
    "val_images = [data[0] for data in val_data]\n",
    "val_labels = [data[1] for data in val_data]"
   ]
  },
  {
   "cell_type": "code",
   "execution_count": 13,
   "id": "9a818550-c280-4b50-859f-0226fc7e4c3c",
   "metadata": {
    "tags": []
   },
   "outputs": [],
   "source": [
    "# Check if the lists are empty\n",
    "if len(train_images) == 0:\n",
    "    print(\"Nenhuma imagem de treinamento foi carregada.\")\n",
    "if len(val_images) == 0:\n",
    "    print(\"Nenhuma imagem de validação foi carregada.\")"
   ]
  },
  {
   "cell_type": "code",
   "execution_count": 14,
   "id": "1f94f861-a621-4ca5-8b0e-a49223619b49",
   "metadata": {
    "tags": []
   },
   "outputs": [],
   "source": [
    "# Filter valid image paths\n",
    "train_images = [img for img in train_images if img is not None]\n",
    "val_images = [img for img in val_images if img is not None]"
   ]
  },
  {
   "cell_type": "code",
   "execution_count": 15,
   "id": "35cf8e5e-6dc9-4f5b-a8a9-1fe246fd084c",
   "metadata": {
    "tags": []
   },
   "outputs": [],
   "source": [
    "# Convert the images into tensors and normalise if necessary\n",
    "train_images = [load_image(image_path, target_size=(112, 112)) for image_path in train_images]\n",
    "val_images = [load_image(image_path, target_size=(112, 112)) for image_path in val_images]"
   ]
  },
  {
   "cell_type": "code",
   "execution_count": 16,
   "id": "f9813865-8937-49d6-9169-ab3cc7b3dce8",
   "metadata": {},
   "outputs": [],
   "source": [
    "# Check if an image has failed to load\n",
    "train_images = [img for img in train_images if img is not None]\n",
    "val_images = [img for img in val_images if img is not None]"
   ]
  },
  {
   "cell_type": "code",
   "execution_count": 17,
   "id": "2ef62a6e-e939-4cf4-b622-f59d5ef18cde",
   "metadata": {},
   "outputs": [
    {
     "name": "stdout",
     "output_type": "stream",
     "text": [
      "Shape de train_images antes da codificação: (642, 112, 112, 3)\n",
      "Shape de train_labels antes da codificação: (642,)\n",
      "Shape de val_images antes da codificação: (214, 112, 112, 3)\n",
      "Shape de val_labels antes da codificação: (214,)\n"
     ]
    }
   ],
   "source": [
    "# Check the shape of images and labels before coding\n",
    "print(\"Shape de train_images antes da codificação:\", np.array(train_images).shape)\n",
    "print(\"Shape de train_labels antes da codificação:\", np.array(train_labels).shape)\n",
    "print(\"Shape de val_images antes da codificação:\", np.array(val_images).shape)\n",
    "print(\"Shape de val_labels antes da codificação:\", np.array(val_labels).shape)"
   ]
  },
  {
   "cell_type": "code",
   "execution_count": null,
   "id": "7048b7b9-5129-45a3-8567-97670ae38373",
   "metadata": {
    "tags": []
   },
   "outputs": [],
   "source": [
    "def check_image_shapes(image_list):\n",
    "    for i, img in enumerate(image_list):\n",
    "        if not isinstance(img, np.ndarray):\n",
    "            print(f\"Item at index {i} is not a numpy array.\")\n",
    "            return False\n",
    "        if img.shape != (224, 224, 3):\n",
    "            print(f\"Image at index {i} has shape {img.shape} instead of (112, 112, 3).\")\n",
    "            return False\n",
    "    return True\n",
    "\n",
    "# Check shapes of training images\n",
    "train_images_valid = check_image_shapes(train_images)\n",
    "print(f\"Todas as imagens de treinamento têm a forma correta: {train_images_valid}\")\n",
    "\n",
    "# Check shapes of validation images\n",
    "val_images_valid = check_image_shapes(val_images)\n",
    "print(f\"Todas as imagens de validação têm a forma correta: {val_images_valid}\")"
   ]
  },
  {
   "cell_type": "code",
   "execution_count": 20,
   "id": "0a91cafd-4848-4047-9cf1-0abebc2d0e1c",
   "metadata": {},
   "outputs": [],
   "source": [
    "# Convert the labels to the appropriate (numeric) format, if necessary\n",
    "label_encoder = LabelEncoder()\n",
    "train_labels = label_encoder.fit_transform(train_labels)\n",
    "val_labels = label_encoder.transform(val_labels)"
   ]
  },
  {
   "cell_type": "code",
   "execution_count": 21,
   "id": "4e6bc2ed-aba7-4033-9eb6-a12466327928",
   "metadata": {},
   "outputs": [
    {
     "name": "stdout",
     "output_type": "stream",
     "text": [
      "Número de classes: 3\n"
     ]
    }
   ],
   "source": [
    "# Check the number of classes\n",
    "num_classes = len(label_encoder.classes_)\n",
    "print(f\"Número de classes: {num_classes}\")\n"
   ]
  },
  {
   "cell_type": "code",
   "execution_count": 22,
   "id": "c43f7eb3-072b-4504-b36b-c0ee3eae9da7",
   "metadata": {},
   "outputs": [
    {
     "name": "stdout",
     "output_type": "stream",
     "text": [
      "Shape de train_labels_one_hot após o one-hot encoding: (642, 3)\n",
      "Shape de val_labels_one_hot após o one-hot encoding: (214, 3)\n"
     ]
    }
   ],
   "source": [
    "# One-hot encoding of labels after splitting\n",
    "from sklearn.preprocessing import LabelEncoder, OneHotEncoder\n",
    "one_hot_encoder = OneHotEncoder(sparse=False)\n",
    "train_labels_one_hot = one_hot_encoder.fit_transform(train_labels.reshape(-1, 1))\n",
    "val_labels_one_hot = one_hot_encoder.transform(val_labels.reshape(-1, 1))\n",
    "\n",
    "# Verificar os shapes dos rótulos one-hot encoded\n",
    "print(\"Shape de train_labels_one_hot após o one-hot encoding:\", train_labels_one_hot.shape)\n",
    "print(\"Shape de val_labels_one_hot após o one-hot encoding:\", val_labels_one_hot.shape)"
   ]
  },
  {
   "cell_type": "code",
   "execution_count": 23,
   "id": "f3c04bb9-50e7-4cd2-aedf-be6abed27c34",
   "metadata": {},
   "outputs": [],
   "source": [
    "#create the cnn model \n",
    "model = tf.keras.Sequential([\n",
    "    tf.keras.layers.Conv2D(32, (3, 3), activation='relu', input_shape=(112, 112, 3)),\n",
    "    tf.keras.layers.MaxPooling2D((2, 2)),\n",
    "    tf.keras.layers.Conv2D(64, (3, 3), activation='relu'),\n",
    "    tf.keras.layers.MaxPooling2D((2, 2)),\n",
    "    tf.keras.layers.Conv2D(128, (3, 3), activation='relu'),\n",
    "    tf.keras.layers.MaxPooling2D((2, 2)),\n",
    "    tf.keras.layers.Flatten(),\n",
    "    tf.keras.layers.Dense(128, activation='relu'),\n",
    "    tf.keras.layers.Dropout(0.5),\n",
    "    tf.keras.layers.Dense(len(label_encoder.classes_), activation='softmax')\n",
    "])"
   ]
  },
  {
   "cell_type": "code",
   "execution_count": 24,
   "id": "7572177e-c0f0-4cad-bf3e-02eb4e23027f",
   "metadata": {},
   "outputs": [],
   "source": [
    "#compile the model \n",
    "model.compile(optimizer='adam',\n",
    "              loss='categorical_crossentropy',\n",
    "              metrics=['accuracy'])"
   ]
  },
  {
   "cell_type": "code",
   "execution_count": 25,
   "id": "4c3ac018-529e-4c89-8dea-9ea42ff8e270",
   "metadata": {
    "tags": []
   },
   "outputs": [
    {
     "name": "stdout",
     "output_type": "stream",
     "text": [
      "Shape de train_images: (642, 112, 112, 3)\n",
      "Shape de train_labels_one_hot: (642, 3)\n",
      "Shape de val_images: (214, 112, 112, 3)\n",
      "Shape de val_labels_one_hot: (214, 3)\n"
     ]
    }
   ],
   "source": [
    "import numpy as np\n",
    "\n",
    "#check data dimensions \n",
    "print(\"Shape de train_images:\", np.array(train_images).shape)\n",
    "print(\"Shape de train_labels_one_hot:\", train_labels_one_hot.shape)\n",
    "print(\"Shape de val_images:\", np.array(val_images).shape)\n",
    "print(\"Shape de val_labels_one_hot:\", val_labels_one_hot.shape)\n"
   ]
  },
  {
   "cell_type": "code",
   "execution_count": 26,
   "id": "05d62ff7-079f-4221-9651-09d6ae422ad9",
   "metadata": {
    "tags": []
   },
   "outputs": [
    {
     "name": "stdout",
     "output_type": "stream",
     "text": [
      "Epoch 1/20\n",
      "21/21 [==============================] - 12s 462ms/step - loss: 0.9805 - accuracy: 0.4984 - val_loss: 0.8897 - val_accuracy: 0.7383\n",
      "Epoch 2/20\n",
      "21/21 [==============================] - 9s 423ms/step - loss: 0.8261 - accuracy: 0.6682 - val_loss: 0.7886 - val_accuracy: 0.6168\n",
      "Epoch 3/20\n",
      "21/21 [==============================] - 9s 429ms/step - loss: 0.6997 - accuracy: 0.7492 - val_loss: 0.6330 - val_accuracy: 0.7477\n",
      "Epoch 4/20\n",
      "21/21 [==============================] - 8s 389ms/step - loss: 0.6208 - accuracy: 0.7804 - val_loss: 0.5818 - val_accuracy: 0.8224\n",
      "Epoch 5/20\n",
      "21/21 [==============================] - 9s 441ms/step - loss: 0.6224 - accuracy: 0.7773 - val_loss: 0.5799 - val_accuracy: 0.8318\n",
      "Epoch 6/20\n",
      "21/21 [==============================] - 9s 410ms/step - loss: 0.6654 - accuracy: 0.7461 - val_loss: 0.5743 - val_accuracy: 0.8178\n",
      "Epoch 7/20\n",
      "21/21 [==============================] - 9s 442ms/step - loss: 0.5976 - accuracy: 0.7928 - val_loss: 0.5010 - val_accuracy: 0.8224\n",
      "Epoch 8/20\n",
      "21/21 [==============================] - 9s 441ms/step - loss: 0.5486 - accuracy: 0.8037 - val_loss: 0.4890 - val_accuracy: 0.8224\n",
      "Epoch 9/20\n",
      "21/21 [==============================] - 9s 447ms/step - loss: 0.5333 - accuracy: 0.8209 - val_loss: 0.4533 - val_accuracy: 0.8271\n",
      "Epoch 10/20\n",
      "21/21 [==============================] - 9s 414ms/step - loss: 0.5485 - accuracy: 0.8271 - val_loss: 0.4458 - val_accuracy: 0.8551\n",
      "Epoch 11/20\n",
      "21/21 [==============================] - 8s 405ms/step - loss: 0.5027 - accuracy: 0.8349 - val_loss: 0.4200 - val_accuracy: 0.8551\n",
      "Epoch 12/20\n",
      "21/21 [==============================] - 9s 440ms/step - loss: 0.5047 - accuracy: 0.8287 - val_loss: 0.4083 - val_accuracy: 0.8645\n",
      "Epoch 13/20\n",
      "21/21 [==============================] - 9s 415ms/step - loss: 0.4696 - accuracy: 0.8489 - val_loss: 0.4195 - val_accuracy: 0.8645\n",
      "Epoch 14/20\n",
      "21/21 [==============================] - 8s 401ms/step - loss: 0.4790 - accuracy: 0.8583 - val_loss: 0.4019 - val_accuracy: 0.8458\n",
      "Epoch 15/20\n",
      "21/21 [==============================] - 9s 415ms/step - loss: 0.4552 - accuracy: 0.8629 - val_loss: 0.5611 - val_accuracy: 0.8131\n",
      "Epoch 16/20\n",
      "21/21 [==============================] - 9s 429ms/step - loss: 0.4786 - accuracy: 0.8442 - val_loss: 0.3732 - val_accuracy: 0.8645\n",
      "Epoch 17/20\n",
      "21/21 [==============================] - 9s 409ms/step - loss: 0.4342 - accuracy: 0.8645 - val_loss: 0.3709 - val_accuracy: 0.8505\n",
      "Epoch 18/20\n",
      "21/21 [==============================] - 8s 402ms/step - loss: 0.4362 - accuracy: 0.8614 - val_loss: 0.3933 - val_accuracy: 0.8738\n",
      "Epoch 19/20\n",
      "21/21 [==============================] - 9s 415ms/step - loss: 0.4186 - accuracy: 0.8692 - val_loss: 0.3408 - val_accuracy: 0.8738\n",
      "Epoch 20/20\n",
      "21/21 [==============================] - 9s 411ms/step - loss: 0.3978 - accuracy: 0.8785 - val_loss: 0.3357 - val_accuracy: 0.8785\n"
     ]
    }
   ],
   "source": [
    "#train  the model\n",
    "history = model.fit(\n",
    "    np.array(train_images), \n",
    "    train_labels_one_hot, \n",
    "    epochs=20, \n",
    "    batch_size=32, \n",
    "    validation_data=(np.array(val_images), val_labels_one_hot)\n",
    ")"
   ]
  },
  {
   "cell_type": "code",
   "execution_count": 27,
   "id": "f8cacf20-51f1-4464-8a40-60c4310ce5c9",
   "metadata": {
    "tags": []
   },
   "outputs": [
    {
     "name": "stdout",
     "output_type": "stream",
     "text": [
      "7/7 [==============================] - 1s 71ms/step - loss: 0.3357 - accuracy: 0.8785\n",
      "Loss no conjunto de validação: 0.3356505334377289\n",
      "Accuracy no conjunto de validação: 0.8785046935081482\n"
     ]
    }
   ],
   "source": [
    "# Evaluate in the validation set\n",
    "val_loss, val_accuracy = model.evaluate(np.array(val_images), val_labels_one_hot)\n",
    "print(f\"Loss no conjunto de validação: {val_loss}\")\n",
    "print(f\"Accuracy no conjunto de validação: {val_accuracy}\")"
   ]
  },
  {
   "cell_type": "code",
   "execution_count": 36,
   "id": "403f5720-ab4f-40b0-9296-098b0192ebbe",
   "metadata": {
    "tags": []
   },
   "outputs": [
    {
     "name": "stdout",
     "output_type": "stream",
     "text": [
      "7/7 [==============================] - 1s 83ms/step\n"
     ]
    },
    {
     "data": {
      "image/png": "[encoded data removed]",
      "text/plain": [
       "<Figure size 800x600 with 2 Axes>"
      ]
     },
     "metadata": {},
     "output_type": "display_data"
    },
    {
     "name": "stdout",
     "output_type": "stream",
     "text": [
      "Relatório de Classificação:\n",
      "               precision    recall  f1-score   support\n",
      "\n",
      "      E.coli       0.94      0.96      0.95       101\n",
      "P.aeruginosa       0.82      0.98      0.89        93\n",
      "    S.aureus       0.00      0.00      0.00        20\n",
      "\n",
      "    accuracy                           0.88       214\n",
      "   macro avg       0.59      0.65      0.61       214\n",
      "weighted avg       0.80      0.88      0.84       214\n",
      "\n"
     ]
    }
   ],
   "source": [
    "import numpy as np\n",
    "import matplotlib.pyplot as plt\n",
    "import seaborn as sns\n",
    "from sklearn.metrics import confusion_matrix, classification_report\n",
    "\n",
    "# Get predictions from the model\n",
    "val_predictions = model.predict(np.array(val_images))\n",
    "\n",
    "# Convert predictions back to labels (classes)\n",
    "val_pred_labels = np.argmax(val_predictions, axis=1)\n",
    "\n",
    "# Convert the actual one-hot encoded labels back to labels\n",
    "val_true_labels = np.argmax(val_labels_one_hot, axis=1)\n",
    "\n",
    "# Generate the confusion matrix\n",
    "conf_matrix = confusion_matrix(val_true_labels, val_pred_labels)\n",
    "\n",
    "# Display the confusion matrix\n",
    "plt.figure(figsize=(8, 6))\n",
    "sns.heatmap(conf_matrix, annot=True, fmt='d', cmap='Blues', xticklabels=label_encoder.classes_, yticklabels=label_encoder.classes_)\n",
    "plt.title('Confusion Matrix')\n",
    "plt.xlabel('Predicted Label')\n",
    "plt.ylabel('True Label')\n",
    "plt.show()\n",
    "\n",
    "# Ensure that class labels are strings\n",
    "target_names = [str(class_name) for class_name in label_encoder.classes_]\n",
    "\n",
    "# Display the classification report for more details\n",
    "print(\"Relatório de Classificação:\\n\", classification_report(val_true_labels, val_pred_labels, target_names=target_names))\n",
    "\n"
   ]
  },
  {
   "cell_type": "code",
   "execution_count": 33,
   "id": "f7a16917-2697-4361-8ae2-c5e3ed446c9f",
   "metadata": {
    "tags": []
   },
   "outputs": [
    {
     "name": "stdout",
     "output_type": "stream",
     "text": [
      "Path da Imagem: C:\\Users\\bruna\\OneDrive - Universidade do Minho\\Tese Mestrado em Bioinformática\\AGAR_dataset\\AGAR_dataset\\dataset\\11762.jpg, Classe: P.aeruginosa\n",
      "Path da Imagem: C:\\Users\\bruna\\OneDrive - Universidade do Minho\\Tese Mestrado em Bioinformática\\AGAR_dataset\\AGAR_dataset\\dataset\\11763.jpg, Classe: P.aeruginosa\n",
      "Path da Imagem: C:\\Users\\bruna\\OneDrive - Universidade do Minho\\Tese Mestrado em Bioinformática\\AGAR_dataset\\AGAR_dataset\\dataset\\11764.jpg, Classe: P.aeruginosa\n",
      "Path da Imagem: C:\\Users\\bruna\\OneDrive - Universidade do Minho\\Tese Mestrado em Bioinformática\\AGAR_dataset\\AGAR_dataset\\dataset\\11765.jpg, Classe: P.aeruginosa\n",
      "Path da Imagem: C:\\Users\\bruna\\OneDrive - Universidade do Minho\\Tese Mestrado em Bioinformática\\AGAR_dataset\\AGAR_dataset\\dataset\\11766.jpg, Classe: P.aeruginosa\n"
     ]
    }
   ],
   "source": [
    "# Example of how to extract class names from uploaded JSON data\n",
    "for data in train_data[:5]:  # Showing the first 5 instances\n",
    "    print(f\"Path da Imagem: {data[0]}, Classe: {data[1]}\")"
   ]
  },
  {
   "cell_type": "code",
   "execution_count": 34,
   "id": "1c83983b-8819-427b-9f38-186fc3a93941",
   "metadata": {
    "tags": []
   },
   "outputs": [
    {
     "name": "stdout",
     "output_type": "stream",
     "text": [
      "Classe 0: E.coli\n",
      "Classe 1: P.aeruginosa\n",
      "Classe 2: S.aureus\n"
     ]
    }
   ],
   "source": [
    "# Updating the LabelEncoder with the names of the bacteria\n",
    "bacterial_labels = [data[1] for data in train_data]  # Usando os rótulos com nomes das bactérias\n",
    "label_encoder = LabelEncoder()\n",
    "label_encoder.fit(bacterial_labels)\n",
    "\n",
    "# Check the correct correspondence\n",
    "for i, class_name in enumerate(label_encoder.classes_):\n",
    "    print(f\"Classe {i}: {class_name}\")"
   ]
  },
  {
   "cell_type": "code",
   "execution_count": 31,
   "id": "1099d67a-1283-434f-a3d7-795326e971c1",
   "metadata": {
    "tags": []
   },
   "outputs": [
    {
     "name": "stdout",
     "output_type": "stream",
     "text": [
      "INFO:tensorflow:Assets written to: trained_model.vague\\assets\n"
     ]
    },
    {
     "name": "stderr",
     "output_type": "stream",
     "text": [
      "INFO:tensorflow:Assets written to: trained_model.vague\\assets\n"
     ]
    }
   ],
   "source": [
    "#save the model\n",
    "model.save('trained_model.vague')"
   ]
  },
  {
   "cell_type": "code",
   "execution_count": 35,
   "id": "82dbc7b4-30f3-4fb0-859d-b143e30eb55a",
   "metadata": {
    "tags": []
   },
   "outputs": [
    {
     "data": {
      "image/png": "[encoded data removed]",
      "text/plain": [
       "<Figure size 1200x600 with 1 Axes>"
      ]
     },
     "metadata": {},
     "output_type": "display_data"
    },
    {
     "data": {
      "image/png": "[encoded data removed]",
      "text/plain": [
       "<Figure size 1200x600 with 1 Axes>"
      ]
     },
     "metadata": {},
     "output_type": "display_data"
    }
   ],
   "source": [
    "import matplotlib.pyplot as plt\n",
    "from sklearn.metrics import roc_curve, auc, precision_recall_curve\n",
    "import numpy as np\n",
    "\n",
    "# Ensure you have the number of classes defined\n",
    "num_classes = len(label_encoder.classes_)\n",
    "\n",
    "# Use the one-hot encoded labels directly\n",
    "val_labels_binarized = val_labels_one_hot\n",
    "\n",
    "# Use the predictions you've already computed\n",
    "val_predictions_binarized = val_predictions  # Ensure val_predictions is defined\n",
    "\n",
    "# Create ROC curve for all classes\n",
    "plt.figure(figsize=(12, 6))\n",
    "for i in range(num_classes):\n",
    "    fpr, tpr, _ = roc_curve(val_labels_binarized[:, i], val_predictions_binarized[:, i])\n",
    "    roc_auc = auc(fpr, tpr)\n",
    "    plt.plot(fpr, tpr, lw=2, label=f'Classe {i} (AUC = {roc_auc:.2f})')\n",
    "\n",
    "plt.plot([0, 1], [0, 1], color='navy', lw=2, linestyle='--')\n",
    "plt.xlim([0.0, 1.0])\n",
    "plt.ylim([0.0, 1.05])\n",
    "plt.xlabel('False Positive Rate')\n",
    "plt.ylabel('True Positive Rate')\n",
    "plt.title('Receiver Operating Characteristic (ROC)')\n",
    "plt.legend(loc='lower right')\n",
    "plt.show()\n",
    "\n",
    "# Create Precision-Recall curve for all classes\n",
    "plt.figure(figsize=(12, 6))\n",
    "for i in range(num_classes):\n",
    "    precision, recall, _ = precision_recall_curve(val_labels_binarized[:, i], val_predictions_binarized[:, i])\n",
    "    average_precision = auc(recall, precision)\n",
    "    plt.plot(recall, precision, lw=2, label=f'Classe {i} (AP = {average_precision:.2f})')\n",
    "\n",
    "plt.xlabel('Recall')\n",
    "plt.ylabel('Precision')\n",
    "plt.title('Precision-Recall Curve (PRC)')\n",
    "plt.legend(loc='lower left')\n",
    "plt.show()"
   ]
  },
  {
   "cell_type": "code",
   "execution_count": null,
   "id": "2531e294-9dd7-4a9b-b076-fb3f15181a9f",
   "metadata": {},
   "outputs": [],
   "source": []
  }
 ],
 "metadata": {
  "kernelspec": {
   "display_name": "Python 3 (ipykernel)",
   "language": "python",
   "name": "python3"
  },
  "language_info": {
   "codemirror_mode": {
    "name": "ipython",
    "version": 3
   },
   "file_extension": ".py",
   "mimetype": "text/x-python",
   "name": "python",
   "nbconvert_exporter": "python",
   "pygments_lexer": "ipython3",
   "version": "3.11.5"
  },
  "widgets": {
   "application/vnd.jupyter.widget-state+json": {
    "state": {},
    "version_major": 2,
    "version_minor": 0
   }
  }
 },
 "nbformat": 4,
 "nbformat_minor": 5
}

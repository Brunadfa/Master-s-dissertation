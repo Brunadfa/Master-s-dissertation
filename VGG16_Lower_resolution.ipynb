{
 "cells": [
  {
   "cell_type": "code",
   "execution_count": 2,
   "id": "e4a297d4-f025-413b-98a6-a01d419ea1fc",
   "metadata": {
    "tags": []
   },
   "outputs": [],
   "source": [
    "import os\n",
    "import json\n",
    "import numpy as np\n",
    "from PIL import Image\n",
    "from sklearn.preprocessing import LabelEncoder, OneHotEncoder\n",
    "from sklearn.model_selection import train_test_split\n",
    "import tensorflow as tf\n",
    "from tensorflow.keras.applications import VGG16\n",
    "from tensorflow.keras.layers import Dense, Flatten, Dropout\n",
    "from tensorflow.keras.models import Model\n",
    "from tensorflow.keras.utils import Sequence"
   ]
  },
  {
   "cell_type": "code",
   "execution_count": 3,
   "id": "591c613e-60d7-4f73-a264-3dae84417e68",
   "metadata": {
    "tags": []
   },
   "outputs": [
    {
     "name": "stdout",
     "output_type": "stream",
     "text": [
      "GPU is not available\n"
     ]
    }
   ],
   "source": [
    "# Verificar se a GPU está disponível\n",
    "print(\"GPU is available\" if tf.config.list_physical_devices('GPU') else \"GPU is not available\")"
   ]
  },
  {
   "cell_type": "code",
   "execution_count": 4,
   "id": "6cf89a85-2e54-4573-8fc9-d72f3e236a4b",
   "metadata": {
    "tags": []
   },
   "outputs": [],
   "source": [
    "# Diretório onde estão armazenadas as imagens\n",
    "image_dir = r'C:\\Users\\bruna\\OneDrive - Universidade do Minho\\Tese Mestrado em Bioinformática\\AGAR_dataset\\AGAR_dataset\\dataset'"
   ]
  },
  {
   "cell_type": "code",
   "execution_count": 5,
   "id": "14bc6507-373b-4616-84c7-fbada584d6d4",
   "metadata": {
    "tags": []
   },
   "outputs": [],
   "source": [
    "# Função para carregar e redimensionar imagens\n",
    "def load_image(image_path, target_size=(56, 56)):\n",
    "    try:\n",
    "        if isinstance(image_path, str):\n",
    "            image = Image.open(image_path)\n",
    "            image = image.resize(target_size)\n",
    "            return np.array(image) / 255.0  # Normalize pixel values to [0, 1]\n",
    "        else:\n",
    "            raise ValueError(\"image_path must be a string representing the file path to the image.\")\n",
    "    except Exception as e:\n",
    "        print(f\"Error loading image {image_path}: {e}\")\n",
    "        return None"
   ]
  },
  {
   "cell_type": "code",
   "execution_count": 6,
   "id": "1c877cf5-e1a5-4065-89b8-d0c61f53a5b7",
   "metadata": {
    "tags": []
   },
   "outputs": [],
   "source": [
    "# Carregar IDs do grupo de treinamento e validação de arquivos de texto\n",
    "train_ids_file = r'C:\\Users\\bruna\\OneDrive - Universidade do Minho\\Tese Mestrado em Bioinformática\\AGAR_dataset\\AGAR_dataset\\training_lists\\lower_resolution_train.txt'\n",
    "with open(train_ids_file, 'r') as file:\n",
    "    train_ids = [str(id) for id in json.loads(file.read())]"
   ]
  },
  {
   "cell_type": "code",
   "execution_count": 7,
   "id": "6576f9a7-186f-4c1d-8bd4-90124ebe4036",
   "metadata": {
    "tags": []
   },
   "outputs": [],
   "source": [
    "val_ids_file = r'C:\\Users\\bruna\\OneDrive - Universidade do Minho\\Tese Mestrado em Bioinformática\\AGAR_dataset\\AGAR_dataset\\training_lists\\lower_resolution_val.txt'\n",
    "with open(val_ids_file, 'r') as file:\n",
    "    val_ids = [str(id) for id in json.loads(file.read())]"
   ]
  },
  {
   "cell_type": "code",
   "execution_count": 8,
   "id": "b512ee56-64fd-4b9b-83e2-1e9f63d4f09c",
   "metadata": {
    "tags": []
   },
   "outputs": [
    {
     "name": "stdout",
     "output_type": "stream",
     "text": [
      "IDs de treinamento carregados: ['16078', '16831', '16073', '16072', '16830'] ... (3319 no total)\n",
      "IDs de validação carregados: ['14175', '14176', '15540', '14172', '14678'] ... (1107 no total)\n"
     ]
    }
   ],
   "source": [
    "# Verificar se os IDs foram carregados corretamente\n",
    "print(f\"IDs de treinamento carregados: {train_ids[:5]} ... ({len(train_ids)} no total)\")\n",
    "print(f\"IDs de validação carregados: {val_ids[:5]} ... ({len(val_ids)} no total)\")"
   ]
  },
  {
   "cell_type": "code",
   "execution_count": 9,
   "id": "d81094cb-df6d-4c0f-9470-ff431fbbe6d2",
   "metadata": {
    "tags": []
   },
   "outputs": [],
   "source": [
    "%%capture\n",
    "# Listas para armazenar caminhos de imagem e rótulos correspondentes\n",
    "train_data = []\n",
    "val_data = []\n",
    "\n",
    "# Iterar sobre todos os arquivos no diretório\n",
    "for filename in os.listdir(image_dir):\n",
    "    if filename.endswith('.json'):\n",
    "        json_path = os.path.join(image_dir, filename)\n",
    "        with open(json_path, 'r') as file:\n",
    "            try:\n",
    "                json_data = json.load(file)\n",
    "            except json.JSONDecodeError as e:\n",
    "                print(f\"Erro ao carregar JSON {json_path}: {e}\")\n",
    "                continue\n",
    "        \n",
    "        sample_id = str(json_data.get('sample_id', None))\n",
    "        if sample_id is None:\n",
    "            print(f\"ID da amostra ausente no JSON: {json_path}\")\n",
    "            continue\n",
    "\n",
    "        image_filename = f\"{sample_id}.jpg\"\n",
    "        image_path = os.path.join(image_dir, image_filename)\n",
    "        if not os.path.exists(image_path):\n",
    "            print(f\"Arquivo de imagem não encontrado: {image_path}\")\n",
    "            continue\n",
    "        \n",
    "        classes = json_data.get('classes', [])\n",
    "        if not classes:\n",
    "            print(f\"Chave 'classes' ausente ou vazia no JSON: {json_path}\")\n",
    "            continue\n",
    "        \n",
    "        data_tuple = (image_path, classes[0])\n",
    "        if sample_id in train_ids:\n",
    "            train_data.append(data_tuple)\n",
    "        elif sample_id in val_ids:\n",
    "            val_data.append(data_tuple)"
   ]
  },
  {
   "cell_type": "code",
   "execution_count": 10,
   "id": "a41f0a9c-dbb2-4d6c-bd27-6019abc3f4a8",
   "metadata": {
    "tags": []
   },
   "outputs": [
    {
     "name": "stdout",
     "output_type": "stream",
     "text": [
      "Número de imagens de treinamento carregadas: 3318\n",
      "Número de imagens de validação carregadas: 1106\n"
     ]
    }
   ],
   "source": [
    "# Verificar o número de imagens carregadas\n",
    "print(f\"Número de imagens de treinamento carregadas: {len(train_data)}\")\n",
    "print(f\"Número de imagens de validação carregadas: {len(val_data)}\")"
   ]
  },
  {
   "cell_type": "code",
   "execution_count": 11,
   "id": "e9948a29-14ce-4bb4-8746-bb690f90c385",
   "metadata": {
    "tags": []
   },
   "outputs": [],
   "source": [
    "# Separar as imagens e os rótulos (labels)\n",
    "train_images = [data[0] for data in train_data]\n",
    "train_labels = [data[1] for data in train_data]\n",
    "\n",
    "val_images = [data[0] for data in val_data]\n",
    "val_labels = [data[1] for data in val_data]"
   ]
  },
  {
   "cell_type": "code",
   "execution_count": 12,
   "id": "77f82c65-17e0-4c34-9623-83935acd1d8c",
   "metadata": {
    "tags": []
   },
   "outputs": [],
   "source": [
    "# Carregar as imagens\n",
    "train_images = [load_image(image_path, target_size=(56, 56)) for image_path in train_images]\n",
    "val_images = [load_image(image_path, target_size=(56, 56)) for image_path in val_images]"
   ]
  },
  {
   "cell_type": "code",
   "execution_count": 13,
   "id": "c138f3ab-fe46-46f4-84ff-e88e95be51a8",
   "metadata": {
    "tags": []
   },
   "outputs": [],
   "source": [
    "# Verificar se alguma imagem falhou ao carregar\n",
    "train_images = [img for img in train_images if img is not None]\n",
    "val_images = [img for img in val_images if img is not None]"
   ]
  },
  {
   "cell_type": "code",
   "execution_count": 14,
   "id": "cc4bc5fa-8c1e-4bff-9fc2-464105359195",
   "metadata": {
    "tags": []
   },
   "outputs": [],
   "source": [
    "# Converter os rótulos em formato adequado (numérico)\n",
    "label_encoder = LabelEncoder()\n",
    "train_labels = label_encoder.fit_transform(train_labels)\n",
    "val_labels = label_encoder.transform(val_labels)"
   ]
  },
  {
   "cell_type": "code",
   "execution_count": 16,
   "id": "0544751e-c9e2-4106-8a60-1f5ad8414fb5",
   "metadata": {
    "tags": []
   },
   "outputs": [],
   "source": [
    "# One-Hot Encoding dos rótulos\n",
    "one_hot_encoder = OneHotEncoder(sparse_output=False)\n",
    "train_labels_one_hot = one_hot_encoder.fit_transform(train_labels.reshape(-1, 1))\n",
    "val_labels_one_hot = one_hot_encoder.transform(val_labels.reshape(-1, 1))"
   ]
  },
  {
   "cell_type": "code",
   "execution_count": 17,
   "id": "18a40d7a-6f17-4fe8-9cf2-cf0464144a54",
   "metadata": {
    "tags": []
   },
   "outputs": [],
   "source": [
    "# Gerador de dados\n",
    "class DataGenerator(Sequence):\n",
    "    def __init__(self, images, labels, batch_size=16, target_size=(56, 56)):\n",
    "        self.images = images\n",
    "        self.labels = labels\n",
    "        self.batch_size = batch_size\n",
    "        self.target_size = target_size\n",
    "        self.indices = np.arange(len(self.images))\n",
    "    \n",
    "    def __len__(self):\n",
    "        return int(np.ceil(len(self.images) / self.batch_size))\n",
    "    \n",
    "    def __getitem__(self, index):\n",
    "        batch_indices = self.indices[index * self.batch_size:(index + 1) * self.batch_size]\n",
    "        batch_images = [self.images[i] for i in batch_indices]\n",
    "        batch_labels = self.labels[batch_indices]\n",
    "        return np.array(batch_images), np.array(batch_labels)\n",
    "    \n",
    "    def on_epoch_end(self):\n",
    "        np.random.shuffle(self.indices)"
   ]
  },
  {
   "cell_type": "code",
   "execution_count": 18,
   "id": "db57ff5e-e5b1-4f9f-a028-44e651c13823",
   "metadata": {
    "tags": []
   },
   "outputs": [],
   "source": [
    "# Criar geradores para treinamento e validação\n",
    "train_generator = DataGenerator(train_images, train_labels_one_hot, batch_size=16)\n",
    "val_generator = DataGenerator(val_images, val_labels_one_hot, batch_size=16)"
   ]
  },
  {
   "cell_type": "code",
   "execution_count": 19,
   "id": "330cac0a-2d93-4e05-942c-2e2dde1eebb6",
   "metadata": {
    "tags": []
   },
   "outputs": [],
   "source": [
    "# Carregar o modelo base VGG16 com pesos pré-treinados da ImageNet\n",
    "base_model = VGG16(weights='imagenet', include_top=False, input_shape=(56, 56, 3))"
   ]
  },
  {
   "cell_type": "code",
   "execution_count": 20,
   "id": "719058d9-507a-49f2-8d5e-31d167367f75",
   "metadata": {
    "tags": []
   },
   "outputs": [],
   "source": [
    "# Congelar as camadas da VGG16 para treinar apenas as camadas personalizadas\n",
    "base_model.trainable = False"
   ]
  },
  {
   "cell_type": "code",
   "execution_count": 21,
   "id": "42e9ffe4-5f01-4c16-a6e1-20c959b0dbd8",
   "metadata": {
    "tags": []
   },
   "outputs": [],
   "source": [
    "# Adicionar novas camadas no topo do modelo base\n",
    "x = base_model.output\n",
    "x = Flatten()(x)\n",
    "x = Dense(128, activation='relu')(x)\n",
    "x = Dropout(0.5)(x)\n",
    "predictions = Dense(len(label_encoder.classes_), activation='softmax')(x)"
   ]
  },
  {
   "cell_type": "code",
   "execution_count": 22,
   "id": "42ff0117-45cc-4cff-92b8-fca50f2dfd3a",
   "metadata": {
    "tags": []
   },
   "outputs": [],
   "source": [
    "# Criar o modelo final\n",
    "model = Model(inputs=base_model.input, outputs=predictions)"
   ]
  },
  {
   "cell_type": "code",
   "execution_count": 23,
   "id": "cea9a255-35bb-456e-bed4-68cdeb55aa53",
   "metadata": {
    "tags": []
   },
   "outputs": [],
   "source": [
    "# Descongelar as últimas camadas da VGG16 para fazer fine-tuning\n",
    "for layer in base_model.layers[-4:]:\n",
    "    layer.trainable = True"
   ]
  },
  {
   "cell_type": "code",
   "execution_count": 24,
   "id": "e1408de5-e255-4564-9294-a84d21063206",
   "metadata": {
    "tags": []
   },
   "outputs": [],
   "source": [
    "# Recompilar o modelo \n",
    "model.compile(optimizer=tf.keras.optimizers.Adam(learning_rate=1e-5), \n",
    "              loss='categorical_crossentropy', \n",
    "              metrics=['accuracy'])"
   ]
  },
  {
   "cell_type": "code",
   "execution_count": 25,
   "id": "0465478f-bfc2-48b9-9668-b16aa72952ac",
   "metadata": {
    "tags": []
   },
   "outputs": [
    {
     "name": "stdout",
     "output_type": "stream",
     "text": [
      "Epoch 1/20\n",
      "208/208 [==============================] - 90s 425ms/step - loss: 1.3685 - accuracy: 0.3954 - val_loss: 1.1066 - val_accuracy: 0.5235\n",
      "Epoch 2/20\n",
      "208/208 [==============================] - 97s 465ms/step - loss: 1.0828 - accuracy: 0.5241 - val_loss: 0.9980 - val_accuracy: 0.5181\n",
      "Epoch 3/20\n",
      "208/208 [==============================] - 95s 457ms/step - loss: 0.9821 - accuracy: 0.5856 - val_loss: 0.9557 - val_accuracy: 0.6230\n",
      "Epoch 4/20\n",
      "208/208 [==============================] - 96s 461ms/step - loss: 0.9148 - accuracy: 0.6133 - val_loss: 0.8606 - val_accuracy: 0.6528\n",
      "Epoch 5/20\n",
      "208/208 [==============================] - 96s 461ms/step - loss: 0.8505 - accuracy: 0.6522 - val_loss: 0.8715 - val_accuracy: 0.5986\n",
      "Epoch 6/20\n",
      "208/208 [==============================] - 97s 466ms/step - loss: 0.7868 - accuracy: 0.6872 - val_loss: 0.7548 - val_accuracy: 0.7016\n",
      "Epoch 7/20\n",
      "208/208 [==============================] - 95s 457ms/step - loss: 0.7465 - accuracy: 0.7004 - val_loss: 0.7172 - val_accuracy: 0.7242\n",
      "Epoch 8/20\n",
      "208/208 [==============================] - 96s 462ms/step - loss: 0.7109 - accuracy: 0.7134 - val_loss: 0.6772 - val_accuracy: 0.7269\n",
      "Epoch 9/20\n",
      "208/208 [==============================] - 95s 455ms/step - loss: 0.6640 - accuracy: 0.7375 - val_loss: 0.6376 - val_accuracy: 0.7604\n",
      "Epoch 10/20\n",
      "208/208 [==============================] - 96s 462ms/step - loss: 0.6318 - accuracy: 0.7613 - val_loss: 0.6041 - val_accuracy: 0.7667\n",
      "Epoch 11/20\n",
      "208/208 [==============================] - 95s 459ms/step - loss: 0.6127 - accuracy: 0.7631 - val_loss: 0.5842 - val_accuracy: 0.7731\n",
      "Epoch 12/20\n",
      "208/208 [==============================] - 95s 457ms/step - loss: 0.5826 - accuracy: 0.7767 - val_loss: 0.5520 - val_accuracy: 0.7875\n",
      "Epoch 13/20\n",
      "208/208 [==============================] - 104s 498ms/step - loss: 0.5419 - accuracy: 0.7881 - val_loss: 0.5387 - val_accuracy: 0.7929\n",
      "Epoch 14/20\n",
      "208/208 [==============================] - 95s 455ms/step - loss: 0.5284 - accuracy: 0.7996 - val_loss: 0.5146 - val_accuracy: 0.7957\n",
      "Epoch 15/20\n",
      "208/208 [==============================] - 97s 465ms/step - loss: 0.5208 - accuracy: 0.8056 - val_loss: 0.4949 - val_accuracy: 0.8146\n",
      "Epoch 16/20\n",
      "208/208 [==============================] - 95s 457ms/step - loss: 0.4790 - accuracy: 0.8143 - val_loss: 0.4715 - val_accuracy: 0.8237\n",
      "Epoch 17/20\n",
      "208/208 [==============================] - 96s 460ms/step - loss: 0.4809 - accuracy: 0.8183 - val_loss: 0.4528 - val_accuracy: 0.8336\n",
      "Epoch 18/20\n",
      "208/208 [==============================] - 95s 458ms/step - loss: 0.4631 - accuracy: 0.8339 - val_loss: 0.4646 - val_accuracy: 0.8246\n",
      "Epoch 19/20\n",
      "208/208 [==============================] - 94s 450ms/step - loss: 0.4312 - accuracy: 0.8445 - val_loss: 0.4310 - val_accuracy: 0.8472\n",
      "Epoch 20/20\n",
      "208/208 [==============================] - 95s 458ms/step - loss: 0.4194 - accuracy: 0.8478 - val_loss: 0.4350 - val_accuracy: 0.8300\n"
     ]
    }
   ],
   "source": [
    "# Treinar o modelo\n",
    "history_finetune = model.fit(\n",
    "    train_generator, \n",
    "    epochs=20, \n",
    "    validation_data=val_generator\n",
    ")"
   ]
  },
  {
   "cell_type": "code",
   "execution_count": 26,
   "id": "a70e3b90-119e-43df-bc8b-f5b89d559778",
   "metadata": {
    "tags": []
   },
   "outputs": [
    {
     "name": "stdout",
     "output_type": "stream",
     "text": [
      "INFO:tensorflow:Assets written to: trained_model.vgg16_lower_resolution\\assets\n"
     ]
    },
    {
     "name": "stderr",
     "output_type": "stream",
     "text": [
      "INFO:tensorflow:Assets written to: trained_model.vgg16_lower_resolution\\assets\n"
     ]
    }
   ],
   "source": [
    "# Salvar o modelo treinado\n",
    "model.save('trained_model.vgg16_lower_resolution')"
   ]
  },
  {
   "cell_type": "code",
   "execution_count": 27,
   "id": "921992b0-c615-41fa-b9ba-e9689e26c3b2",
   "metadata": {
    "tags": []
   },
   "outputs": [
    {
     "name": "stdout",
     "output_type": "stream",
     "text": [
      "35/35 [==============================] - 8s 214ms/step - loss: 0.4350 - accuracy: 0.8300\n",
      "Loss no conjunto de validação: 0.4349557161331177\n",
      "Accuracy no conjunto de validação: 0.8300181031227112\n"
     ]
    }
   ],
   "source": [
    "# Avaliar no conjunto de validação\n",
    "val_loss, val_accuracy = model.evaluate(np.array(val_images), val_labels_one_hot)\n",
    "print(f\"Loss no conjunto de validação: {val_loss}\")\n",
    "print(f\"Accuracy no conjunto de validação: {val_accuracy}\")"
   ]
  },
  {
   "cell_type": "code",
   "execution_count": 28,
   "id": "db6fd903-cc8c-43b5-a3b1-2d4f4217cdc7",
   "metadata": {
    "tags": []
   },
   "outputs": [
    {
     "name": "stdout",
     "output_type": "stream",
     "text": [
      "35/35 [==============================] - 8s 214ms/step\n",
      "Matriz de Confusão:\n",
      "[[ 21   0   3   3   0]\n",
      " [  1 156  10   4  21]\n",
      " [  0  21 401   8   8]\n",
      " [  0  26  38 230  17]\n",
      " [  0  20   1   7 110]]\n",
      "Relatório de Classificação:\n",
      "              precision    recall  f1-score   support\n",
      "\n",
      "    Classe 0       0.95      0.78      0.86        27\n",
      "    Classe 1       0.70      0.81      0.75       192\n",
      "    Classe 2       0.89      0.92      0.90       438\n",
      "    Classe 3       0.91      0.74      0.82       311\n",
      "    Classe 4       0.71      0.80      0.75       138\n",
      "\n",
      "    accuracy                           0.83      1106\n",
      "   macro avg       0.83      0.81      0.81      1106\n",
      "weighted avg       0.84      0.83      0.83      1106\n",
      "\n"
     ]
    }
   ],
   "source": [
    "# Matriz de confusão e relatório de classificação\n",
    "from sklearn.metrics import confusion_matrix, classification_report\n",
    "\n",
    "# Obter previsões do modelo\n",
    "val_predictions = model.predict(np.array(val_images))\n",
    "\n",
    "# Converter previsões one-hot encoded para rótulos\n",
    "val_predictions_labels = np.argmax(val_predictions, axis=1)\n",
    "val_labels_labels = np.argmax(val_labels_one_hot, axis=1)\n",
    "\n",
    "# Matriz de confusão\n",
    "conf_matrix = confusion_matrix(val_labels_labels, val_predictions_labels)\n",
    "print(\"Matriz de Confusão:\")\n",
    "print(conf_matrix)\n",
    "\n",
    "# Relatório de classificação\n",
    "target_names = ['Classe 0', 'Classe 1', 'Classe 2', 'Classe 3', 'Classe 4']\n",
    "class_report = classification_report(val_labels_labels, val_predictions_labels, target_names=target_names)\n",
    "print(\"Relatório de Classificação:\")\n",
    "print(class_report)"
   ]
  },
  {
   "cell_type": "code",
   "execution_count": 29,
   "id": "8100d0f9-2c03-4698-bbcc-ab67b7132aad",
   "metadata": {
    "tags": []
   },
   "outputs": [
    {
     "data": {
      "image/png": "[encoded data removed]",
      "text/plain": [
       "<Figure size 1000x800 with 2 Axes>"
      ]
     },
     "metadata": {},
     "output_type": "display_data"
    }
   ],
   "source": [
    "import seaborn as sns\n",
    "import matplotlib.pyplot as plt\n",
    "# Visualizar a matriz de confusão\n",
    "plt.figure(figsize=(10, 8))\n",
    "sns.heatmap(conf_matrix, annot=True, fmt='d', cmap='Blues', xticklabels=label_encoder.classes_, yticklabels=label_encoder.classes_)\n",
    "plt.xlabel('Predicted Label')\n",
    "plt.ylabel('True Label')\n",
    "plt.title('Confusion Matrix')\n",
    "plt.show()"
   ]
  },
  {
   "cell_type": "code",
   "execution_count": null,
   "id": "ca0e0d7b-4abd-4e03-a7e2-4a585c709eb8",
   "metadata": {},
   "outputs": [],
   "source": []
  }
 ],
 "metadata": {
  "kernelspec": {
   "display_name": "Python 3 (ipykernel)",
   "language": "python",
   "name": "python3"
  },
  "language_info": {
   "codemirror_mode": {
    "name": "ipython",
    "version": 3
   },
   "file_extension": ".py",
   "mimetype": "text/x-python",
   "name": "python",
   "nbconvert_exporter": "python",
   "pygments_lexer": "ipython3",
   "version": "3.11.5"
  },
  "widgets": {
   "application/vnd.jupyter.widget-state+json": {
    "state": {},
    "version_major": 2,
    "version_minor": 0
   }
  }
 },
 "nbformat": 4,
 "nbformat_minor": 5
}

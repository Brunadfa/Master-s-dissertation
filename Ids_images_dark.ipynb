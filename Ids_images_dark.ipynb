{
 "cells": [
  {
   "cell_type": "code",
   "execution_count": 1,
   "id": "573952a8-0263-4616-8f62-9c816179028c",
   "metadata": {
    "tags": []
   },
   "outputs": [],
   "source": [
    "import os\n",
    "import json"
   ]
  },
  {
   "cell_type": "code",
   "execution_count": 4,
   "id": "46d1ed6a-c55a-4ba5-9e20-c7d14c5adcc9",
   "metadata": {
    "tags": []
   },
   "outputs": [],
   "source": [
    "# Caminho para o diretório onde estão armazenadas as imagens e os metadados\n",
    "image_dir = r'C:\\Users\\bruna\\OneDrive - Universidade do Minho\\Tese Mestrado em Bioinformática\\AGAR_dataset\\AGAR_dataset\\dataset'\n",
    "\n",
    "# Caminho para o arquivo de saída onde serão salvos os IDs das imagens dark\n",
    "output_file = 'dark_images_ids.txt'"
   ]
  },
  {
   "cell_type": "code",
   "execution_count": 6,
   "id": "0be3d008-ecf2-4319-8309-11686ac0adf8",
   "metadata": {
    "tags": []
   },
   "outputs": [
    {
     "name": "stdout",
     "output_type": "stream",
     "text": [
      "Número de imagens com fundo dark identificadas: 9649\n",
      "IDs das imagens dark salvos em dark_images_ids.txt\n"
     ]
    }
   ],
   "source": [
    "# Lista para armazenar os IDs das imagens com fundo dark\n",
    "dark_ids = []\n",
    "\n",
    "# Iterar sobre todos os arquivos no diretório\n",
    "for filename in os.listdir(image_dir):\n",
    "    if filename.endswith('.json'):\n",
    "        file_path = os.path.join(image_dir, filename)\n",
    "        with open(file_path, 'r') as f:\n",
    "            metadata = json.load(f)\n",
    "            # Verificar se a chave 'background' está presente\n",
    "            if 'background' in metadata and metadata['background'] == 'dark':\n",
    "                sample_id = os.path.splitext(filename)[0]  # Remover a extensão .json para obter o ID da imagem\n",
    "                dark_ids.append(sample_id)\n",
    "\n",
    "# Escrever os IDs das imagens com fundo dark num arquivo de saída\n",
    "with open(output_file, 'w') as f:\n",
    "    for sample_id in dark_ids:\n",
    "        f.write(f\"{sample_id}\\n\")\n",
    "\n",
    "print(f\"Número de imagens com fundo dark identificadas: {len(dark_ids)}\")\n",
    "print(f\"IDs das imagens dark salvos em {output_file}\")"
   ]
  },
  {
   "cell_type": "code",
   "execution_count": null,
   "id": "8f97ed64-15c8-487c-b76b-f70f0f4e2f25",
   "metadata": {},
   "outputs": [],
   "source": []
  },
  {
   "cell_type": "code",
   "execution_count": null,
   "id": "8b229b1a-c22f-4c5e-83b7-a7b8e105c880",
   "metadata": {},
   "outputs": [],
   "source": []
  }
 ],
 "metadata": {
  "kernelspec": {
   "display_name": "Python 3 (ipykernel)",
   "language": "python",
   "name": "python3"
  },
  "language_info": {
   "codemirror_mode": {
    "name": "ipython",
    "version": 3
   },
   "file_extension": ".py",
   "mimetype": "text/x-python",
   "name": "python",
   "nbconvert_exporter": "python",
   "pygments_lexer": "ipython3",
   "version": "3.11.5"
  },
  "widgets": {
   "application/vnd.jupyter.widget-state+json": {
    "state": {},
    "version_major": 2,
    "version_minor": 0
   }
  }
 },
 "nbformat": 4,
 "nbformat_minor": 5
}

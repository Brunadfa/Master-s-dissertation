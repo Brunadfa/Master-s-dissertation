{
 "cells": [
  {
   "cell_type": "code",
   "execution_count": 48,
   "id": "9b591660-5c62-4465-a43a-040a016240cb",
   "metadata": {
    "tags": []
   },
   "outputs": [],
   "source": [
    "import os\n",
    "import json\n",
    "import numpy as np\n",
    "from PIL import Image\n",
    "from sklearn.preprocessing import LabelEncoder, OneHotEncoder\n",
    "from sklearn.model_selection import train_test_split\n",
    "import tensorflow as tf\n",
    "from tensorflow.keras.applications import ResNet50\n",
    "from tensorflow.keras.layers import Dense, Flatten, Dropout\n",
    "from tensorflow.keras.models import Model\n",
    "from tensorflow.keras.utils import Sequence"
   ]
  },
  {
   "cell_type": "code",
   "execution_count": 49,
   "id": "656ac432-bed8-4e84-8c11-0946b8abca9a",
   "metadata": {
    "tags": []
   },
   "outputs": [
    {
     "name": "stdout",
     "output_type": "stream",
     "text": [
      "GPU is not available\n"
     ]
    }
   ],
   "source": [
    "# Verificar se a GPU está disponível\n",
    "print(\"GPU is available\" if tf.config.list_physical_devices('GPU') else \"GPU is not available\")"
   ]
  },
  {
   "cell_type": "code",
   "execution_count": 50,
   "id": "f93f8289-e11b-4072-a430-52e2a069ef2f",
   "metadata": {
    "tags": []
   },
   "outputs": [],
   "source": [
    "# Diretório onde estão armazenadas as imagens sem ser separadas por pastas\n",
    "image_dir = r'C:\\Users\\bruna\\OneDrive - Universidade do Minho\\Tese Mestrado em Bioinformática\\AGAR_dataset\\AGAR_dataset\\dataset'"
   ]
  },
  {
   "cell_type": "code",
   "execution_count": 51,
   "id": "42c564ea-e1d5-4b4b-920a-6fd604c090f0",
   "metadata": {
    "tags": []
   },
   "outputs": [],
   "source": [
    "def load_image(image_path, target_size=(112, 112)):\n",
    "    try:\n",
    "        image = Image.open(image_path)\n",
    "        image = image.resize(target_size)\n",
    "        return np.array(image) / 255.0  # Normaliza a imagem para a faixa [0, 1]\n",
    "    except Exception as e:\n",
    "        print(f\"Erro ao carregar a imagem {image_path}: {e}\")\n",
    "        return None"
   ]
  },
  {
   "cell_type": "code",
   "execution_count": 52,
   "id": "db6d80cc-40ad-4c25-b2e9-a9c6d2309fe4",
   "metadata": {
    "tags": []
   },
   "outputs": [],
   "source": [
    "# Caminho para o arquivo de IDs das imagens com fundo dark\n",
    "ids_dark = r'C:\\Users\\bruna\\OneDrive - Universidade do Minho\\Microbialdataset\\dark_images_ids.txt'\n",
    "\n",
    "# Carregar IDs do grupo de treinamento de um arquivo de texto\n",
    "with open(ids_dark, 'r') as file:\n",
    "    ids = [line.strip() for line in file.readlines()]"
   ]
  },
  {
   "cell_type": "code",
   "execution_count": 53,
   "id": "c40506af-178c-4fd5-810c-08b8d11c4c06",
   "metadata": {
    "tags": []
   },
   "outputs": [
    {
     "name": "stdout",
     "output_type": "stream",
     "text": [
      "Número de IDs carregados: 9649\n",
      "Primeiros 5 IDs: ['10000', '10001', '10002', '10003', '10004']\n"
     ]
    }
   ],
   "source": [
    "print(f\"Número de IDs carregados: {len(ids)}\")\n",
    "print(f\"Primeiros 5 IDs: {ids[:5]}\")"
   ]
  },
  {
   "cell_type": "code",
   "execution_count": 54,
   "id": "1cc550ee-a770-4f0b-bbf1-6931f5427c9c",
   "metadata": {
    "tags": []
   },
   "outputs": [],
   "source": [
    "# Dividir os IDs em treinamento e validação (por exemplo, 80% para treinamento e 20% para validação)\n",
    "split_index = int(len(ids) * 0.8)\n",
    "train_ids = ids[:split_index]\n",
    "val_ids = ids[split_index:]"
   ]
  },
  {
   "cell_type": "code",
   "execution_count": 55,
   "id": "84c4c7a5-478f-4da2-b043-cf672e046006",
   "metadata": {
    "tags": []
   },
   "outputs": [],
   "source": [
    "%%capture\n",
    "# Listas para armazenar caminhos de imagem e rótulos correspondentes\n",
    "train_data = []\n",
    "val_data = []\n",
    "\n",
    "# Iterar sobre todos os arquivos no diretório\n",
    "for filename in os.listdir(image_dir):\n",
    "    if filename.endswith('.json'):\n",
    "        json_path = os.path.join(image_dir, filename)\n",
    "        with open(json_path, 'r') as file:\n",
    "            try:\n",
    "                json_data = json.load(file)\n",
    "            except json.JSONDecodeError as e:\n",
    "                print(f\"Erro ao carregar JSON {json_path}: {e}\")\n",
    "                continue\n",
    "\n",
    "        sample_id = str(json_data.get('sample_id', None))\n",
    "        if sample_id is None:\n",
    "            print(f\"ID da amostra ausente no JSON: {json_path}\")\n",
    "            continue\n",
    "\n",
    "        image_filename = f\"{sample_id}.jpg\"\n",
    "        image_path = os.path.join(image_dir, image_filename)\n",
    "        if not os.path.exists(image_path):\n",
    "            print(f\"Arquivo de imagem não encontrado: {image_path}\")\n",
    "            continue\n",
    "\n",
    "        classes = json_data.get('classes', [])\n",
    "        if not classes:\n",
    "            print(f\"Chave 'classes' ausente ou vazia no JSON: {json_path}\")\n",
    "            continue\n",
    "\n",
    "        data_tuple = (image_path, classes[0])\n",
    "        if sample_id in train_ids:\n",
    "            train_data.append(data_tuple)\n",
    "        elif sample_id in val_ids:\n",
    "            val_data.append(data_tuple)"
   ]
  },
  {
   "cell_type": "code",
   "execution_count": 56,
   "id": "ba1c13fd-f139-4fc9-b341-248d87f093ec",
   "metadata": {
    "tags": []
   },
   "outputs": [
    {
     "name": "stdout",
     "output_type": "stream",
     "text": [
      "Número de imagens no conjunto de treinamento: 7718\n",
      "Número de imagens no conjunto de validação: 1930\n"
     ]
    }
   ],
   "source": [
    "print(f\"Número de imagens no conjunto de treinamento: {len(train_data)}\")\n",
    "print(f\"Número de imagens no conjunto de validação: {len(val_data)}\")"
   ]
  },
  {
   "cell_type": "code",
   "execution_count": 57,
   "id": "76450f61-26a7-45e6-80b2-c18dca1181bf",
   "metadata": {
    "tags": []
   },
   "outputs": [],
   "source": [
    "# Separar caminhos de imagem e rótulos para treinamento e validação\n",
    "train_images, train_labels = zip(*train_data)\n",
    "val_images, val_labels = zip(*val_data)"
   ]
  },
  {
   "cell_type": "code",
   "execution_count": 58,
   "id": "3f7c77e2-8732-4442-b538-7bfd913049f1",
   "metadata": {
    "tags": []
   },
   "outputs": [],
   "source": [
    "# Converter os rótulos em formato adequado (numérico), se necessário\n",
    "label_encoder = LabelEncoder()\n",
    "train_labels = label_encoder.fit_transform(train_labels)\n",
    "val_labels = label_encoder.transform(val_labels)"
   ]
  },
  {
   "cell_type": "code",
   "execution_count": 59,
   "id": "9202e423-66ba-4384-bc3d-eb8317afcec1",
   "metadata": {
    "tags": []
   },
   "outputs": [],
   "source": [
    "from sklearn.preprocessing import LabelEncoder, OneHotEncoder\n",
    "# Transformar os rótulos em one-hot encoding\n",
    "one_hot_encoder = OneHotEncoder(sparse_output=False)\n",
    "train_labels_one_hot = one_hot_encoder.fit_transform(train_labels.reshape(-1, 1))\n",
    "val_labels_one_hot = one_hot_encoder.transform(val_labels.reshape(-1, 1))\n"
   ]
  },
  {
   "cell_type": "code",
   "execution_count": 60,
   "id": "7c6f58a6-b938-4917-8646-997a12b059ea",
   "metadata": {
    "tags": []
   },
   "outputs": [],
   "source": [
    "# Criar gerador de dados personalizado\n",
    "class DataGenerator(Sequence):\n",
    "    def __init__(self, image_paths, labels, batch_size=32, target_size=(112, 112)):\n",
    "        self.image_paths = image_paths\n",
    "        self.labels = labels\n",
    "        self.batch_size = batch_size\n",
    "        self.target_size = target_size\n",
    "        self.indices = np.arange(len(self.image_paths))\n",
    "    \n",
    "    def __len__(self):\n",
    "        return int(np.ceil(len(self.image_paths) / self.batch_size))\n",
    "    \n",
    "    def __getitem__(self, index):\n",
    "        batch_indices = self.indices[index * self.batch_size:(index + 1) * self.batch_size]\n",
    "        batch_images = [load_image(self.image_paths[i], self.target_size) for i in batch_indices]\n",
    "        batch_labels = self.labels[batch_indices]\n",
    "        return np.array(batch_images), np.array(batch_labels)\n",
    "    \n",
    "    def on_epoch_end(self):\n",
    "        np.random.shuffle(self.indices)"
   ]
  },
  {
   "cell_type": "code",
   "execution_count": 61,
   "id": "34a48fcd-f91d-456f-a4ba-1381ffd2e4f7",
   "metadata": {
    "tags": []
   },
   "outputs": [],
   "source": [
    "# Criar os geradores de treinamento e validação\n",
    "train_generator = DataGenerator(train_images, train_labels_one_hot, batch_size=32)\n",
    "val_generator = DataGenerator(val_images, val_labels_one_hot, batch_size=32)"
   ]
  },
  {
   "cell_type": "code",
   "execution_count": 62,
   "id": "107e48e7-eadf-4ee7-a3dc-617804a02f8d",
   "metadata": {
    "tags": []
   },
   "outputs": [],
   "source": [
    "# Carregar o modelo base ResNet50 com pesos pré-treinados da ImageNet\n",
    "base_model = ResNet50(weights='imagenet', include_top=False, input_shape=(112, 112, 3))"
   ]
  },
  {
   "cell_type": "code",
   "execution_count": 63,
   "id": "09dc2c3f-c2fd-4bd2-b9e2-dca79ce892dd",
   "metadata": {
    "tags": []
   },
   "outputs": [],
   "source": [
    "# Congelar as camadas da ResNet50 para treinar apenas as camadas personalizadas\n",
    "base_model.trainable = False"
   ]
  },
  {
   "cell_type": "code",
   "execution_count": 64,
   "id": "283dd60f-2ce0-403e-ab91-e6a4bdcff4db",
   "metadata": {
    "tags": []
   },
   "outputs": [],
   "source": [
    "# Adicionar novas camadas no topo do modelo base\n",
    "x = base_model.output\n",
    "x = Flatten()(x)\n",
    "x = Dense(128, activation='relu')(x)\n",
    "x = Dropout(0.5)(x)\n",
    "predictions = Dense(len(label_encoder.classes_), activation='softmax')(x)"
   ]
  },
  {
   "cell_type": "code",
   "execution_count": 65,
   "id": "5fb97f87-68ec-4e8b-afb2-5ef03593384f",
   "metadata": {
    "tags": []
   },
   "outputs": [],
   "source": [
    "# Criar o modelo final\n",
    "model = Model(inputs=base_model.input, outputs=predictions)"
   ]
  },
  {
   "cell_type": "code",
   "execution_count": 76,
   "id": "a00ded5c-f455-4d4f-9e21-95c451fe0b46",
   "metadata": {
    "tags": []
   },
   "outputs": [],
   "source": [
    "# Fine-tuning \n",
    "# Descongelar as últimas camadas da ResNet50 para fazer fine-tuning\n",
    "for layer in base_model.layers[-20:]:\n",
    "    layer.trainable = True"
   ]
  },
  {
   "cell_type": "code",
   "execution_count": 77,
   "id": "4666529c-c767-4e0f-9b63-3aa159414740",
   "metadata": {
    "tags": []
   },
   "outputs": [],
   "source": [
    "# Recompilar o modelo \n",
    "model.compile(optimizer=tf.keras.optimizers.Adam(learning_rate=1e-5), \n",
    "              loss='categorical_crossentropy', \n",
    "              metrics=['accuracy'])"
   ]
  },
  {
   "cell_type": "code",
   "execution_count": 78,
   "id": "7f73e1b5-281b-4a38-b3d4-955361667e46",
   "metadata": {
    "tags": []
   },
   "outputs": [
    {
     "name": "stdout",
     "output_type": "stream",
     "text": [
      "Epoch 1/10\n",
      "242/242 [==============================] - 2410s 10s/step - loss: 1.4234 - accuracy: 0.3951 - val_loss: 1.5614 - val_accuracy: 0.3870\n",
      "Epoch 2/10\n",
      "242/242 [==============================] - 2825s 12s/step - loss: 1.3116 - accuracy: 0.4399 - val_loss: 1.3034 - val_accuracy: 0.4373\n",
      "Epoch 3/10\n",
      "242/242 [==============================] - 3629s 15s/step - loss: 1.2769 - accuracy: 0.4671 - val_loss: 1.2379 - val_accuracy: 0.4705\n",
      "Epoch 4/10\n",
      "242/242 [==============================] - 1990s 8s/step - loss: 1.2420 - accuracy: 0.4765 - val_loss: 1.6177 - val_accuracy: 0.3876\n",
      "Epoch 5/10\n",
      "242/242 [==============================] - 1982s 8s/step - loss: 1.2076 - accuracy: 0.4970 - val_loss: 1.6120 - val_accuracy: 0.3834\n",
      "Epoch 6/10\n",
      "242/242 [==============================] - 1973s 8s/step - loss: 1.1911 - accuracy: 0.5088 - val_loss: 1.4078 - val_accuracy: 0.3653\n",
      "Epoch 7/10\n",
      "242/242 [==============================] - 1981s 8s/step - loss: 1.1672 - accuracy: 0.5222 - val_loss: 1.5764 - val_accuracy: 0.3658\n",
      "Epoch 8/10\n",
      "242/242 [==============================] - 1978s 8s/step - loss: 1.1412 - accuracy: 0.5333 - val_loss: 2.1101 - val_accuracy: 0.3041\n",
      "Epoch 9/10\n",
      "242/242 [==============================] - 1979s 8s/step - loss: 1.1235 - accuracy: 0.5495 - val_loss: 1.3313 - val_accuracy: 0.4114\n",
      "Epoch 10/10\n",
      "242/242 [==============================] - 1978s 8s/step - loss: 1.1105 - accuracy: 0.5482 - val_loss: 1.1447 - val_accuracy: 0.5192\n"
     ]
    }
   ],
   "source": [
    "# Treinar o modelo com fine-tuning\n",
    "history_finetune = model.fit(\n",
    "    train_generator,\n",
    "    epochs=10,\n",
    "    validation_data=val_generator\n",
    ")"
   ]
  },
  {
   "cell_type": "code",
   "execution_count": 79,
   "id": "fb5c0013-b77e-464a-9a1e-173724b0b820",
   "metadata": {},
   "outputs": [
    {
     "name": "stdout",
     "output_type": "stream",
     "text": [
      "INFO:tensorflow:Assets written to: trained_model.resnet_dark\\assets\n"
     ]
    },
    {
     "name": "stderr",
     "output_type": "stream",
     "text": [
      "INFO:tensorflow:Assets written to: trained_model.resnet_dark\\assets\n"
     ]
    }
   ],
   "source": [
    "model.save('trained_model.resnet_dark')"
   ]
  },
  {
   "cell_type": "code",
   "execution_count": 80,
   "id": "93a8f3c0-a481-4455-b2d5-5ed0bec9c093",
   "metadata": {
    "tags": []
   },
   "outputs": [
    {
     "name": "stdout",
     "output_type": "stream",
     "text": [
      "61/61 [==============================] - 404s 7s/step - loss: 1.1447 - accuracy: 0.5192\n",
      "Loss on validation set: 1.144667148590088\n",
      "Accuracy on validation set: 0.5191709995269775\n"
     ]
    }
   ],
   "source": [
    "# Evaluate the model using the validation data generator\n",
    "val_loss, val_accuracy = model.evaluate(val_generator)\n",
    "print(f\"Loss on validation set: {val_loss}\")\n",
    "print(f\"Accuracy on validation set: {val_accuracy}\")"
   ]
  },
  {
   "cell_type": "code",
   "execution_count": 81,
   "id": "75ac83cd-f7c8-461c-ab5a-cd4e1aa44cef",
   "metadata": {
    "tags": []
   },
   "outputs": [
    {
     "name": "stdout",
     "output_type": "stream",
     "text": [
      "61/61 [==============================] - 43s 668ms/step\n",
      "Matriz de Confusão:\n",
      "[[197  13  46 208   4]\n",
      " [ 61  86  15 152   5]\n",
      " [ 21   8 241  85   5]\n",
      " [  6   5  67 287   0]\n",
      " [ 16  22  86 103 191]]\n",
      "Relatório de Classificação:\n",
      "              precision    recall  f1-score   support\n",
      "\n",
      "    Classe 0       0.65      0.42      0.51       468\n",
      "    Classe 1       0.64      0.27      0.38       319\n",
      "    Classe 2       0.53      0.67      0.59       360\n",
      "    Classe 3       0.34      0.79      0.48       365\n",
      "    Classe 4       0.93      0.46      0.61       418\n",
      "\n",
      "    accuracy                           0.52      1930\n",
      "   macro avg       0.62      0.52      0.51      1930\n",
      "weighted avg       0.63      0.52      0.52      1930\n",
      "\n"
     ]
    }
   ],
   "source": [
    "from sklearn.metrics import confusion_matrix, classification_report\n",
    "\n",
    "# Carregar e processar as imagens de validação\n",
    "val_images_processed = np.array([load_image(img_path) for img_path in val_images])\n",
    "\n",
    "# Verificar se há alguma imagem que não foi carregada corretamente\n",
    "val_images_processed = np.array([img for img in val_images_processed if img is not None])\n",
    "\n",
    "# Obter previsões do modelo\n",
    "val_predictions = model.predict(val_images_processed)\n",
    "\n",
    "# Converter previsões one-hot encoded para rótulos\n",
    "val_predictions_labels = np.argmax(val_predictions, axis=1)\n",
    "val_labels_labels = np.argmax(val_labels_one_hot, axis=1)\n",
    "\n",
    "# Matriz de confusão\n",
    "conf_matrix = confusion_matrix(val_labels_labels, val_predictions_labels)\n",
    "print(\"Matriz de Confusão:\")\n",
    "print(conf_matrix)\n",
    "\n",
    "# Relatório de classificação\n",
    "target_names = ['Classe 0', 'Classe 1', 'Classe 2', 'Classe 3', 'Classe 4']\n",
    "class_report = classification_report(val_labels_labels, val_predictions_labels, target_names=target_names)\n",
    "print(\"Relatório de Classificação:\")\n",
    "print(class_report)"
   ]
  },
  {
   "cell_type": "code",
   "execution_count": 82,
   "id": "d8f6a437-059e-430d-9d3a-3128ff8714b2",
   "metadata": {
    "tags": []
   },
   "outputs": [],
   "source": [
    "# Salvar a matriz de confusão e o relatório de classificação\n",
    "np.save('confusion_matrix.npy', conf_matrix)"
   ]
  },
  {
   "cell_type": "code",
   "execution_count": 83,
   "id": "8e74bc66-47c1-4eda-b309-1ac2db5b5cef",
   "metadata": {
    "tags": []
   },
   "outputs": [
    {
     "data": {
      "image/png": "[encoded data removed]",
      "text/plain": [
       "<Figure size 1000x800 with 2 Axes>"
      ]
     },
     "metadata": {},
     "output_type": "display_data"
    }
   ],
   "source": [
    "import seaborn as sns\n",
    "import matplotlib.pyplot as plt\n",
    "# Visualizar a matriz de confusão\n",
    "plt.figure(figsize=(10, 8))\n",
    "sns.heatmap(conf_matrix, annot=True, fmt='d', cmap='Blues', xticklabels=label_encoder.classes_, yticklabels=label_encoder.classes_)\n",
    "plt.xlabel('Predicted Label')\n",
    "plt.ylabel('True Label')\n",
    "plt.title('Confusion Matrix')\n",
    "plt.show()"
   ]
  },
  {
   "cell_type": "markdown",
   "id": "4d61133e-ada5-45a7-83d0-448d308137cf",
   "metadata": {},
   "source": [
    "__Acurácia na validação:__ 0.519 (ou 51.92%)\n",
    "A acurácia é moderada e indica que o modelo está ligeiramente acima do nível de aleatoriedade (que seria 20% para um problema de 5 classes). No entanto, ainda há espaço para melhorias significativas.\n",
    "\n",
    "\n",
    "__Loss na validação:__ 1.1447\n",
    "O valor de loss sugere que o modelo está enfrentando dificuldades em se ajustar completamente aos dados, o que pode indicar a necessidade de mais ajustes."
   ]
  },
  {
   "cell_type": "markdown",
   "id": "933a83f8-4263-47fa-946a-f88a78ca2fc0",
   "metadata": {},
   "source": [
    "__Classe 0:__ Tem uma boa precisão (0.65), mas o recall é baixo (0.42), indicando que o modelo é mais conservador na classificação como Classe 0.\n",
    "\n",
    "__Classe 1:__ Baixa recall (0.27), indicando que o modelo tem dificuldades em identificar corretamente essa classe.\n",
    "\n",
    "__Classe 2:__ O F1-score de 0.59 sugere um desempenho moderado, com o modelo equilibrando bem precisão e recall.\n",
    "\n",
    "__Classe 3:__ O recall é alto (0.79), mas a precisão é baixa (0.34), indicando que o modelo classifica muitas amostras como Classe 3, mesmo quando não deveria.\n",
    "\n",
    "__Classe 4:__ Alta precisão (0.93), mas baixa recall (0.46), sugerindo que, quando o modelo classifica algo como Classe 4, geralmente está certo, mas perde muitas instâncias dessa classe."
   ]
  },
  {
   "cell_type": "code",
   "execution_count": null,
   "id": "9dcfabc0-b098-4ac9-b951-1d97f6599ff8",
   "metadata": {},
   "outputs": [],
   "source": []
  }
 ],
 "metadata": {
  "kernelspec": {
   "display_name": "Python 3 (ipykernel)",
   "language": "python",
   "name": "python3"
  },
  "language_info": {
   "codemirror_mode": {
    "name": "ipython",
    "version": 3
   },
   "file_extension": ".py",
   "mimetype": "text/x-python",
   "name": "python",
   "nbconvert_exporter": "python",
   "pygments_lexer": "ipython3",
   "version": "3.11.5"
  },
  "widgets": {
   "application/vnd.jupyter.widget-state+json": {
    "state": {},
    "version_major": 2,
    "version_minor": 0
   }
  }
 },
 "nbformat": 4,
 "nbformat_minor": 5
}

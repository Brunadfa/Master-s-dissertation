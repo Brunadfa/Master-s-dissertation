{
 "cells": [
  {
   "cell_type": "code",
   "execution_count": 1,
   "id": "05085167-8300-4184-b211-358800300909",
   "metadata": {
    "tags": []
   },
   "outputs": [],
   "source": [
    "import os\n",
    "import json\n",
    "import numpy as np\n",
    "from PIL import Image\n",
    "from sklearn.preprocessing import LabelEncoder, OneHotEncoder\n",
    "from sklearn.model_selection import train_test_split\n",
    "import tensorflow as tf\n",
    "from tensorflow.keras.applications import ResNet50\n",
    "from tensorflow.keras.layers import Dense, Flatten, Dropout\n",
    "from tensorflow.keras.models import Model"
   ]
  },
  {
   "cell_type": "code",
   "execution_count": 2,
   "id": "960c5b6f-ee70-4da3-83de-9922393fbc3f",
   "metadata": {
    "tags": []
   },
   "outputs": [
    {
     "name": "stdout",
     "output_type": "stream",
     "text": [
      "GPU is not available\n"
     ]
    }
   ],
   "source": [
    "# Check if the GPU is available\n",
    "print(\"GPU is available\" if tf.config.list_physical_devices('GPU') else \"GPU is not available\")"
   ]
  },
  {
   "cell_type": "code",
   "execution_count": 3,
   "id": "2104363d-29dc-4838-a979-908682b38ca0",
   "metadata": {
    "tags": []
   },
   "outputs": [],
   "source": [
    "# Directory where the images are stored\n",
    "image_dir = r'C:\\Users\\bruna\\OneDrive - Universidade do Minho\\Tese Mestrado em Bioinformática\\AGAR_dataset\\AGAR_dataset\\dataset'"
   ]
  },
  {
   "cell_type": "code",
   "execution_count": 4,
   "id": "5a99bd15-081f-4b0c-b4b8-f051753911b8",
   "metadata": {
    "tags": []
   },
   "outputs": [],
   "source": [
    "# Function for uploading and resizing images\n",
    "def load_image(image_path, target_size=(112, 112)):\n",
    "    try:\n",
    "        image = Image.open(image_path)\n",
    "        image = image.resize(target_size)  \n",
    "        return np.array(image) / 255.0  \n",
    "    except Exception as e:\n",
    "        print(f\"Erro ao carregar a imagem {image_path}: {e}\")\n",
    "        return None"
   ]
  },
  {
   "cell_type": "code",
   "execution_count": 5,
   "id": "669e62f6-1678-4e95-b6b0-798d31cbe215",
   "metadata": {
    "tags": []
   },
   "outputs": [],
   "source": [
    "# Load training group IDs\n",
    "train_ids_file = r'C:\\Users\\bruna\\OneDrive - Universidade do Minho\\Tese Mestrado em Bioinformática\\AGAR_dataset\\AGAR_dataset\\training_lists\\vague_train.txt'\n",
    "with open(train_ids_file, 'r') as file:\n",
    "    train_ids = [str(id) for id in json.loads(file.read())]"
   ]
  },
  {
   "cell_type": "code",
   "execution_count": 6,
   "id": "2305ac87-a1e6-4272-aa93-92e7f26ed15f",
   "metadata": {
    "tags": []
   },
   "outputs": [],
   "source": [
    "# Load validation group IDs\n",
    "val_ids_file = r'C:\\Users\\bruna\\OneDrive - Universidade do Minho\\Tese Mestrado em Bioinformática\\AGAR_dataset\\AGAR_dataset\\training_lists\\vague_val.txt'\n",
    "with open(val_ids_file, 'r') as file:\n",
    "    val_ids = [str(id) for id in json.loads(file.read())]"
   ]
  },
  {
   "cell_type": "code",
   "execution_count": 7,
   "id": "c5ee0c14-79d0-4718-915d-5d195c0c96f1",
   "metadata": {
    "tags": []
   },
   "outputs": [],
   "source": [
    "%%capture\n",
    "# Lists for storing image paths and corresponding labels\n",
    "train_data = []\n",
    "val_data = []\n",
    "\n",
    "# Iterate over all the files in the directory\n",
    "for filename in os.listdir(image_dir):\n",
    "    if filename.endswith('.json'):\n",
    "        json_path = os.path.join(image_dir, filename)\n",
    "        with open(json_path, 'r') as file:\n",
    "            try:\n",
    "                json_data = json.load(file)\n",
    "            except json.JSONDecodeError as e:\n",
    "                print(f\"Erro ao carregar JSON {json_path}: {e}\")\n",
    "                continue\n",
    "        \n",
    "        sample_id = str(json_data.get('sample_id', None))\n",
    "        if sample_id is None:\n",
    "            print(f\"ID da amostra ausente no JSON: {json_path}\")\n",
    "            continue\n",
    "\n",
    "        image_filename = f\"{sample_id}.jpg\"\n",
    "        image_path = os.path.join(image_dir, image_filename)\n",
    "        if not os.path.exists(image_path):\n",
    "            print(f\"Arquivo de imagem não encontrado: {image_path}\")\n",
    "            continue\n",
    "        \n",
    "        classes = json_data.get('classes', [])\n",
    "        if not classes:\n",
    "            print(f\"Chave 'classes' ausente ou vazia no JSON: {json_path}\")\n",
    "            continue\n",
    "        \n",
    "        data_tuple = (image_path, classes[0])\n",
    "        if sample_id in train_ids:\n",
    "            train_data.append(data_tuple)\n",
    "        elif sample_id in val_ids:\n",
    "            val_data.append(data_tuple)"
   ]
  },
  {
   "cell_type": "code",
   "execution_count": 8,
   "id": "6a91936d-eac2-403f-93b7-21590bc6fbef",
   "metadata": {
    "tags": []
   },
   "outputs": [
    {
     "name": "stdout",
     "output_type": "stream",
     "text": [
      "Número de imagens de treinamento carregadas: 642\n",
      "Número de imagens de validação carregadas: 214\n"
     ]
    }
   ],
   "source": [
    "# Check the number of images uploaded\n",
    "print(f\"Número de imagens de treinamento carregadas: {len(train_data)}\")\n",
    "print(f\"Número de imagens de validação carregadas: {len(val_data)}\")"
   ]
  },
  {
   "cell_type": "code",
   "execution_count": 9,
   "id": "bb6027ff-ab76-442b-a1c3-194aca3c3967",
   "metadata": {
    "tags": []
   },
   "outputs": [],
   "source": [
    "# Separate images and labels\n",
    "train_images = [data[0] for data in train_data]\n",
    "train_labels = [data[1] for data in train_data]"
   ]
  },
  {
   "cell_type": "code",
   "execution_count": 10,
   "id": "c0f23d31-8f22-4085-80c0-57f5f12ce03d",
   "metadata": {
    "tags": []
   },
   "outputs": [],
   "source": [
    "val_images = [data[0] for data in val_data]\n",
    "val_labels = [data[1] for data in val_data]"
   ]
  },
  {
   "cell_type": "code",
   "execution_count": 11,
   "id": "66178232-8ed9-4efe-b4ec-e91fe57714f7",
   "metadata": {
    "tags": []
   },
   "outputs": [],
   "source": [
    "# Load the images\n",
    "train_images = [load_image(image_path, target_size=(112, 112)) for image_path in train_images]\n",
    "val_images = [load_image(image_path, target_size=(112, 112)) for image_path in val_images]"
   ]
  },
  {
   "cell_type": "code",
   "execution_count": 12,
   "id": "b0a31c10-8fce-4c37-b126-8b0c14544575",
   "metadata": {
    "tags": []
   },
   "outputs": [],
   "source": [
    "# Check if an image has failed to load\n",
    "train_images = [img for img in train_images if img is not None]\n",
    "val_images = [img for img in val_images if img is not None]"
   ]
  },
  {
   "cell_type": "code",
   "execution_count": 13,
   "id": "31c91643-8cb8-4bb3-8ed1-f24ac7317e38",
   "metadata": {
    "tags": []
   },
   "outputs": [],
   "source": [
    "# Convert the labels to the appropriate format (numeric)\n",
    "label_encoder = LabelEncoder()\n",
    "train_labels = label_encoder.fit_transform(train_labels)\n",
    "val_labels = label_encoder.transform(val_labels)"
   ]
  },
  {
   "cell_type": "code",
   "execution_count": 14,
   "id": "a64796ca-c1cf-409f-975e-f82e29be056a",
   "metadata": {
    "tags": []
   },
   "outputs": [],
   "source": [
    "from sklearn.preprocessing import LabelEncoder, OneHotEncoder\n",
    "\n",
    "# Use sparse_output instead of sparse\n",
    "one_hot_encoder = OneHotEncoder(sparse_output=False)\n",
    "\n",
    "# Adjust the encoder on the training labels and turn them into one-hot encoding\n",
    "train_labels_one_hot = one_hot_encoder.fit_transform(train_labels.reshape(-1, 1))\n",
    "\n",
    "# Transform validation labels\n",
    "val_labels_one_hot = one_hot_encoder.transform(val_labels.reshape(-1, 1))"
   ]
  },
  {
   "cell_type": "code",
   "execution_count": 15,
   "id": "9382fc54-42b8-4812-8586-ec0ba9b73ebe",
   "metadata": {
    "tags": []
   },
   "outputs": [],
   "source": [
    "# Load the ResNet50 base model with pre-trained weights from ImageNet\n",
    "base_model = ResNet50(weights='imagenet', include_top=False, input_shape=(112, 112, 3))"
   ]
  },
  {
   "cell_type": "code",
   "execution_count": 16,
   "id": "3271ec5a-2a83-434a-9395-d3f512569c56",
   "metadata": {
    "tags": []
   },
   "outputs": [],
   "source": [
    "# Freeze ResNet50 layers to train only customised layers\n",
    "base_model.trainable = False"
   ]
  },
  {
   "cell_type": "code",
   "execution_count": 17,
   "id": "0af972a7-158b-4822-9c8a-8577e6becf53",
   "metadata": {
    "tags": []
   },
   "outputs": [],
   "source": [
    "# Add new layers on top of the base model\n",
    "x = base_model.output\n",
    "x = Flatten()(x)\n",
    "x = Dense(128, activation='relu')(x)\n",
    "x = Dropout(0.5)(x)\n",
    "predictions = Dense(len(label_encoder.classes_), activation='softmax')(x)"
   ]
  },
  {
   "cell_type": "code",
   "execution_count": 18,
   "id": "5b1d075f-5b41-4333-81b3-57fd7d251348",
   "metadata": {
    "tags": []
   },
   "outputs": [],
   "source": [
    "# create the final model\n",
    "model = Model(inputs=base_model.input, outputs=predictions)"
   ]
  },
  {
   "cell_type": "code",
   "execution_count": 19,
   "id": "431b58e9-5338-4985-9f7e-9fa45e66860c",
   "metadata": {
    "tags": []
   },
   "outputs": [],
   "source": [
    "# Fine-tuning \n",
    "# Defrost the last layers of ResNet50 for fine-tuning\n",
    "for layer in base_model.layers[-10:]:\n",
    "    layer.trainable = True"
   ]
  },
  {
   "cell_type": "code",
   "execution_count": 20,
   "id": "1a0261bf-058d-4788-90e1-e53c30c4d1a9",
   "metadata": {
    "tags": []
   },
   "outputs": [],
   "source": [
    "# recompile the model\n",
    "model.compile(optimizer=tf.keras.optimizers.Adam(learning_rate=1e-5), \n",
    "              loss='categorical_crossentropy', \n",
    "              metrics=['accuracy'])"
   ]
  },
  {
   "cell_type": "code",
   "execution_count": 21,
   "id": "0d31cd61-6296-43c6-bf5d-dc94aa277340",
   "metadata": {
    "tags": []
   },
   "outputs": [
    {
     "name": "stdout",
     "output_type": "stream",
     "text": [
      "Epoch 1/20\n",
      "21/21 [==============================] - 28s 1s/step - loss: 1.0284 - accuracy: 0.5732 - val_loss: 1.3106 - val_accuracy: 0.0935\n",
      "Epoch 2/20\n",
      "21/21 [==============================] - 22s 1s/step - loss: 0.7899 - accuracy: 0.6791 - val_loss: 1.2009 - val_accuracy: 0.0935\n",
      "Epoch 3/20\n",
      "21/21 [==============================] - 22s 1s/step - loss: 0.6918 - accuracy: 0.7368 - val_loss: 1.1685 - val_accuracy: 0.4206\n",
      "Epoch 4/20\n",
      "21/21 [==============================] - 22s 1s/step - loss: 0.6715 - accuracy: 0.7570 - val_loss: 1.1364 - val_accuracy: 0.4299\n",
      "Epoch 5/20\n",
      "21/21 [==============================] - 23s 1s/step - loss: 0.6961 - accuracy: 0.7523 - val_loss: 1.1073 - val_accuracy: 0.4019\n",
      "Epoch 6/20\n",
      "21/21 [==============================] - 22s 1s/step - loss: 0.6887 - accuracy: 0.7461 - val_loss: 1.0738 - val_accuracy: 0.4346\n",
      "Epoch 7/20\n",
      "21/21 [==============================] - 23s 1s/step - loss: 0.7374 - accuracy: 0.7165 - val_loss: 1.0199 - val_accuracy: 0.4439\n",
      "Epoch 8/20\n",
      "21/21 [==============================] - 23s 1s/step - loss: 0.6811 - accuracy: 0.7648 - val_loss: 0.9984 - val_accuracy: 0.4346\n",
      "Epoch 9/20\n",
      "21/21 [==============================] - 23s 1s/step - loss: 0.6749 - accuracy: 0.7710 - val_loss: 0.9216 - val_accuracy: 0.4626\n",
      "Epoch 10/20\n",
      "21/21 [==============================] - 23s 1s/step - loss: 0.6480 - accuracy: 0.7726 - val_loss: 0.9086 - val_accuracy: 0.4533\n",
      "Epoch 11/20\n",
      "21/21 [==============================] - 23s 1s/step - loss: 0.6734 - accuracy: 0.7773 - val_loss: 0.8413 - val_accuracy: 0.6262\n",
      "Epoch 12/20\n",
      "21/21 [==============================] - 23s 1s/step - loss: 0.6292 - accuracy: 0.7850 - val_loss: 0.8165 - val_accuracy: 0.6308\n",
      "Epoch 13/20\n",
      "21/21 [==============================] - 23s 1s/step - loss: 0.6587 - accuracy: 0.7710 - val_loss: 0.9778 - val_accuracy: 0.4533\n",
      "Epoch 14/20\n",
      "21/21 [==============================] - 23s 1s/step - loss: 0.6717 - accuracy: 0.7508 - val_loss: 0.8388 - val_accuracy: 0.5841\n",
      "Epoch 15/20\n",
      "21/21 [==============================] - 23s 1s/step - loss: 0.6614 - accuracy: 0.7726 - val_loss: 0.7054 - val_accuracy: 0.7991\n",
      "Epoch 16/20\n",
      "21/21 [==============================] - 23s 1s/step - loss: 0.6170 - accuracy: 0.7726 - val_loss: 0.7139 - val_accuracy: 0.7383\n",
      "Epoch 17/20\n",
      "21/21 [==============================] - 23s 1s/step - loss: 0.6875 - accuracy: 0.7477 - val_loss: 0.6804 - val_accuracy: 0.7617\n",
      "Epoch 18/20\n",
      "21/21 [==============================] - 23s 1s/step - loss: 0.6636 - accuracy: 0.7835 - val_loss: 0.6096 - val_accuracy: 0.8037\n",
      "Epoch 19/20\n",
      "21/21 [==============================] - 22s 1s/step - loss: 0.6702 - accuracy: 0.7601 - val_loss: 0.6024 - val_accuracy: 0.7850\n",
      "Epoch 20/20\n",
      "21/21 [==============================] - 22s 1s/step - loss: 0.6340 - accuracy: 0.7975 - val_loss: 0.5847 - val_accuracy: 0.8037\n"
     ]
    }
   ],
   "source": [
    "# train the model\n",
    "history_finetune = model.fit(\n",
    "    np.array(train_images), \n",
    "    train_labels_one_hot, \n",
    "    epochs=20, \n",
    "    batch_size=32, \n",
    "    validation_data=(np.array(val_images), val_labels_one_hot)\n",
    ")"
   ]
  },
  {
   "cell_type": "code",
   "execution_count": 22,
   "id": "2e3977aa-6d37-42ec-b68f-d4d070dff0d6",
   "metadata": {
    "tags": []
   },
   "outputs": [
    {
     "name": "stdout",
     "output_type": "stream",
     "text": [
      "INFO:tensorflow:Assets written to: trained_model.resnet_vague_resolution\\assets\n"
     ]
    },
    {
     "name": "stderr",
     "output_type": "stream",
     "text": [
      "INFO:tensorflow:Assets written to: trained_model.resnet_vague_resolution\\assets\n"
     ]
    }
   ],
   "source": [
    "#save the model\n",
    "model.save('trained_model.resnet_vague_resolution')"
   ]
  },
  {
   "cell_type": "code",
   "execution_count": 23,
   "id": "7d024e4c-ac76-4f56-a607-3144fae59bfc",
   "metadata": {
    "tags": []
   },
   "outputs": [
    {
     "name": "stdout",
     "output_type": "stream",
     "text": [
      "7/7 [==============================] - 4s 608ms/step - loss: 0.5847 - accuracy: 0.8037\n",
      "Loss no conjunto de validação: 0.5846870541572571\n",
      "Accuracy no conjunto de validação: 0.8037382960319519\n"
     ]
    }
   ],
   "source": [
    "# Evaluate in the validation set\n",
    "val_loss, val_accuracy = model.evaluate(np.array(val_images), val_labels_one_hot)\n",
    "print(f\"Loss no conjunto de validação: {val_loss}\")\n",
    "print(f\"Accuracy no conjunto de validação: {val_accuracy}\")"
   ]
  },
  {
   "cell_type": "code",
   "execution_count": 41,
   "id": "04a52381-d172-406d-9a5d-614a9b1256b9",
   "metadata": {
    "tags": []
   },
   "outputs": [],
   "source": [
    "target_names = ['Classe_0', 'Classe_1', 'Classe_2']"
   ]
  },
  {
   "cell_type": "code",
   "execution_count": 24,
   "id": "4adf4cc1-1ab5-4cd4-99ea-87a069842026",
   "metadata": {
    "tags": []
   },
   "outputs": [
    {
     "name": "stdout",
     "output_type": "stream",
     "text": [
      "Classes reais: ['E.coli' 'P.aeruginosa' 'S.aureus']\n"
     ]
    }
   ],
   "source": [
    "# Check the classes in the data\n",
    "print(f\"Classes reais: {label_encoder.classes_}\")\n",
    "\n",
    "# Adjust target_names as necessary\n",
    "target_names = label_encoder.classes_"
   ]
  },
  {
   "cell_type": "code",
   "execution_count": 25,
   "id": "2c5a8413-c7d6-42a0-8efb-d8d8ed72f065",
   "metadata": {
    "tags": []
   },
   "outputs": [
    {
     "name": "stdout",
     "output_type": "stream",
     "text": [
      "7/7 [==============================] - 5s 574ms/step\n",
      "Matriz de Confusão:\n",
      "[[91 10  0]\n",
      " [12 81  0]\n",
      " [ 7 13  0]]\n",
      "Classes reais: ['E.coli' 'P.aeruginosa' 'S.aureus']\n",
      "Relatório de Classificação:\n",
      "              precision    recall  f1-score   support\n",
      "\n",
      "      E.coli       0.83      0.90      0.86       101\n",
      "P.aeruginosa       0.78      0.87      0.82        93\n",
      "    S.aureus       0.00      0.00      0.00        20\n",
      "\n",
      "    accuracy                           0.80       214\n",
      "   macro avg       0.54      0.59      0.56       214\n",
      "weighted avg       0.73      0.80      0.76       214\n",
      "\n"
     ]
    },
    {
     "name": "stderr",
     "output_type": "stream",
     "text": [
      "C:\\Users\\bruna\\anaconda3\\Lib\\site-packages\\sklearn\\metrics\\_classification.py:1469: UndefinedMetricWarning: Precision and F-score are ill-defined and being set to 0.0 in labels with no predicted samples. Use `zero_division` parameter to control this behavior.\n",
      "  _warn_prf(average, modifier, msg_start, len(result))\n",
      "C:\\Users\\bruna\\anaconda3\\Lib\\site-packages\\sklearn\\metrics\\_classification.py:1469: UndefinedMetricWarning: Precision and F-score are ill-defined and being set to 0.0 in labels with no predicted samples. Use `zero_division` parameter to control this behavior.\n",
      "  _warn_prf(average, modifier, msg_start, len(result))\n",
      "C:\\Users\\bruna\\anaconda3\\Lib\\site-packages\\sklearn\\metrics\\_classification.py:1469: UndefinedMetricWarning: Precision and F-score are ill-defined and being set to 0.0 in labels with no predicted samples. Use `zero_division` parameter to control this behavior.\n",
      "  _warn_prf(average, modifier, msg_start, len(result))\n"
     ]
    }
   ],
   "source": [
    "from sklearn.metrics import confusion_matrix, classification_report\n",
    "\n",
    "# Get predictions from the model\n",
    "val_predictions = model.predict(np.array(val_images))\n",
    "\n",
    "# Convert one-hot encoded predictions to labels\n",
    "val_predictions_labels = np.argmax(val_predictions, axis=1)\n",
    "val_labels_labels = np.argmax(val_labels_one_hot, axis=1)\n",
    "\n",
    "# Confusion matrix\n",
    "conf_matrix = confusion_matrix(val_labels_labels, val_predictions_labels)\n",
    "print(\"Matriz de Confusão:\")\n",
    "print(conf_matrix)\n",
    "\n",
    "# Check the classes in the data\n",
    "print(f\"Classes reais: {label_encoder.classes_}\")\n",
    "\n",
    "# Adjust target_names as necessary\n",
    "target_names = label_encoder.classes_\n",
    "\n",
    "# Classification report\n",
    "class_report = classification_report(val_labels_labels, val_predictions_labels, target_names=target_names)\n",
    "print(\"Relatório de Classificação:\")\n",
    "print(class_report)"
   ]
  },
  {
   "cell_type": "code",
   "execution_count": 26,
   "id": "2acec3a3-d890-407e-a0f0-ed62b7e0c1dc",
   "metadata": {
    "tags": []
   },
   "outputs": [],
   "source": [
    "# Save the confusion matrix and the classification report\n",
    "np.save('confusion_matrix.npy', conf_matrix)"
   ]
  },
  {
   "cell_type": "code",
   "execution_count": 27,
   "id": "187c075b-16a5-4525-bba8-db732bd81eaa",
   "metadata": {
    "tags": []
   },
   "outputs": [
    {
     "data": {
      "image/png": "[encoded data removed]",
      "text/plain": [
       "<Figure size 1000x800 with 2 Axes>"
      ]
     },
     "metadata": {},
     "output_type": "display_data"
    }
   ],
   "source": [
    "import seaborn as sns\n",
    "import matplotlib.pyplot as plt\n",
    "# Visualise the confusion matrix\n",
    "plt.figure(figsize=(10, 8))\n",
    "sns.heatmap(conf_matrix, annot=True, fmt='d', cmap='Blues', xticklabels=label_encoder.classes_, yticklabels=label_encoder.classes_)\n",
    "plt.xlabel('Predicted Label')\n",
    "plt.ylabel('True Label')\n",
    "plt.title('Confusion Matrix')\n",
    "plt.show()"
   ]
  },
  {
   "cell_type": "code",
   "execution_count": 28,
   "id": "d4d8badd-364b-40d6-af6e-3c2bd3918e9d",
   "metadata": {},
   "outputs": [
    {
     "name": "stdout",
     "output_type": "stream",
     "text": [
      "7/7 [==============================] - 5s 677ms/step\n"
     ]
    }
   ],
   "source": [
    "import matplotlib.pyplot as plt\n",
    "from sklearn.metrics import roc_curve, auc, precision_recall_curve, average_precision_score\n",
    "\n",
    "# Obtain the model's predictions (probabilities) for the validation set\n",
    "val_predictions_prob = model.predict(np.array(val_images))"
   ]
  },
  {
   "cell_type": "code",
   "execution_count": 29,
   "id": "d5b97cfe-67ba-42ca-8266-2c0950035ed5",
   "metadata": {},
   "outputs": [
    {
     "data": {
      "image/png": "[encoded data removed]",
      "text/plain": [
       "<Figure size 640x480 with 1 Axes>"
      ]
     },
     "metadata": {},
     "output_type": "display_data"
    },
    {
     "data": {
      "image/png": "[encoded data removed]",
      "text/plain": [
       "<Figure size 640x480 with 1 Axes>"
      ]
     },
     "metadata": {},
     "output_type": "display_data"
    }
   ],
   "source": [
    "# Calculate the ROC curve and the area under the curve (AUC) for each class\n",
    "fpr = {}\n",
    "tpr = {}\n",
    "roc_auc = {}\n",
    "\n",
    "# Para cada classe, calcular os valores de FPR e TPR\n",
    "for i in range(len(target_names)):\n",
    "    fpr[i], tpr[i], _ = roc_curve(val_labels_one_hot[:, i], val_predictions_prob[:, i])\n",
    "    roc_auc[i] = auc(fpr[i], tpr[i])\n",
    "\n",
    "# Plot the ROC curve\n",
    "plt.figure()\n",
    "for i in range(len(target_names)):\n",
    "    plt.plot(fpr[i], tpr[i], label=f'{target_names[i]} (AUC = {roc_auc[i]:.2f})')\n",
    "\n",
    "plt.plot([0, 1], [0, 1], 'k--')  # Linha diagonal\n",
    "plt.xlim([0.0, 1.0])\n",
    "plt.ylim([0.0, 1.0])\n",
    "plt.xlabel('Taxa de Falsos Positivos')\n",
    "plt.ylabel('Taxa de Verdadeiros Positivos')\n",
    "plt.title('Curva ROC')\n",
    "plt.legend(loc='lower right')\n",
    "plt.show()\n",
    "\n",
    "# Calculate the precision-recall curve (PRC) and the area under the precision curve (AP)\n",
    "precision = {}\n",
    "recall = {}\n",
    "average_precision = {}\n",
    "\n",
    "for i in range(len(target_names)):\n",
    "    precision[i], recall[i], _ = precision_recall_curve(val_labels_one_hot[:, i], val_predictions_prob[:, i])\n",
    "    average_precision[i] = average_precision_score(val_labels_one_hot[:, i], val_predictions_prob[:, i])\n",
    "\n",
    "# Plot the precision-recall curve\n",
    "plt.figure()\n",
    "for i in range(len(target_names)):\n",
    "    plt.plot(recall[i], precision[i], label=f'{target_names[i]} (AP = {average_precision[i]:.2f})')\n",
    "\n",
    "plt.xlabel('Recall')\n",
    "plt.ylabel('Precisão')\n",
    "plt.title('Curva de Precisão-Recall')\n",
    "plt.legend(loc='lower left')\n",
    "plt.show()"
   ]
  },
  {
   "cell_type": "code",
   "execution_count": null,
   "id": "fba85684-191e-4c64-ac0e-bb23cd7f893f",
   "metadata": {},
   "outputs": [],
   "source": []
  }
 ],
 "metadata": {
  "kernelspec": {
   "display_name": "Python 3 (ipykernel)",
   "language": "python",
   "name": "python3"
  },
  "language_info": {
   "codemirror_mode": {
    "name": "ipython",
    "version": 3
   },
   "file_extension": ".py",
   "mimetype": "text/x-python",
   "name": "python",
   "nbconvert_exporter": "python",
   "pygments_lexer": "ipython3",
   "version": "3.11.5"
  },
  "widgets": {
   "application/vnd.jupyter.widget-state+json": {
    "state": {},
    "version_major": 2,
    "version_minor": 0
   }
  }
 },
 "nbformat": 4,
 "nbformat_minor": 5
}

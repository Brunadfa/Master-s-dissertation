{
 "cells": [
  {
   "cell_type": "code",
   "execution_count": 1,
   "id": "00a40ea1-4819-4bf2-a92b-7c3f16913755",
   "metadata": {
    "tags": []
   },
   "outputs": [],
   "source": [
    "import os\n",
    "import json\n",
    "import numpy as np\n",
    "from PIL import Image\n",
    "from sklearn.preprocessing import LabelEncoder, OneHotEncoder\n",
    "from sklearn.model_selection import train_test_split\n",
    "import tensorflow as tf\n",
    "from tensorflow.keras.applications import VGG16\n",
    "from tensorflow.keras.layers import Dense, Flatten, Dropout\n",
    "from tensorflow.keras.models import Model\n",
    "from tensorflow.keras.utils import Sequence"
   ]
  },
  {
   "cell_type": "code",
   "execution_count": 2,
   "id": "8c9edf4b-79b8-46ce-bc3e-9375bb82acf4",
   "metadata": {
    "tags": []
   },
   "outputs": [
    {
     "name": "stdout",
     "output_type": "stream",
     "text": [
      "GPU is not available\n"
     ]
    }
   ],
   "source": [
    "# Verificar se a GPU está disponível\n",
    "print(\"GPU is available\" if tf.config.list_physical_devices('GPU') else \"GPU is not available\")"
   ]
  },
  {
   "cell_type": "code",
   "execution_count": 3,
   "id": "a9055443-ed6b-41f0-99aa-a0ee2be92121",
   "metadata": {
    "tags": []
   },
   "outputs": [],
   "source": [
    "# Diretório onde estão armazenadas as imagens sem ser separadas por pastas\n",
    "image_dir = r'C:\\Users\\bruna\\OneDrive - Universidade do Minho\\Tese Mestrado em Bioinformática\\AGAR_dataset\\AGAR_dataset\\dataset'"
   ]
  },
  {
   "cell_type": "code",
   "execution_count": 4,
   "id": "6a929b1e-6a1e-40b6-b27e-d403d1b7ddaa",
   "metadata": {
    "tags": []
   },
   "outputs": [],
   "source": [
    "def load_image(image_path, target_size=(112, 112)):\n",
    "    try:\n",
    "        image = Image.open(image_path)\n",
    "        image = image.resize(target_size)\n",
    "        return np.array(image) / 255.0  # Normaliza a imagem para a faixa [0, 1]\n",
    "    except Exception as e:\n",
    "        print(f\"Erro ao carregar a imagem {image_path}: {e}\")\n",
    "        return None"
   ]
  },
  {
   "cell_type": "code",
   "execution_count": 5,
   "id": "784701b9-4674-4127-9183-d2f82c27a457",
   "metadata": {
    "tags": []
   },
   "outputs": [],
   "source": [
    "# Caminho para o arquivo de IDs das imagens com fundo dark\n",
    "ids_dark = r'C:\\Users\\bruna\\OneDrive - Universidade do Minho\\Microbialdataset\\dark_images_ids.txt'"
   ]
  },
  {
   "cell_type": "code",
   "execution_count": 7,
   "id": "b2c76650-3528-4e18-b895-7769b8ab9a90",
   "metadata": {
    "tags": []
   },
   "outputs": [
    {
     "name": "stdout",
     "output_type": "stream",
     "text": [
      "Número de IDs carregados: 9649\n",
      "Primeiros 5 IDs: ['10000', '10001', '10002', '10003', '10004']\n"
     ]
    }
   ],
   "source": [
    "# Carregar IDs do grupo de treinamento de um arquivo de texto\n",
    "with open(ids_dark, 'r') as file:\n",
    "    ids = [line.strip() for line in file.readlines()]\n",
    "    \n",
    "print(f\"Número de IDs carregados: {len(ids)}\")\n",
    "print(f\"Primeiros 5 IDs: {ids[:5]}\")"
   ]
  },
  {
   "cell_type": "code",
   "execution_count": 8,
   "id": "cc04ceab-de1d-44d6-ad26-fd3414e54832",
   "metadata": {
    "tags": []
   },
   "outputs": [],
   "source": [
    "# Dividir os IDs em treinamento e validação (por exemplo, 80% para treinamento e 20% para validação)\n",
    "split_index = int(len(ids) * 0.8)\n",
    "train_ids = ids[:split_index]\n",
    "val_ids = ids[split_index:]"
   ]
  },
  {
   "cell_type": "code",
   "execution_count": 10,
   "id": "c2d2e097-60ea-4836-88b3-95f0e6232f2c",
   "metadata": {
    "tags": []
   },
   "outputs": [],
   "source": [
    "%%capture\n",
    "# Listas para armazenar caminhos de imagem e rótulos correspondentes\n",
    "train_data = []\n",
    "val_data = []\n",
    "\n",
    "# Iterar sobre todos os arquivos no diretório\n",
    "for filename in os.listdir(image_dir):\n",
    "    if filename.endswith('.json'):\n",
    "        json_path = os.path.join(image_dir, filename)\n",
    "        with open(json_path, 'r') as file:\n",
    "            try:\n",
    "                json_data = json.load(file)\n",
    "            except json.JSONDecodeError as e:\n",
    "                print(f\"Erro ao carregar JSON {json_path}: {e}\")\n",
    "                continue\n",
    "\n",
    "        sample_id = str(json_data.get('sample_id', None))\n",
    "        if sample_id is None:\n",
    "            print(f\"ID da amostra ausente no JSON: {json_path}\")\n",
    "            continue\n",
    "\n",
    "        image_filename = f\"{sample_id}.jpg\"\n",
    "        image_path = os.path.join(image_dir, image_filename)\n",
    "        if not os.path.exists(image_path):\n",
    "            print(f\"Arquivo de imagem não encontrado: {image_path}\")\n",
    "            continue\n",
    "\n",
    "        classes = json_data.get('classes', [])\n",
    "        if not classes:\n",
    "            print(f\"Chave 'classes' ausente ou vazia no JSON: {json_path}\")\n",
    "            continue\n",
    "\n",
    "        data_tuple = (image_path, classes[0])\n",
    "        if sample_id in train_ids:\n",
    "            train_data.append(data_tuple)\n",
    "        elif sample_id in val_ids:\n",
    "            val_data.append(data_tuple)"
   ]
  },
  {
   "cell_type": "code",
   "execution_count": 11,
   "id": "62c51858-c1b1-4199-9bf5-b24dbeb9a416",
   "metadata": {
    "tags": []
   },
   "outputs": [
    {
     "name": "stdout",
     "output_type": "stream",
     "text": [
      "Número de imagens no conjunto de treinamento: 7718\n",
      "Número de imagens no conjunto de validação: 1930\n"
     ]
    }
   ],
   "source": [
    "print(f\"Número de imagens no conjunto de treinamento: {len(train_data)}\")\n",
    "print(f\"Número de imagens no conjunto de validação: {len(val_data)}\")"
   ]
  },
  {
   "cell_type": "code",
   "execution_count": 12,
   "id": "2abb5580-e8ee-4be1-a068-019774b4df7e",
   "metadata": {
    "tags": []
   },
   "outputs": [],
   "source": [
    "# Separar caminhos de imagem e rótulos para treinamento e validação\n",
    "train_images, train_labels = zip(*train_data)\n",
    "val_images, val_labels = zip(*val_data)"
   ]
  },
  {
   "cell_type": "code",
   "execution_count": 13,
   "id": "4a96ce3b-9a6a-4aa0-856b-1442eed6810e",
   "metadata": {
    "tags": []
   },
   "outputs": [],
   "source": [
    "# Converter os rótulos em formato adequado (numérico), se necessário\n",
    "label_encoder = LabelEncoder()\n",
    "train_labels = label_encoder.fit_transform(train_labels)\n",
    "val_labels = label_encoder.transform(val_labels)"
   ]
  },
  {
   "cell_type": "code",
   "execution_count": 14,
   "id": "9a255eef-3d0f-4a45-91fe-be2356ad8f2c",
   "metadata": {
    "tags": []
   },
   "outputs": [],
   "source": [
    "# Transformar os rótulos em one-hot encoding\n",
    "one_hot_encoder = OneHotEncoder(sparse_output=False)\n",
    "train_labels_one_hot = one_hot_encoder.fit_transform(train_labels.reshape(-1, 1))\n",
    "val_labels_one_hot = one_hot_encoder.transform(val_labels.reshape(-1, 1))"
   ]
  },
  {
   "cell_type": "code",
   "execution_count": 15,
   "id": "97b7afaa-2b16-4548-9bf1-447a5ef4d095",
   "metadata": {
    "tags": []
   },
   "outputs": [],
   "source": [
    "# Criar gerador de dados personalizado\n",
    "class DataGenerator(Sequence):\n",
    "    def __init__(self, image_paths, labels, batch_size=32, target_size=(112, 112)):\n",
    "        self.image_paths = image_paths\n",
    "        self.labels = labels\n",
    "        self.batch_size = batch_size\n",
    "        self.target_size = target_size\n",
    "        self.indices = np.arange(len(self.image_paths))\n",
    "    \n",
    "    def __len__(self):\n",
    "        return int(np.ceil(len(self.image_paths) / self.batch_size))\n",
    "    \n",
    "    def __getitem__(self, index):\n",
    "        batch_indices = self.indices[index * self.batch_size:(index + 1) * self.batch_size]\n",
    "        batch_images = [load_image(self.image_paths[i], self.target_size) for i in batch_indices]\n",
    "        batch_labels = self.labels[batch_indices]\n",
    "        return np.array(batch_images), np.array(batch_labels)\n",
    "    \n",
    "    def on_epoch_end(self):\n",
    "        np.random.shuffle(self.indices)"
   ]
  },
  {
   "cell_type": "code",
   "execution_count": 16,
   "id": "7cd923b8-8de6-4602-8790-54da545801cb",
   "metadata": {
    "tags": []
   },
   "outputs": [],
   "source": [
    "# Criar os geradores de treinamento e validação\n",
    "train_generator = DataGenerator(train_images, train_labels_one_hot, batch_size=32)\n",
    "val_generator = DataGenerator(val_images, val_labels_one_hot, batch_size=32)"
   ]
  },
  {
   "cell_type": "code",
   "execution_count": 17,
   "id": "587f11d5-eabd-412d-8b47-7fb138a3d62e",
   "metadata": {
    "tags": []
   },
   "outputs": [
    {
     "name": "stdout",
     "output_type": "stream",
     "text": [
      "Downloading data from https://storage.googleapis.com/tensorflow/keras-applications/vgg16/vgg16_weights_tf_dim_ordering_tf_kernels_notop.h5\n",
      "58889256/58889256 [==============================] - 6s 0us/step\n"
     ]
    }
   ],
   "source": [
    "# Carregar o modelo base VGG16 com pesos pré-treinados da ImageNet\n",
    "base_model_vgg16 = VGG16(weights='imagenet', include_top=False, input_shape=(112, 112, 3))"
   ]
  },
  {
   "cell_type": "code",
   "execution_count": 18,
   "id": "773dd9d7-fe93-4870-bced-41baca2d9cc3",
   "metadata": {
    "tags": []
   },
   "outputs": [],
   "source": [
    "# Congelar as camadas da VGG16 para treinar apenas as camadas personalizadas\n",
    "base_model_vgg16.trainable = False"
   ]
  },
  {
   "cell_type": "code",
   "execution_count": 19,
   "id": "e007b3ba-1da3-4c68-a1ea-3c1c3b7182a3",
   "metadata": {
    "tags": []
   },
   "outputs": [],
   "source": [
    "# Adicionar novas camadas no topo do modelo base\n",
    "x = base_model_vgg16.output\n",
    "x = Flatten()(x)\n",
    "x = Dense(128, activation='relu')(x)\n",
    "x = Dropout(0.5)(x)\n",
    "predictions = Dense(len(label_encoder.classes_), activation='softmax')(x)"
   ]
  },
  {
   "cell_type": "code",
   "execution_count": 20,
   "id": "89c8094a-5c01-4dee-9d44-68a7214416f5",
   "metadata": {
    "tags": []
   },
   "outputs": [],
   "source": [
    "# Criar o modelo final\n",
    "model_vgg16 = Model(inputs=base_model_vgg16.input, outputs=predictions)"
   ]
  },
  {
   "cell_type": "code",
   "execution_count": 21,
   "id": "c4c223ac-d8a0-46fc-9ae5-200bc1725908",
   "metadata": {
    "tags": []
   },
   "outputs": [],
   "source": [
    "# Fine-tuning \n",
    "# Descongelar as últimas camadas da VGG16 para fazer fine-tuning\n",
    "for layer in base_model_vgg16.layers[-4:]:\n",
    "    layer.trainable = True"
   ]
  },
  {
   "cell_type": "code",
   "execution_count": 22,
   "id": "de008a65-75ca-41ac-ae14-8a49c4ddf8b5",
   "metadata": {
    "tags": []
   },
   "outputs": [],
   "source": [
    "# Recompilar o modelo \n",
    "model_vgg16.compile(optimizer=tf.keras.optimizers.Adam(learning_rate=1e-5), \n",
    "                    loss='categorical_crossentropy', \n",
    "                    metrics=['accuracy'])"
   ]
  },
  {
   "cell_type": "code",
   "execution_count": 23,
   "id": "b23fc139-4ea2-4173-897a-1a669b146d55",
   "metadata": {
    "tags": []
   },
   "outputs": [
    {
     "name": "stdout",
     "output_type": "stream",
     "text": [
      "Epoch 1/10\n",
      "242/242 [==============================] - 2006s 8s/step - loss: 1.3666 - accuracy: 0.4368 - val_loss: 1.1575 - val_accuracy: 0.5461\n",
      "Epoch 2/10\n",
      "242/242 [==============================] - 1947s 8s/step - loss: 1.0709 - accuracy: 0.5889 - val_loss: 0.9381 - val_accuracy: 0.6534\n",
      "Epoch 3/10\n",
      "242/242 [==============================] - 1949s 8s/step - loss: 0.9456 - accuracy: 0.6424 - val_loss: 0.8537 - val_accuracy: 0.6534\n",
      "Epoch 4/10\n",
      "242/242 [==============================] - 1957s 8s/step - loss: 0.8675 - accuracy: 0.6771 - val_loss: 0.7085 - val_accuracy: 0.7782\n",
      "Epoch 5/10\n",
      "242/242 [==============================] - 2083s 9s/step - loss: 0.8008 - accuracy: 0.7029 - val_loss: 0.6363 - val_accuracy: 0.7762\n",
      "Epoch 6/10\n",
      "242/242 [==============================] - 1955s 8s/step - loss: 0.7607 - accuracy: 0.7186 - val_loss: 0.5924 - val_accuracy: 0.7902\n",
      "Epoch 7/10\n",
      "242/242 [==============================] - 1954s 8s/step - loss: 0.7188 - accuracy: 0.7323 - val_loss: 0.5571 - val_accuracy: 0.8057\n",
      "Epoch 8/10\n",
      "242/242 [==============================] - 1955s 8s/step - loss: 0.6804 - accuracy: 0.7425 - val_loss: 0.5876 - val_accuracy: 0.7689\n",
      "Epoch 9/10\n",
      "242/242 [==============================] - 1958s 8s/step - loss: 0.6648 - accuracy: 0.7538 - val_loss: 0.5399 - val_accuracy: 0.8005\n",
      "Epoch 10/10\n",
      "242/242 [==============================] - 1987s 8s/step - loss: 0.6386 - accuracy: 0.7581 - val_loss: 0.5065 - val_accuracy: 0.8130\n"
     ]
    }
   ],
   "source": [
    "# Treinar o modelo com fine-tuning\n",
    "history_vgg16 = model_vgg16.fit(\n",
    "    train_generator,\n",
    "    epochs=10,\n",
    "    validation_data=val_generator\n",
    ")"
   ]
  },
  {
   "cell_type": "code",
   "execution_count": 24,
   "id": "c2326d9d-393d-4374-b0c4-0168d93db024",
   "metadata": {
    "tags": []
   },
   "outputs": [
    {
     "name": "stdout",
     "output_type": "stream",
     "text": [
      "INFO:tensorflow:Assets written to: trained_model.vgg16_dark\\assets\n"
     ]
    },
    {
     "name": "stderr",
     "output_type": "stream",
     "text": [
      "INFO:tensorflow:Assets written to: trained_model.vgg16_dark\\assets\n"
     ]
    }
   ],
   "source": [
    "# Salvar o modelo treinado\n",
    "model_vgg16.save('trained_model.vgg16_dark')"
   ]
  },
  {
   "cell_type": "code",
   "execution_count": 25,
   "id": "0aa4f798-4dbc-4cde-bd88-3ad3d28d3d7d",
   "metadata": {
    "tags": []
   },
   "outputs": [
    {
     "name": "stdout",
     "output_type": "stream",
     "text": [
      "61/61 [==============================] - 364s 6s/step - loss: 0.5065 - accuracy: 0.8130\n",
      "Loss on validation set: 0.506476104259491\n",
      "Accuracy on validation set: 0.8129533529281616\n"
     ]
    }
   ],
   "source": [
    "# Avaliar o modelo usando o gerador de dados de validação\n",
    "val_loss_vgg16, val_accuracy_vgg16 = model_vgg16.evaluate(val_generator)\n",
    "print(f\"Loss on validation set: {val_loss_vgg16}\")\n",
    "print(f\"Accuracy on validation set: {val_accuracy_vgg16}\")"
   ]
  },
  {
   "cell_type": "code",
   "execution_count": 26,
   "id": "b0552666-05ed-4836-aa4f-b99071ad9f10",
   "metadata": {
    "tags": []
   },
   "outputs": [
    {
     "name": "stdout",
     "output_type": "stream",
     "text": [
      "61/61 [==============================] - 54s 875ms/step\n",
      "Matriz de Confusão:\n",
      "[[327  62  22  51   6]\n",
      " [  2 284   2  19  12]\n",
      " [  3   3 333  15   6]\n",
      " [  4  13  28 319   1]\n",
      " [  2  60  14  36 306]]\n",
      "Relatório de Classificação:\n",
      "              precision    recall  f1-score   support\n",
      "\n",
      "  B.subtilis       0.97      0.70      0.81       468\n",
      "  C.albicans       0.67      0.89      0.77       319\n",
      "      E.coli       0.83      0.93      0.88       360\n",
      "P.aeruginosa       0.72      0.87      0.79       365\n",
      "    S.aureus       0.92      0.73      0.82       418\n",
      "\n",
      "    accuracy                           0.81      1930\n",
      "   macro avg       0.82      0.82      0.81      1930\n",
      "weighted avg       0.84      0.81      0.81      1930\n",
      "\n"
     ]
    }
   ],
   "source": [
    "# Analisar os resultados com matriz de confusão e relatório de classificação\n",
    "from sklearn.metrics import confusion_matrix, classification_report\n",
    "\n",
    "# Carregar e processar as imagens de validação\n",
    "val_images_processed = np.array([load_image(img_path) for img_path in val_images])\n",
    "\n",
    "# Verificar se há alguma imagem que não foi carregada corretamente\n",
    "val_images_processed = np.array([img for img in val_images_processed if img is not None])\n",
    "\n",
    "# Obter previsões do modelo\n",
    "val_predictions = model_vgg16.predict(val_images_processed)\n",
    "\n",
    "# Converter previsões one-hot encoded para rótulos\n",
    "val_predictions_labels = np.argmax(val_predictions, axis=1)\n",
    "val_labels_labels = np.argmax(val_labels_one_hot, axis=1)\n",
    "\n",
    "# Matriz de confusão\n",
    "conf_matrix = confusion_matrix(val_labels_labels, val_predictions_labels)\n",
    "print(\"Matriz de Confusão:\")\n",
    "print(conf_matrix)\n",
    "\n",
    "# Relatório de classificação\n",
    "target_names = label_encoder.classes_  # Usar as classes reais\n",
    "class_report = classification_report(val_labels_labels, val_predictions_labels, target_names=target_names)\n",
    "print(\"Relatório de Classificação:\")\n",
    "print(class_report)"
   ]
  },
  {
   "cell_type": "code",
   "execution_count": 27,
   "id": "253b738a-ec77-4697-9b46-704933402938",
   "metadata": {
    "tags": []
   },
   "outputs": [
    {
     "data": {
      "image/png": "[encoded data removed]",
      "text/plain": [
       "<Figure size 1000x800 with 2 Axes>"
      ]
     },
     "metadata": {},
     "output_type": "display_data"
    }
   ],
   "source": [
    "import seaborn as sns\n",
    "import matplotlib.pyplot as plt\n",
    "# Visualizar a matriz de confusão\n",
    "plt.figure(figsize=(10, 8))\n",
    "sns.heatmap(conf_matrix, annot=True, fmt='d', cmap='Blues', xticklabels=label_encoder.classes_, yticklabels=label_encoder.classes_)\n",
    "plt.xlabel('Predicted Label')\n",
    "plt.ylabel('True Label')\n",
    "plt.title('Confusion Matrix')\n",
    "plt.show()"
   ]
  },
  {
   "cell_type": "markdown",
   "id": "cdd2cca4-cbc5-4def-9e02-05564056e318",
   "metadata": {},
   "source": [
    "__Acurácia:__ O modelo alcançou uma acurácia de validação de aproximadamente 81.3%, o que indica que ele está performando razoavelmente bem,"
   ]
  },
  {
   "cell_type": "markdown",
   "id": "27841010-dc51-4eba-8c3e-cf7a0daec2e4",
   "metadata": {},
   "source": [
    "__Matriz de Confusão:__ A matriz de confusão mostra que o modelo tem dificuldades em distinguir algumas classes, como B.subtilis e C.albicans, e S.aureus e C.albicans. Isso sugere que as características dessas classes podem ser semelhantes para o modelo, resultando em confusões"
   ]
  },
  {
   "cell_type": "code",
   "execution_count": null,
   "id": "ff31112f-8119-4eab-84d9-1940ef8cb19e",
   "metadata": {},
   "outputs": [],
   "source": []
  }
 ],
 "metadata": {
  "kernelspec": {
   "display_name": "Python 3 (ipykernel)",
   "language": "python",
   "name": "python3"
  },
  "language_info": {
   "codemirror_mode": {
    "name": "ipython",
    "version": 3
   },
   "file_extension": ".py",
   "mimetype": "text/x-python",
   "name": "python",
   "nbconvert_exporter": "python",
   "pygments_lexer": "ipython3",
   "version": "3.11.5"
  },
  "widgets": {
   "application/vnd.jupyter.widget-state+json": {
    "state": {},
    "version_major": 2,
    "version_minor": 0
   }
  }
 },
 "nbformat": 4,
 "nbformat_minor": 5
}

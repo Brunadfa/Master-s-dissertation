{
 "cells": [
  {
   "cell_type": "code",
   "execution_count": 31,
   "id": "593d29ac-5072-48fd-8415-a78af59ca5e9",
   "metadata": {
    "tags": []
   },
   "outputs": [],
   "source": [
    "import os\n",
    "import json\n",
    "import numpy as np\n",
    "from PIL import Image\n",
    "from sklearn.preprocessing import LabelEncoder, OneHotEncoder\n",
    "from sklearn.model_selection import train_test_split\n",
    "import tensorflow as tf\n",
    "from tensorflow.keras.applications import VGG16\n",
    "from tensorflow.keras.layers import Dense, Flatten, Dropout\n",
    "from tensorflow.keras.models import Model\n",
    "from tensorflow.keras.utils import Sequence"
   ]
  },
  {
   "cell_type": "code",
   "execution_count": 32,
   "id": "182db799-0867-4105-bbd3-f2b0212c22e8",
   "metadata": {
    "tags": []
   },
   "outputs": [
    {
     "name": "stdout",
     "output_type": "stream",
     "text": [
      "GPU is not available\n"
     ]
    }
   ],
   "source": [
    "# Verificar se a GPU está disponível\n",
    "print(\"GPU is available\" if tf.config.list_physical_devices('GPU') else \"GPU is not available\")"
   ]
  },
  {
   "cell_type": "code",
   "execution_count": 33,
   "id": "162157fe-85f4-4592-a2c3-7961e4ac79f0",
   "metadata": {
    "tags": []
   },
   "outputs": [],
   "source": [
    "# Diretório onde estão armazenadas as imagens\n",
    "image_dir = r'C:\\Users\\bruna\\OneDrive - Universidade do Minho\\Tese Mestrado em Bioinformática\\AGAR_dataset\\AGAR_dataset\\dataset'"
   ]
  },
  {
   "cell_type": "code",
   "execution_count": 34,
   "id": "a21f16a8-9035-4db0-a38d-9ef65896ed6d",
   "metadata": {
    "tags": []
   },
   "outputs": [],
   "source": [
    "# Função para carregar e redimensionar as imagens\n",
    "def load_image(image_path, target_size=(112, 112)):\n",
    "    try:\n",
    "        image = Image.open(image_path)\n",
    "        image = image.resize(target_size)  \n",
    "        return np.array(image) / 255.0  \n",
    "    except Exception as e:\n",
    "        print(f\"Erro ao carregar a imagem {image_path}: {e}\")\n",
    "        return None"
   ]
  },
  {
   "cell_type": "code",
   "execution_count": 35,
   "id": "885f4ecd-b72b-41c0-95eb-08991d22f5de",
   "metadata": {
    "tags": []
   },
   "outputs": [],
   "source": [
    "# Carregar IDs do grupo de treinamento\n",
    "train_ids_file = r'C:\\Users\\bruna\\OneDrive - Universidade do Minho\\Tese Mestrado em Bioinformática\\AGAR_dataset\\AGAR_dataset\\training_lists\\higher_resolution_train.txt'\n",
    "with open(train_ids_file, 'r') as file:\n",
    "    train_ids = [str(id) for id in json.loads(file.read())]"
   ]
  },
  {
   "cell_type": "code",
   "execution_count": 36,
   "id": "a4f846b0-df1b-4b18-85ac-527787e9a755",
   "metadata": {
    "tags": []
   },
   "outputs": [],
   "source": [
    "# Carregar IDs do grupo de validação\n",
    "val_ids_file = r'C:\\Users\\bruna\\OneDrive - Universidade do Minho\\Tese Mestrado em Bioinformática\\AGAR_dataset\\AGAR_dataset\\training_lists\\higher_resolution_val.txt'\n",
    "with open(val_ids_file, 'r') as file:\n",
    "    val_ids = [str(id) for id in json.loads(file.read())]"
   ]
  },
  {
   "cell_type": "code",
   "execution_count": 37,
   "id": "74c38d8c-2594-4b3b-8ed3-13ca7e91efbd",
   "metadata": {
    "tags": []
   },
   "outputs": [],
   "source": [
    "%%capture\n",
    "# Listas para armazenar caminhos de imagem e rótulos correspondentes\n",
    "train_data = []\n",
    "val_data = []\n",
    "\n",
    "# Iterar sobre todos os arquivos no diretório\n",
    "for filename in os.listdir(image_dir):\n",
    "    if filename.endswith('.json'):\n",
    "        json_path = os.path.join(image_dir, filename)\n",
    "        with open(json_path, 'r') as file:\n",
    "            try:\n",
    "                json_data = json.load(file)\n",
    "            except json.JSONDecodeError as e:\n",
    "                print(f\"Erro ao carregar JSON {json_path}: {e}\")\n",
    "                continue\n",
    "        \n",
    "        sample_id = str(json_data.get('sample_id', None))\n",
    "        if sample_id is None:\n",
    "            print(f\"ID da amostra ausente no JSON: {json_path}\")\n",
    "            continue\n",
    "\n",
    "        image_filename = f\"{sample_id}.jpg\"\n",
    "        image_path = os.path.join(image_dir, image_filename)\n",
    "        if not os.path.exists(image_path):\n",
    "            print(f\"Arquivo de imagem não encontrado: {image_path}\")\n",
    "            continue\n",
    "        \n",
    "        classes = json_data.get('classes', [])\n",
    "        if not classes:\n",
    "            print(f\"Chave 'classes' ausente ou vazia no JSON: {json_path}\")\n",
    "            continue\n",
    "        \n",
    "        data_tuple = (image_path, classes[0])\n",
    "        if sample_id in train_ids:\n",
    "            train_data.append(data_tuple)\n",
    "        elif sample_id in val_ids:\n",
    "            val_data.append(data_tuple)"
   ]
  },
  {
   "cell_type": "code",
   "execution_count": 38,
   "id": "6a7863c3-ec1a-48d4-8bb8-73e3208d8fb0",
   "metadata": {},
   "outputs": [
    {
     "name": "stdout",
     "output_type": "stream",
     "text": [
      "Número de imagens de treinamento carregadas: 5240\n",
      "Número de imagens de validação carregadas: 1746\n"
     ]
    }
   ],
   "source": [
    "# Verificar o número de imagens carregadas\n",
    "print(f\"Número de imagens de treinamento carregadas: {len(train_data)}\")\n",
    "print(f\"Número de imagens de validação carregadas: {len(val_data)}\")"
   ]
  },
  {
   "cell_type": "code",
   "execution_count": 43,
   "id": "4ac12814-413c-4df1-b6df-b0b4cadb23e6",
   "metadata": {},
   "outputs": [],
   "source": [
    "# Separar as imagens e os rótulos (labels)\n",
    "train_images = [data[0] for data in train_data]\n",
    "train_labels = [data[1] for data in train_data]\n",
    "\n",
    "val_images = [data[0] for data in val_data]\n",
    "val_labels = [data[1] for data in val_data]"
   ]
  },
  {
   "cell_type": "code",
   "execution_count": 44,
   "id": "2c8e0224-31aa-4bcf-8264-14526bb5ad11",
   "metadata": {},
   "outputs": [],
   "source": [
    "# Carregar as imagens\n",
    "train_images = [load_image(image_path, target_size=(112, 112)) for image_path in train_images]\n",
    "val_images = [load_image(image_path, target_size=(112, 112)) for image_path in val_images]"
   ]
  },
  {
   "cell_type": "code",
   "execution_count": 45,
   "id": "dfd45ee7-396e-4869-88ed-e633dab5c77d",
   "metadata": {},
   "outputs": [],
   "source": [
    "# Verificar se alguma imagem falhou ao carregar\n",
    "train_images = [img for img in train_images if img is not None]\n",
    "val_images = [img for img in val_images if img is not None]"
   ]
  },
  {
   "cell_type": "code",
   "execution_count": 46,
   "id": "b3faa7b4-64f6-412a-a51a-3d937dbbd47d",
   "metadata": {},
   "outputs": [],
   "source": [
    "# Converter os rótulos em formato adequado (numérico)\n",
    "label_encoder = LabelEncoder()\n",
    "train_labels = label_encoder.fit_transform(train_labels)\n",
    "val_labels = label_encoder.transform(val_labels)"
   ]
  },
  {
   "cell_type": "code",
   "execution_count": 47,
   "id": "4e66d0c7-8f3e-4528-8469-72db9af23caa",
   "metadata": {},
   "outputs": [],
   "source": [
    "one_hot_encoder = OneHotEncoder(sparse_output=False)\n",
    "\n",
    "# Ajuste o codificador nos rótulos de treino e transforme-os em one-hot encoding\n",
    "train_labels_one_hot = one_hot_encoder.fit_transform(train_labels.reshape(-1, 1))\n",
    "\n",
    "# Transforme os rótulos de validação\n",
    "val_labels_one_hot = one_hot_encoder.transform(val_labels.reshape(-1, 1))"
   ]
  },
  {
   "cell_type": "code",
   "execution_count": 48,
   "id": "e4fe166f-2d5d-44c3-aff3-3ca03adf2147",
   "metadata": {},
   "outputs": [],
   "source": [
    "# Definir um gerador de dados personalizado\n",
    "class DataGenerator(Sequence):\n",
    "    def __init__(self, image_paths, labels, batch_size=16, target_size=(112, 112)):\n",
    "        self.image_paths = image_paths\n",
    "        self.labels = labels\n",
    "        self.batch_size = batch_size\n",
    "        self.target_size = target_size\n",
    "        self.indices = np.arange(len(self.image_paths))\n",
    "    \n",
    "    def __len__(self):\n",
    "        return int(np.ceil(len(self.image_paths) / self.batch_size))\n",
    "    \n",
    "    def __getitem__(self, index):\n",
    "        batch_indices = self.indices[index * self.batch_size:(index + 1) * self.batch_size]\n",
    "        batch_images = [load_image(self.image_paths[i], self.target_size) for i in batch_indices]\n",
    "        batch_labels = self.labels[batch_indices]\n",
    "        return np.array(batch_images), np.array(batch_labels)\n",
    "    \n",
    "    def on_epoch_end(self):\n",
    "        np.random.shuffle(self.indices)"
   ]
  },
  {
   "cell_type": "code",
   "execution_count": 49,
   "id": "77feff65-1359-41dc-93e9-0eb96518604c",
   "metadata": {},
   "outputs": [],
   "source": [
    "# Criar geradores para treinamento e validação\n",
    "train_generator = DataGenerator(train_images, train_labels_one_hot, batch_size=16)\n",
    "val_generator = DataGenerator(val_images, val_labels_one_hot, batch_size=16)"
   ]
  },
  {
   "cell_type": "code",
   "execution_count": 50,
   "id": "cab57c1d-d627-4fc3-95b4-e424216515ea",
   "metadata": {},
   "outputs": [],
   "source": [
    "# Carregar o modelo base VGG16 com pesos pré-treinados da ImageNet\n",
    "base_model = VGG16(weights='imagenet', include_top=False, input_shape=(112, 112, 3))"
   ]
  },
  {
   "cell_type": "code",
   "execution_count": 51,
   "id": "a68106cf-8088-463e-98c2-57d6a69b9b70",
   "metadata": {},
   "outputs": [],
   "source": [
    "# Congelar as camadas da VGG16 para treinar apenas as camadas personalizadas\n",
    "base_model.trainable = False"
   ]
  },
  {
   "cell_type": "code",
   "execution_count": 52,
   "id": "d66a1e79-110e-49cf-89ae-296c0dc3fd6a",
   "metadata": {},
   "outputs": [],
   "source": [
    "# Adicionar novas camadas no topo do modelo base\n",
    "x = base_model.output\n",
    "x = Flatten()(x)\n",
    "x = Dense(128, activation='relu')(x)\n",
    "x = Dropout(0.5)(x)\n",
    "predictions = Dense(len(label_encoder.classes_), activation='softmax')(x)"
   ]
  },
  {
   "cell_type": "code",
   "execution_count": 53,
   "id": "b5fc8eaa-cdc1-4c46-9e36-8bc1507dd202",
   "metadata": {},
   "outputs": [],
   "source": [
    "# Criar o modelo final\n",
    "model = Model(inputs=base_model.input, outputs=predictions)"
   ]
  },
  {
   "cell_type": "code",
   "execution_count": 55,
   "id": "f7f6a0c3-4c9b-422c-99cf-a346388f7e31",
   "metadata": {},
   "outputs": [],
   "source": [
    "# Compilar o modelo\n",
    "model.compile(optimizer=tf.keras.optimizers.Adam(learning_rate=1e-5), \n",
    "              loss='categorical_crossentropy', \n",
    "              metrics=['accuracy'])"
   ]
  },
  {
   "cell_type": "code",
   "execution_count": 56,
   "id": "90c2f146-80dd-49fe-bd18-12cb698a9c60",
   "metadata": {},
   "outputs": [
    {
     "name": "stdout",
     "output_type": "stream",
     "text": [
      "Epoch 1/20\n",
      "328/328 [==============================] - 222s 670ms/step - loss: 1.7144 - accuracy: 0.2519 - val_loss: 1.4506 - val_accuracy: 0.3992\n",
      "Epoch 2/20\n",
      "328/328 [==============================] - 203s 618ms/step - loss: 1.4866 - accuracy: 0.3502 - val_loss: 1.3771 - val_accuracy: 0.4542\n",
      "Epoch 3/20\n",
      "328/328 [==============================] - 199s 608ms/step - loss: 1.3984 - accuracy: 0.4181 - val_loss: 1.3289 - val_accuracy: 0.4593\n",
      "Epoch 4/20\n",
      "328/328 [==============================] - 199s 606ms/step - loss: 1.3518 - accuracy: 0.4576 - val_loss: 1.2911 - val_accuracy: 0.5304\n",
      "Epoch 5/20\n",
      "328/328 [==============================] - 197s 600ms/step - loss: 1.3085 - accuracy: 0.4824 - val_loss: 1.2594 - val_accuracy: 0.5372\n",
      "Epoch 6/20\n",
      "328/328 [==============================] - 196s 598ms/step - loss: 1.2760 - accuracy: 0.4966 - val_loss: 1.2317 - val_accuracy: 0.5389\n",
      "Epoch 7/20\n",
      "328/328 [==============================] - 195s 594ms/step - loss: 1.2602 - accuracy: 0.5160 - val_loss: 1.2148 - val_accuracy: 0.5544\n",
      "Epoch 8/20\n",
      "328/328 [==============================] - 196s 597ms/step - loss: 1.2313 - accuracy: 0.5311 - val_loss: 1.1957 - val_accuracy: 0.5567\n",
      "Epoch 9/20\n",
      "328/328 [==============================] - 200s 610ms/step - loss: 1.2194 - accuracy: 0.5286 - val_loss: 1.1757 - val_accuracy: 0.5813\n",
      "Epoch 10/20\n",
      "328/328 [==============================] - 207s 631ms/step - loss: 1.1977 - accuracy: 0.5435 - val_loss: 1.1608 - val_accuracy: 0.5773\n",
      "Epoch 11/20\n",
      "328/328 [==============================] - 214s 652ms/step - loss: 1.1899 - accuracy: 0.5424 - val_loss: 1.1483 - val_accuracy: 0.5876\n",
      "Epoch 12/20\n",
      "328/328 [==============================] - 204s 622ms/step - loss: 1.1668 - accuracy: 0.5521 - val_loss: 1.1335 - val_accuracy: 0.5842\n",
      "Epoch 13/20\n",
      "328/328 [==============================] - 204s 622ms/step - loss: 1.1557 - accuracy: 0.5571 - val_loss: 1.1267 - val_accuracy: 0.5745\n",
      "Epoch 14/20\n",
      "328/328 [==============================] - 203s 618ms/step - loss: 1.1426 - accuracy: 0.5616 - val_loss: 1.1121 - val_accuracy: 0.5945\n",
      "Epoch 15/20\n",
      "328/328 [==============================] - 203s 618ms/step - loss: 1.1299 - accuracy: 0.5754 - val_loss: 1.1037 - val_accuracy: 0.5979\n",
      "Epoch 16/20\n",
      "328/328 [==============================] - 202s 615ms/step - loss: 1.1231 - accuracy: 0.5756 - val_loss: 1.0944 - val_accuracy: 0.5974\n",
      "Epoch 17/20\n",
      "328/328 [==============================] - 199s 608ms/step - loss: 1.1115 - accuracy: 0.5775 - val_loss: 1.0939 - val_accuracy: 0.5951\n",
      "Epoch 18/20\n",
      "328/328 [==============================] - 210s 640ms/step - loss: 1.1037 - accuracy: 0.5840 - val_loss: 1.0767 - val_accuracy: 0.6037\n",
      "Epoch 19/20\n",
      "328/328 [==============================] - 200s 611ms/step - loss: 1.0947 - accuracy: 0.5861 - val_loss: 1.0688 - val_accuracy: 0.6088\n",
      "Epoch 20/20\n",
      "328/328 [==============================] - 202s 616ms/step - loss: 1.0892 - accuracy: 0.5859 - val_loss: 1.0676 - val_accuracy: 0.6140\n"
     ]
    }
   ],
   "source": [
    "# Treinamento do modelo\n",
    "history = model.fit(\n",
    "    np.array(train_images), \n",
    "    train_labels_one_hot, \n",
    "    epochs=20, \n",
    "    batch_size=16, \n",
    "    validation_data=(np.array(val_images), val_labels_one_hot)\n",
    ")"
   ]
  },
  {
   "cell_type": "code",
   "execution_count": 57,
   "id": "4a500c10-fc50-47da-8abd-7c79528185de",
   "metadata": {},
   "outputs": [
    {
     "name": "stdout",
     "output_type": "stream",
     "text": [
      "INFO:tensorflow:Assets written to: trained_model.vgg16_higher_resolution\\assets\n"
     ]
    },
    {
     "name": "stderr",
     "output_type": "stream",
     "text": [
      "INFO:tensorflow:Assets written to: trained_model.vgg16_higher_resolution\\assets\n"
     ]
    }
   ],
   "source": [
    "model.save('trained_model.vgg16_higher_resolution')"
   ]
  },
  {
   "cell_type": "code",
   "execution_count": 58,
   "id": "e3c6932e-26af-4a36-b5cb-5583182669ca",
   "metadata": {},
   "outputs": [
    {
     "name": "stdout",
     "output_type": "stream",
     "text": [
      "55/55 [==============================] - 50s 909ms/step - loss: 1.0676 - accuracy: 0.6140\n",
      "Loss no conjunto de validação: 1.067598819732666\n",
      "Accuracy no conjunto de validação: 0.6139748096466064\n"
     ]
    }
   ],
   "source": [
    "# Avaliar no conjunto de validação\n",
    "val_loss, val_accuracy = model.evaluate(np.array(val_images), val_labels_one_hot)\n",
    "print(f\"Loss no conjunto de validação: {val_loss}\")\n",
    "print(f\"Accuracy no conjunto de validação: {val_accuracy}\")"
   ]
  },
  {
   "cell_type": "code",
   "execution_count": 59,
   "id": "7fbcbf49-ef68-4538-8d46-8cc4d7c13919",
   "metadata": {},
   "outputs": [
    {
     "name": "stdout",
     "output_type": "stream",
     "text": [
      "55/55 [==============================] - 49s 882ms/step\n",
      "Matriz de Confusão:\n",
      "[[ 27  45  39  51  17]\n",
      " [  5 251  17  74  21]\n",
      " [  9  21 325  68   9]\n",
      " [ 10  76  69 300  16]\n",
      " [  3  76  16  32 169]]\n",
      "Relatório de Classificação:\n",
      "              precision    recall  f1-score   support\n",
      "\n",
      "    Classe 0       0.50      0.15      0.23       179\n",
      "    Classe 1       0.54      0.68      0.60       368\n",
      "    Classe 2       0.70      0.75      0.72       432\n",
      "    Classe 3       0.57      0.64      0.60       471\n",
      "    Classe 4       0.73      0.57      0.64       296\n",
      "\n",
      "    accuracy                           0.61      1746\n",
      "   macro avg       0.61      0.56      0.56      1746\n",
      "weighted avg       0.61      0.61      0.60      1746\n",
      "\n"
     ]
    }
   ],
   "source": [
    "# Matriz de confusão e relatório de classificação\n",
    "from sklearn.metrics import confusion_matrix, classification_report\n",
    "\n",
    "# Obter previsões do modelo\n",
    "val_predictions = model.predict(np.array(val_images))\n",
    "\n",
    "# Converter previsões one-hot encoded para rótulos\n",
    "val_predictions_labels = np.argmax(val_predictions, axis=1)\n",
    "val_labels_labels = np.argmax(val_labels_one_hot, axis=1)\n",
    "\n",
    "# Matriz de confusão\n",
    "conf_matrix = confusion_matrix(val_labels_labels, val_predictions_labels)\n",
    "print(\"Matriz de Confusão:\")\n",
    "print(conf_matrix)\n",
    "\n",
    "# Relatório de classificação\n",
    "target_names = ['Classe 0', 'Classe 1', 'Classe 2', 'Classe 3', 'Classe 4']\n",
    "class_report = classification_report(val_labels_labels, val_predictions_labels, target_names=target_names)\n",
    "print(\"Relatório de Classificação:\")\n",
    "print(class_report)"
   ]
  },
  {
   "cell_type": "code",
   "execution_count": 60,
   "id": "e81bb36b-d57b-46b2-a18d-c4962024c228",
   "metadata": {},
   "outputs": [
    {
     "data": {
      "image/png": "[encoded data removed]",
      "text/plain": [
       "<Figure size 1000x800 with 2 Axes>"
      ]
     },
     "metadata": {},
     "output_type": "display_data"
    }
   ],
   "source": [
    "import seaborn as sns\n",
    "import matplotlib.pyplot as plt\n",
    "# Visualizar a matriz de confusão\n",
    "plt.figure(figsize=(10, 8))\n",
    "sns.heatmap(conf_matrix, annot=True, fmt='d', cmap='Blues', xticklabels=label_encoder.classes_, yticklabels=label_encoder.classes_)\n",
    "plt.xlabel('Predicted Label')\n",
    "plt.ylabel('True Label')\n",
    "plt.title('Confusion Matrix')\n",
    "plt.show()"
   ]
  },
  {
   "cell_type": "code",
   "execution_count": null,
   "id": "7b1c25ff-1305-41af-a62b-97ad6f914583",
   "metadata": {},
   "outputs": [],
   "source": []
  }
 ],
 "metadata": {
  "kernelspec": {
   "display_name": "Python 3 (ipykernel)",
   "language": "python",
   "name": "python3"
  },
  "language_info": {
   "codemirror_mode": {
    "name": "ipython",
    "version": 3
   },
   "file_extension": ".py",
   "mimetype": "text/x-python",
   "name": "python",
   "nbconvert_exporter": "python",
   "pygments_lexer": "ipython3",
   "version": "3.11.5"
  },
  "widgets": {
   "application/vnd.jupyter.widget-state+json": {
    "state": {},
    "version_major": 2,
    "version_minor": 0
   }
  }
 },
 "nbformat": 4,
 "nbformat_minor": 5
}

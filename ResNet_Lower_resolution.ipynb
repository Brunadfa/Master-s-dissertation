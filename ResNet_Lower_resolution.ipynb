{
 "cells": [
  {
   "cell_type": "code",
   "execution_count": 59,
   "id": "be0fecba-3374-4b38-955c-910a5f272214",
   "metadata": {
    "tags": []
   },
   "outputs": [],
   "source": [
    "import os\n",
    "import json\n",
    "import numpy as np\n",
    "from PIL import Image\n",
    "from sklearn.preprocessing import LabelEncoder, OneHotEncoder\n",
    "from sklearn.model_selection import train_test_split\n",
    "import tensorflow as tf\n",
    "from tensorflow.keras.applications import ResNet50\n",
    "from tensorflow.keras.layers import Dense, Flatten, Dropout\n",
    "from tensorflow.keras.models import Model\n",
    "from tensorflow.keras.utils import Sequence"
   ]
  },
  {
   "cell_type": "code",
   "execution_count": 60,
   "id": "956f0172-13be-42e8-99cf-886bd2fc99c6",
   "metadata": {
    "tags": []
   },
   "outputs": [
    {
     "name": "stdout",
     "output_type": "stream",
     "text": [
      "GPU is not available\n"
     ]
    }
   ],
   "source": [
    "# Verificar se a GPU está disponível\n",
    "print(\"GPU is available\" if tf.config.list_physical_devices('GPU') else \"GPU is not available\")"
   ]
  },
  {
   "cell_type": "code",
   "execution_count": 61,
   "id": "1db5fc5b-8594-4d8b-b74e-963d23838d1b",
   "metadata": {
    "tags": []
   },
   "outputs": [],
   "source": [
    "# Diretório onde estão armazenadas as imagens\n",
    "image_dir = r'C:\\Users\\bruna\\OneDrive - Universidade do Minho\\Tese Mestrado em Bioinformática\\AGAR_dataset\\AGAR_dataset\\dataset'"
   ]
  },
  {
   "cell_type": "code",
   "execution_count": 86,
   "id": "57a5135a-f92e-4ab1-a302-20299f2ad738",
   "metadata": {
    "tags": []
   },
   "outputs": [],
   "source": [
    "# Function to load and resize images\n",
    "def load_image(image_path, target_size=(56, 56)):\n",
    "    try:\n",
    "        if isinstance(image_path, str):\n",
    "            image = Image.open(image_path)\n",
    "            image = image.resize(target_size)\n",
    "            return np.array(image) / 255.0  # Normalize pixel values to [0, 1]\n",
    "        else:\n",
    "            raise ValueError(\"image_path must be a string representing the file path to the image.\")\n",
    "    except Exception as e:\n",
    "        print(f\"Error loading image {image_path}: {e}\")\n",
    "        return None\n"
   ]
  },
  {
   "cell_type": "code",
   "execution_count": 87,
   "id": "a1356696-9a10-4b80-bdae-2d7fdba07fcd",
   "metadata": {
    "tags": []
   },
   "outputs": [],
   "source": [
    "# Carregar IDs do grupo de treinamento de um arquivo de texto\n",
    "train_ids_file = r'C:\\Users\\bruna\\OneDrive - Universidade do Minho\\Tese Mestrado em Bioinformática\\AGAR_dataset\\AGAR_dataset\\training_lists\\lower_resolution_train.txt'\n",
    "with open(train_ids_file, 'r') as file:\n",
    "    train_ids = [str(id) for id in json.loads(file.read())]"
   ]
  },
  {
   "cell_type": "code",
   "execution_count": 88,
   "id": "f12f1af8-58ea-45a1-8aba-0f15f8a29626",
   "metadata": {
    "tags": []
   },
   "outputs": [],
   "source": [
    "# Carregar IDs do grupo de validação de um arquivo de texto\n",
    "val_ids_file = r'C:\\Users\\bruna\\OneDrive - Universidade do Minho\\Tese Mestrado em Bioinformática\\AGAR_dataset\\AGAR_dataset\\training_lists\\lower_resolution_val.txt'\n",
    "with open(val_ids_file, 'r') as file:\n",
    "    val_ids = [str(id) for id in json.loads(file.read())]"
   ]
  },
  {
   "cell_type": "code",
   "execution_count": 89,
   "id": "fc63b9bf-89c5-44cb-91c8-415658aba3f3",
   "metadata": {
    "tags": []
   },
   "outputs": [
    {
     "name": "stdout",
     "output_type": "stream",
     "text": [
      "IDs de treinamento carregados: ['16078', '16831', '16073', '16072', '16830'] ... (3319 no total)\n",
      "IDs de validação carregados: ['14175', '14176', '15540', '14172', '14678'] ... (1107 no total)\n"
     ]
    }
   ],
   "source": [
    "# Verificar se os IDs foram carregados corretamente\n",
    "print(f\"IDs de treinamento carregados: {train_ids[:5]} ... ({len(train_ids)} no total)\")\n",
    "print(f\"IDs de validação carregados: {val_ids[:5]} ... ({len(val_ids)} no total)\")"
   ]
  },
  {
   "cell_type": "code",
   "execution_count": 90,
   "id": "2d19bf24-aa3c-482f-adf8-cac6b720eaab",
   "metadata": {
    "tags": []
   },
   "outputs": [],
   "source": [
    "%%capture\n",
    "# Listas para armazenar caminhos de imagem e rótulos correspondentes\n",
    "train_data = []\n",
    "val_data = []\n",
    "\n",
    "# Iterar sobre todos os arquivos no diretório\n",
    "for filename in os.listdir(image_dir):\n",
    "    if filename.endswith('.json'):\n",
    "        json_path = os.path.join(image_dir, filename)\n",
    "        with open(json_path, 'r') as file:\n",
    "            try:\n",
    "                json_data = json.load(file)\n",
    "            except json.JSONDecodeError as e:\n",
    "                print(f\"Erro ao carregar JSON {json_path}: {e}\")\n",
    "                continue\n",
    "        \n",
    "        sample_id = str(json_data.get('sample_id', None))\n",
    "        if sample_id is None:\n",
    "            print(f\"ID da amostra ausente no JSON: {json_path}\")\n",
    "            continue\n",
    "\n",
    "        image_filename = f\"{sample_id}.jpg\"\n",
    "        image_path = os.path.join(image_dir, image_filename)\n",
    "        if not os.path.exists(image_path):\n",
    "            print(f\"Arquivo de imagem não encontrado: {image_path}\")\n",
    "            continue\n",
    "        \n",
    "        classes = json_data.get('classes', [])\n",
    "        if not classes:\n",
    "            print(f\"Chave 'classes' ausente ou vazia no JSON: {json_path}\")\n",
    "            continue\n",
    "        \n",
    "        data_tuple = (image_path, classes[0])\n",
    "        if sample_id in train_ids:\n",
    "            train_data.append(data_tuple)\n",
    "        elif sample_id in val_ids:\n",
    "            val_data.append(data_tuple)"
   ]
  },
  {
   "cell_type": "code",
   "execution_count": 92,
   "id": "573873be-6ee6-4e4c-84aa-13608ba7c7e7",
   "metadata": {
    "tags": []
   },
   "outputs": [
    {
     "name": "stdout",
     "output_type": "stream",
     "text": [
      "Número de imagens de treinamento carregadas: 3318\n",
      "Número de imagens de validação carregadas: 1106\n"
     ]
    }
   ],
   "source": [
    "# Verificar o número de imagens carregadas\n",
    "print(f\"Número de imagens de treinamento carregadas: {len(train_data)}\")\n",
    "print(f\"Número de imagens de validação carregadas: {len(val_data)}\")"
   ]
  },
  {
   "cell_type": "code",
   "execution_count": 93,
   "id": "ad1c42fc-e0c3-49fd-b8c7-66f6365f7f55",
   "metadata": {
    "tags": []
   },
   "outputs": [],
   "source": [
    "# Separar as imagens e os rótulos (labels)\n",
    "train_images = [data[0] for data in train_data]\n",
    "train_labels = [data[1] for data in train_data]"
   ]
  },
  {
   "cell_type": "code",
   "execution_count": 94,
   "id": "0f0b19f3-3fcc-4c0e-b0c1-3ae0e34e4b57",
   "metadata": {
    "tags": []
   },
   "outputs": [],
   "source": [
    "val_images = [data[0] for data in val_data]\n",
    "val_labels = [data[1] for data in val_data]"
   ]
  },
  {
   "cell_type": "code",
   "execution_count": 95,
   "id": "623470d0-e1ec-4ff8-8ac6-d01cb6441987",
   "metadata": {
    "tags": []
   },
   "outputs": [],
   "source": [
    "# Load the images\n",
    "train_images = [load_image(image_path, target_size=(56, 56)) for image_path in train_images]\n",
    "val_images = [load_image(image_path, target_size=(56, 56)) for image_path in val_images]"
   ]
  },
  {
   "cell_type": "code",
   "execution_count": 96,
   "id": "54f87a17-11b1-4980-baed-efd0f816b381",
   "metadata": {
    "tags": []
   },
   "outputs": [],
   "source": [
    "# Verificar se alguma imagem falhou ao carregar\n",
    "train_images = [img for img in train_images if img is not None]\n",
    "val_images = [img for img in val_images if img is not None]"
   ]
  },
  {
   "cell_type": "code",
   "execution_count": 97,
   "id": "8668107e-4e85-4726-835b-ec5355090371",
   "metadata": {
    "tags": []
   },
   "outputs": [],
   "source": [
    "# Converter os rótulos em formato adequado (numérico)\n",
    "label_encoder = LabelEncoder()\n",
    "train_labels = label_encoder.fit_transform(train_labels)\n",
    "val_labels = label_encoder.transform(val_labels)"
   ]
  },
  {
   "cell_type": "code",
   "execution_count": 98,
   "id": "5db4549a-5f36-4ad3-8beb-3d1ce7c40eb4",
   "metadata": {
    "tags": []
   },
   "outputs": [],
   "source": [
    "from sklearn.preprocessing import LabelEncoder, OneHotEncoder\n",
    "\n",
    "# Use sparse_output no lugar de sparse\n",
    "one_hot_encoder = OneHotEncoder(sparse_output=False)\n",
    "\n",
    "# Ajuste o codificador nos rótulos de treino e transforme-os em one-hot encoding\n",
    "train_labels_one_hot = one_hot_encoder.fit_transform(train_labels.reshape(-1, 1))\n",
    "\n",
    "# Transforme os rótulos de validação\n",
    "val_labels_one_hot = one_hot_encoder.transform(val_labels.reshape(-1, 1))"
   ]
  },
  {
   "cell_type": "code",
   "execution_count": 108,
   "id": "46ce8b1c-170a-419d-9e3d-85e0ad8beb10",
   "metadata": {
    "tags": []
   },
   "outputs": [],
   "source": [
    "class DataGenerator(Sequence):\n",
    "    def __init__(self, images, labels, batch_size=16, target_size=(56, 56)):\n",
    "        self.images = images  # These are already loaded images, not paths\n",
    "        self.labels = labels\n",
    "        self.batch_size = batch_size\n",
    "        self.target_size = target_size\n",
    "        self.indices = np.arange(len(self.images))\n",
    "    \n",
    "    def __len__(self):\n",
    "        return int(np.ceil(len(self.images) / self.batch_size))\n",
    "    \n",
    "    def __getitem__(self, index):\n",
    "        batch_indices = self.indices[index * self.batch_size:(index + 1) * self.batch_size]\n",
    "        batch_images = [self.images[i] for i in batch_indices]  # No need to load images here\n",
    "        batch_labels = self.labels[batch_indices]\n",
    "        return np.array(batch_images), np.array(batch_labels)\n",
    "    \n",
    "    def on_epoch_end(self):\n",
    "        np.random.shuffle(self.indices)"
   ]
  },
  {
   "cell_type": "code",
   "execution_count": 109,
   "id": "d127053f-a5db-4ce1-940e-19ec5441a6d4",
   "metadata": {
    "tags": []
   },
   "outputs": [
    {
     "name": "stdout",
     "output_type": "stream",
     "text": [
      "<class 'numpy.ndarray'> (56, 56, 3)\n",
      "<class 'numpy.ndarray'> (56, 56, 3)\n"
     ]
    }
   ],
   "source": [
    "print(type(train_images[0]), train_images[0].shape)\n",
    "print(type(val_images[0]), val_images[0].shape)"
   ]
  },
  {
   "cell_type": "code",
   "execution_count": 110,
   "id": "ab407428-bb3f-4223-a03b-c8e388a9b1aa",
   "metadata": {
    "tags": []
   },
   "outputs": [],
   "source": [
    "# Criar geradores para treinamento e validação\n",
    "train_generator = DataGenerator(train_images, train_labels_one_hot, batch_size=16)\n",
    "val_generator = DataGenerator(val_images, val_labels_one_hot, batch_size=16)"
   ]
  },
  {
   "cell_type": "code",
   "execution_count": 111,
   "id": "54f1c7c8-8467-462b-8e4f-4ae543a6daca",
   "metadata": {
    "tags": []
   },
   "outputs": [],
   "source": [
    "# Carregar o modelo base ResNet50 com pesos pré-treinados da ImageNet\n",
    "base_model = ResNet50(weights='imagenet', include_top=False, input_shape=(56, 56, 3))"
   ]
  },
  {
   "cell_type": "code",
   "execution_count": 112,
   "id": "33c9eff1-3b92-429e-a7b6-c9e014ad99bd",
   "metadata": {
    "tags": []
   },
   "outputs": [],
   "source": [
    "# Congelar as camadas da ResNet50 para treinar apenas as camadas personalizadas\n",
    "base_model.trainable = False"
   ]
  },
  {
   "cell_type": "code",
   "execution_count": 113,
   "id": "95250dde-cce5-45d3-bf3f-390a3aa74249",
   "metadata": {
    "tags": []
   },
   "outputs": [],
   "source": [
    "# Adicionar novas camadas no topo do modelo base\n",
    "x = base_model.output\n",
    "x = Flatten()(x)\n",
    "x = Dense(128, activation='relu')(x)\n",
    "x = Dropout(0.5)(x)\n",
    "predictions = Dense(len(label_encoder.classes_), activation='softmax')(x)"
   ]
  },
  {
   "cell_type": "code",
   "execution_count": 114,
   "id": "300efd85-ee98-481f-bc29-46f4b1ace030",
   "metadata": {
    "tags": []
   },
   "outputs": [],
   "source": [
    "# Criar o modelo final\n",
    "model = Model(inputs=base_model.input, outputs=predictions)"
   ]
  },
  {
   "cell_type": "code",
   "execution_count": 115,
   "id": "6e8e4767-e3e5-40e6-a4bf-5da6badbffdb",
   "metadata": {
    "tags": []
   },
   "outputs": [],
   "source": [
    "# Descongelar as últimas camadas da ResNet50 para fazer fine-tuning\n",
    "for layer in base_model.layers[-10:]:\n",
    "    layer.trainable = True"
   ]
  },
  {
   "cell_type": "code",
   "execution_count": 116,
   "id": "f3def82a-3a45-4776-85d2-e307d6489067",
   "metadata": {
    "tags": []
   },
   "outputs": [],
   "source": [
    "# Recompilar o modelo \n",
    "model.compile(optimizer=tf.keras.optimizers.Adam(learning_rate=1e-5), \n",
    "              loss='categorical_crossentropy', \n",
    "              metrics=['accuracy'])"
   ]
  },
  {
   "cell_type": "code",
   "execution_count": 117,
   "id": "b7a14700-3136-483d-8404-b20306e73f02",
   "metadata": {
    "tags": []
   },
   "outputs": [
    {
     "name": "stdout",
     "output_type": "stream",
     "text": [
      "Epoch 1/20\n",
      "208/208 [==============================] - 76s 350ms/step - loss: 1.1328 - accuracy: 0.5380 - val_loss: 2.3630 - val_accuracy: 0.1772\n",
      "Epoch 2/20\n",
      "208/208 [==============================] - 73s 352ms/step - loss: 0.9495 - accuracy: 0.6076 - val_loss: 8.5377 - val_accuracy: 0.0244\n",
      "Epoch 3/20\n",
      "208/208 [==============================] - 75s 360ms/step - loss: 0.8978 - accuracy: 0.6356 - val_loss: 3.0952 - val_accuracy: 0.2016\n",
      "Epoch 4/20\n",
      "208/208 [==============================] - 66s 319ms/step - loss: 0.8269 - accuracy: 0.6724 - val_loss: 1.1279 - val_accuracy: 0.5208\n",
      "Epoch 5/20\n",
      "208/208 [==============================] - 63s 305ms/step - loss: 0.7702 - accuracy: 0.6953 - val_loss: 0.8905 - val_accuracy: 0.6736\n",
      "Epoch 6/20\n",
      "208/208 [==============================] - 73s 349ms/step - loss: 0.7631 - accuracy: 0.6920 - val_loss: 0.7252 - val_accuracy: 0.7387\n",
      "Epoch 7/20\n",
      "208/208 [==============================] - 65s 313ms/step - loss: 0.7418 - accuracy: 0.7152 - val_loss: 0.9400 - val_accuracy: 0.6013\n",
      "Epoch 8/20\n",
      "208/208 [==============================] - 63s 304ms/step - loss: 0.6773 - accuracy: 0.7393 - val_loss: 0.7682 - val_accuracy: 0.6872\n",
      "Epoch 9/20\n",
      "208/208 [==============================] - 62s 298ms/step - loss: 0.6780 - accuracy: 0.7372 - val_loss: 0.8477 - val_accuracy: 0.6266\n",
      "Epoch 10/20\n",
      "208/208 [==============================] - 65s 313ms/step - loss: 0.6666 - accuracy: 0.7447 - val_loss: 0.7962 - val_accuracy: 0.6854\n",
      "Epoch 11/20\n",
      "208/208 [==============================] - 66s 318ms/step - loss: 0.6490 - accuracy: 0.7459 - val_loss: 0.7916 - val_accuracy: 0.6447\n",
      "Epoch 12/20\n",
      "208/208 [==============================] - 67s 321ms/step - loss: 0.6277 - accuracy: 0.7619 - val_loss: 0.7753 - val_accuracy: 0.6745\n",
      "Epoch 13/20\n",
      "208/208 [==============================] - 67s 321ms/step - loss: 0.6104 - accuracy: 0.7703 - val_loss: 0.6876 - val_accuracy: 0.7315\n",
      "Epoch 14/20\n",
      "208/208 [==============================] - 65s 312ms/step - loss: 0.5877 - accuracy: 0.7803 - val_loss: 0.6402 - val_accuracy: 0.7477\n",
      "Epoch 15/20\n",
      "208/208 [==============================] - 65s 314ms/step - loss: 0.5814 - accuracy: 0.7839 - val_loss: 0.8855 - val_accuracy: 0.6555\n",
      "Epoch 16/20\n",
      "208/208 [==============================] - 65s 315ms/step - loss: 0.5817 - accuracy: 0.7827 - val_loss: 0.6128 - val_accuracy: 0.7595\n",
      "Epoch 17/20\n",
      "208/208 [==============================] - 65s 314ms/step - loss: 0.5651 - accuracy: 0.7806 - val_loss: 0.7267 - val_accuracy: 0.7080\n",
      "Epoch 18/20\n",
      "208/208 [==============================] - 66s 316ms/step - loss: 0.5328 - accuracy: 0.7926 - val_loss: 0.6325 - val_accuracy: 0.7595\n",
      "Epoch 19/20\n",
      "208/208 [==============================] - 65s 312ms/step - loss: 0.5178 - accuracy: 0.8059 - val_loss: 0.5453 - val_accuracy: 0.7929\n",
      "Epoch 20/20\n",
      "208/208 [==============================] - 70s 334ms/step - loss: 0.5244 - accuracy: 0.8071 - val_loss: 0.5385 - val_accuracy: 0.7984\n"
     ]
    }
   ],
   "source": [
    "history_finetune = model.fit(\n",
    "    train_generator, \n",
    "    epochs=20, \n",
    "    validation_data=val_generator\n",
    ")"
   ]
  },
  {
   "cell_type": "code",
   "execution_count": 118,
   "id": "87353b03-f342-4c76-9149-67267eed0d20",
   "metadata": {
    "tags": []
   },
   "outputs": [
    {
     "name": "stdout",
     "output_type": "stream",
     "text": [
      "INFO:tensorflow:Assets written to: trained_model.resnet_lower_resolution\\assets\n"
     ]
    },
    {
     "name": "stderr",
     "output_type": "stream",
     "text": [
      "INFO:tensorflow:Assets written to: trained_model.resnet_lower_resolution\\assets\n"
     ]
    }
   ],
   "source": [
    "model.save('trained_model.resnet_lower_resolution')"
   ]
  },
  {
   "cell_type": "code",
   "execution_count": 119,
   "id": "e36fdc44-1bd5-4ba9-85c8-fc0a0382aa2c",
   "metadata": {
    "tags": []
   },
   "outputs": [
    {
     "name": "stdout",
     "output_type": "stream",
     "text": [
      "35/35 [==============================] - 7s 188ms/step - loss: 0.5385 - accuracy: 0.7984\n",
      "Loss no conjunto de validação: 0.538547933101654\n",
      "Accuracy no conjunto de validação: 0.7983725070953369\n"
     ]
    }
   ],
   "source": [
    "# Avaliar no conjunto de validação\n",
    "val_loss, val_accuracy = model.evaluate(np.array(val_images), val_labels_one_hot)\n",
    "print(f\"Loss no conjunto de validação: {val_loss}\")\n",
    "print(f\"Accuracy no conjunto de validação: {val_accuracy}\")"
   ]
  },
  {
   "cell_type": "code",
   "execution_count": 120,
   "id": "3f1d0d29-b664-4594-bce6-436a068caa5e",
   "metadata": {
    "tags": []
   },
   "outputs": [
    {
     "name": "stdout",
     "output_type": "stream",
     "text": [
      "35/35 [==============================] - 8s 198ms/step\n",
      "Matriz de Confusão:\n",
      "[[ 15   2   7   3   0]\n",
      " [  1 162  16   5   8]\n",
      " [  3  20 399  12   4]\n",
      " [  1  17  68 217   8]\n",
      " [  0  20   6  22  90]]\n",
      "Relatório de Classificação:\n",
      "              precision    recall  f1-score   support\n",
      "\n",
      "    Classe 0       0.75      0.56      0.64        27\n",
      "    Classe 1       0.73      0.84      0.78       192\n",
      "    Classe 2       0.80      0.91      0.85       438\n",
      "    Classe 3       0.84      0.70      0.76       311\n",
      "    Classe 4       0.82      0.65      0.73       138\n",
      "\n",
      "    accuracy                           0.80      1106\n",
      "   macro avg       0.79      0.73      0.75      1106\n",
      "weighted avg       0.80      0.80      0.79      1106\n",
      "\n"
     ]
    }
   ],
   "source": [
    "from sklearn.metrics import confusion_matrix, classification_report\n",
    "import numpy as np\n",
    "\n",
    "# Obter previsões do modelo\n",
    "val_predictions = model.predict(np.array(val_images))\n",
    "\n",
    "# Converter previsões one-hot encoded para rótulos\n",
    "val_predictions_labels = np.argmax(val_predictions, axis=1)\n",
    "val_labels_labels = np.argmax(val_labels_one_hot, axis=1)\n",
    "\n",
    "# Matriz de confusão\n",
    "conf_matrix = confusion_matrix(val_labels_labels, val_predictions_labels)\n",
    "print(\"Matriz de Confusão:\")\n",
    "print(conf_matrix)\n",
    "\n",
    "# Relatório de classificação\n",
    "target_names = ['Classe 0', 'Classe 1', 'Classe 2', 'Classe 3', 'Classe 4']\n",
    "class_report = classification_report(val_labels_labels, val_predictions_labels, target_names=target_names)\n",
    "print(\"Relatório de Classificação:\")\n",
    "print(class_report)"
   ]
  },
  {
   "cell_type": "code",
   "execution_count": 121,
   "id": "0fb63ade-1585-48ff-ba2e-4ec8cc0a164f",
   "metadata": {
    "tags": []
   },
   "outputs": [],
   "source": [
    "# Salvar a matriz de confusão e o relatório de classificação\n",
    "np.save('confusion_matrix.npy', conf_matrix)"
   ]
  },
  {
   "cell_type": "code",
   "execution_count": 122,
   "id": "5060373b-3be1-406e-90bf-1153995d153f",
   "metadata": {
    "tags": []
   },
   "outputs": [
    {
     "data": {
      "image/png": "[encoded data removed]",
      "text/plain": [
       "<Figure size 1000x800 with 2 Axes>"
      ]
     },
     "metadata": {},
     "output_type": "display_data"
    }
   ],
   "source": [
    "import seaborn as sns\n",
    "import matplotlib.pyplot as plt\n",
    "# Visualizar a matriz de confusão\n",
    "plt.figure(figsize=(10, 8))\n",
    "sns.heatmap(conf_matrix, annot=True, fmt='d', cmap='Blues', xticklabels=label_encoder.classes_, yticklabels=label_encoder.classes_)\n",
    "plt.xlabel('Predicted Label')\n",
    "plt.ylabel('True Label')\n",
    "plt.title('Confusion Matrix')\n",
    "plt.show()"
   ]
  },
  {
   "cell_type": "code",
   "execution_count": null,
   "id": "66256f5d-9497-4f84-8931-e4e944abd5f0",
   "metadata": {},
   "outputs": [],
   "source": []
  }
 ],
 "metadata": {
  "kernelspec": {
   "display_name": "Python 3 (ipykernel)",
   "language": "python",
   "name": "python3"
  },
  "language_info": {
   "codemirror_mode": {
    "name": "ipython",
    "version": 3
   },
   "file_extension": ".py",
   "mimetype": "text/x-python",
   "name": "python",
   "nbconvert_exporter": "python",
   "pygments_lexer": "ipython3",
   "version": "3.11.5"
  },
  "widgets": {
   "application/vnd.jupyter.widget-state+json": {
    "state": {},
    "version_major": 2,
    "version_minor": 0
   }
  }
 },
 "nbformat": 4,
 "nbformat_minor": 5
}

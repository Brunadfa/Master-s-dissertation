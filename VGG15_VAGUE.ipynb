{
 "cells": [
  {
   "cell_type": "code",
   "execution_count": 17,
   "id": "362571c6-f8ea-4792-865e-873e17f98ba7",
   "metadata": {
    "tags": []
   },
   "outputs": [],
   "source": [
    "import os\n",
    "import json\n",
    "import numpy as np\n",
    "from PIL import Image\n",
    "from sklearn.preprocessing import LabelEncoder, OneHotEncoder\n",
    "from sklearn.model_selection import train_test_split\n",
    "import tensorflow as tf\n",
    "from tensorflow.keras.applications import VGG16\n",
    "from tensorflow.keras.layers import Dense, Flatten, Dropout\n",
    "from tensorflow.keras.models import Model"
   ]
  },
  {
   "cell_type": "code",
   "execution_count": 18,
   "id": "4eb19bae-729b-454a-b936-ad4dc0b74d83",
   "metadata": {
    "tags": []
   },
   "outputs": [
    {
     "name": "stdout",
     "output_type": "stream",
     "text": [
      "GPU is not available\n"
     ]
    }
   ],
   "source": [
    "#Verificar se a GPU está disponível\n",
    "print(\"GPU is available\" if tf.config.list_physical_devices('GPU') else \"GPU is not available\")"
   ]
  },
  {
   "cell_type": "code",
   "execution_count": 19,
   "id": "c4cfe810-01fc-4f22-91ed-1b09abcca1ab",
   "metadata": {
    "tags": []
   },
   "outputs": [],
   "source": [
    "# Diretório onde estão armazenadas as imagens\n",
    "image_dir = r'C:\\Users\\bruna\\OneDrive - Universidade do Minho\\Tese Mestrado em Bioinformática\\AGAR_dataset\\AGAR_dataset\\dataset'"
   ]
  },
  {
   "cell_type": "code",
   "execution_count": 20,
   "id": "e553e629-ce2d-4b72-bd25-fcd5554e9f39",
   "metadata": {
    "tags": []
   },
   "outputs": [],
   "source": [
    "# Function to load and resize images\n",
    "def load_image(image_path, target_size=(112, 112)):\n",
    "    try:\n",
    "        image = Image.open(image_path)  # Open the image file\n",
    "        image = image.resize(target_size)  # Resize the image to the target size\n",
    "        return np.array(image) / 255.0  # Convert to a NumPy array and normalize\n",
    "    except Exception as e:\n",
    "        print(f\"Error loading image {image_path}: {e}\")\n",
    "        return None"
   ]
  },
  {
   "cell_type": "code",
   "execution_count": 21,
   "id": "a46d5e93-fd94-45a1-b6d2-4e60527a95eb",
   "metadata": {
    "tags": []
   },
   "outputs": [],
   "source": [
    "# Carregar IDs do grupo de treinamento de um arquivo de texto\n",
    "train_ids_file = r'C:\\Users\\bruna\\OneDrive - Universidade do Minho\\Tese Mestrado em Bioinformática\\AGAR_dataset\\AGAR_dataset\\training_lists\\vague_train.txt'\n",
    "with open(train_ids_file, 'r') as file:\n",
    "    train_ids = [str(id) for id in json.loads(file.read())]"
   ]
  },
  {
   "cell_type": "code",
   "execution_count": 22,
   "id": "f1a35ec9-e731-4c40-9a34-b5b17b5fab07",
   "metadata": {
    "tags": []
   },
   "outputs": [],
   "source": [
    "# Carregar IDs do grupo de validação de um arquivo de texto\n",
    "val_ids_file = r'C:\\Users\\bruna\\OneDrive - Universidade do Minho\\Tese Mestrado em Bioinformática\\AGAR_dataset\\AGAR_dataset\\training_lists\\vague_val.txt'\n",
    "with open(val_ids_file, 'r') as file:\n",
    "    val_ids = [str(id) for id in json.loads(file.read())]"
   ]
  },
  {
   "cell_type": "code",
   "execution_count": 23,
   "id": "b9f93906-9390-4022-b797-e52be0ec963e",
   "metadata": {
    "tags": []
   },
   "outputs": [],
   "source": [
    "%%capture\n",
    "# Lists to store image paths and corresponding labels\n",
    "train_data = []\n",
    "val_data = []\n",
    "\n",
    "# Iterate over all files in the directory\n",
    "for filename in os.listdir(image_dir):\n",
    "    if filename.endswith('.json'):\n",
    "        json_path = os.path.join(image_dir, filename)\n",
    "        with open(json_path, 'r') as file:\n",
    "            try:\n",
    "                json_data = json.load(file)\n",
    "            except json.JSONDecodeError as e:\n",
    "                print(f\"Error loading JSON {json_path}: {e}\")\n",
    "                continue\n",
    "        \n",
    "        sample_id = str(json_data.get('sample_id', None))\n",
    "        if sample_id is None:\n",
    "            print(f\"Sample ID missing in JSON: {json_path}\")\n",
    "            continue\n",
    "        \n",
    "        image_filename = f\"{sample_id}.jpg\"\n",
    "        image_path = os.path.join(image_dir, image_filename)\n",
    "        if not os.path.exists(image_path):\n",
    "            print(f\"Image file not found: {image_path}\")\n",
    "            continue\n",
    "        \n",
    "        classes = json_data.get('classes', [])\n",
    "        if not classes:\n",
    "            print(f\"Key 'classes' missing or empty in JSON: {json_path}\")\n",
    "            continue\n",
    "        \n",
    "        data_tuple = (image_path, classes[0])\n",
    "        if sample_id in train_ids:\n",
    "            train_data.append(data_tuple)\n",
    "        elif sample_id in val_ids:\n",
    "            val_data.append(data_tuple)"
   ]
  },
  {
   "cell_type": "code",
   "execution_count": 24,
   "id": "491447a6-1242-4fb7-8633-5850a2d30bcc",
   "metadata": {
    "tags": []
   },
   "outputs": [
    {
     "name": "stdout",
     "output_type": "stream",
     "text": [
      "Número de imagens de treinamento carregadas: 642\n",
      "Número de imagens de validação carregadas: 214\n"
     ]
    }
   ],
   "source": [
    "# Verificar o número de imagens carregadas\n",
    "print(f\"Número de imagens de treinamento carregadas: {len(train_data)}\")\n",
    "print(f\"Número de imagens de validação carregadas: {len(val_data)}\")"
   ]
  },
  {
   "cell_type": "code",
   "execution_count": 25,
   "id": "2da17a2f-2a2a-4cb5-ab19-fcff7119d9fe",
   "metadata": {
    "tags": []
   },
   "outputs": [],
   "source": [
    "# Separar as imagens e os rótulos (labels)\n",
    "train_images = [data[0] for data in train_data]\n",
    "train_labels = [data[1] for data in train_data]\n",
    "\n",
    "val_images = [data[0] for data in val_data]\n",
    "val_labels = [data[1] for data in val_data]"
   ]
  },
  {
   "cell_type": "code",
   "execution_count": 26,
   "id": "7e80b1ef-1a67-4e14-8857-8887587f5af4",
   "metadata": {
    "tags": []
   },
   "outputs": [],
   "source": [
    "train_images = [load_image(image_path, target_size=(112, 112)) for image_path in train_images]\n",
    "val_images = [load_image(image_path, target_size=(112, 112)) for image_path in val_images]"
   ]
  },
  {
   "cell_type": "code",
   "execution_count": 27,
   "id": "24f1ceb3-8932-4adf-86dc-45bcfe29d6cf",
   "metadata": {
    "tags": []
   },
   "outputs": [],
   "source": [
    "# Verificar se alguma imagem falhou ao carregar\n",
    "train_images = [img for img in train_images if img is not None]\n",
    "val_images = [img for img in val_images if img is not None]"
   ]
  },
  {
   "cell_type": "code",
   "execution_count": 28,
   "id": "e48cec59-a8ea-4f34-acf5-8cb7996ebeab",
   "metadata": {},
   "outputs": [],
   "source": [
    "# Converter os rótulos em formato adequado (numérico)\n",
    "label_encoder = LabelEncoder()\n",
    "train_labels = label_encoder.fit_transform(train_labels)\n",
    "val_labels = label_encoder.transform(val_labels)"
   ]
  },
  {
   "cell_type": "code",
   "execution_count": 29,
   "id": "affb476a-6d22-46f6-ad91-6b8f1097e699",
   "metadata": {},
   "outputs": [],
   "source": [
    "# Codificação one-hot para os rótulos\n",
    "one_hot_encoder = OneHotEncoder(sparse_output=False)\n",
    "train_labels_one_hot = one_hot_encoder.fit_transform(train_labels.reshape(-1, 1))\n",
    "val_labels_one_hot = one_hot_encoder.transform(val_labels.reshape(-1, 1))"
   ]
  },
  {
   "cell_type": "code",
   "execution_count": 30,
   "id": "6769f54a-9290-4cef-ab8c-0dcbaaf0dc73",
   "metadata": {},
   "outputs": [],
   "source": [
    "# Carregar o modelo base VGG16 com pesos pré-treinados da ImageNet\n",
    "base_model = VGG16(weights='imagenet', include_top=False, input_shape=(112, 112, 3))"
   ]
  },
  {
   "cell_type": "code",
   "execution_count": 31,
   "id": "756fae58-30eb-407e-ac44-446789b20845",
   "metadata": {},
   "outputs": [],
   "source": [
    "# Congelar as camadas da VGG16 para treinar apenas as camadas personalizadas\n",
    "base_model.trainable = False"
   ]
  },
  {
   "cell_type": "code",
   "execution_count": 32,
   "id": "99dc5bb9-91bf-4168-ae88-d94542b4b6ef",
   "metadata": {},
   "outputs": [],
   "source": [
    "# Adicionar novas camadas no topo do modelo base\n",
    "x = base_model.output\n",
    "x = Flatten()(x)\n",
    "x = Dense(128, activation='relu')(x)\n",
    "x = Dropout(0.5)(x)\n",
    "predictions = Dense(len(label_encoder.classes_), activation='softmax')(x)"
   ]
  },
  {
   "cell_type": "code",
   "execution_count": 33,
   "id": "7ece0259-db3e-4833-87a5-0d6babdb4590",
   "metadata": {},
   "outputs": [],
   "source": [
    "# Criar o modelo final\n",
    "model = Model(inputs=base_model.input, outputs=predictions)"
   ]
  },
  {
   "cell_type": "code",
   "execution_count": 34,
   "id": "98992ac3-ff4b-449d-b47e-8c35836d8147",
   "metadata": {},
   "outputs": [],
   "source": [
    "# Fine-tuning \n",
    "# Descongelar as últimas camadas da VGG16 para fazer fine-tuning\n",
    "for layer in base_model.layers[-10:]:\n",
    "    layer.trainable = True"
   ]
  },
  {
   "cell_type": "code",
   "execution_count": 35,
   "id": "5ea1e135-2fd2-4300-bb90-e62b386094ed",
   "metadata": {},
   "outputs": [],
   "source": [
    "# Recompilar o modelo \n",
    "model.compile(optimizer=tf.keras.optimizers.Adam(learning_rate=1e-5), \n",
    "              loss='categorical_crossentropy', \n",
    "              metrics=['accuracy'])"
   ]
  },
  {
   "cell_type": "code",
   "execution_count": 36,
   "id": "98d9ffb2-205f-447a-9230-adf137ed537e",
   "metadata": {},
   "outputs": [
    {
     "name": "stdout",
     "output_type": "stream",
     "text": [
      "Epoch 1/20\n",
      "21/21 [==============================] - 61s 3s/step - loss: 1.2205 - accuracy: 0.4003 - val_loss: 0.8758 - val_accuracy: 0.6636\n",
      "Epoch 2/20\n",
      "21/21 [==============================] - 57s 3s/step - loss: 0.8897 - accuracy: 0.6059 - val_loss: 0.7677 - val_accuracy: 0.7570\n",
      "Epoch 3/20\n",
      "21/21 [==============================] - 58s 3s/step - loss: 0.7699 - accuracy: 0.6931 - val_loss: 0.6664 - val_accuracy: 0.7477\n",
      "Epoch 4/20\n",
      "21/21 [==============================] - 69s 3s/step - loss: 0.6665 - accuracy: 0.7632 - val_loss: 0.7361 - val_accuracy: 0.7430\n",
      "Epoch 5/20\n",
      "21/21 [==============================] - 74s 4s/step - loss: 0.6236 - accuracy: 0.7819 - val_loss: 0.6220 - val_accuracy: 0.8131\n",
      "Epoch 6/20\n",
      "21/21 [==============================] - 73s 4s/step - loss: 0.5816 - accuracy: 0.8006 - val_loss: 0.5289 - val_accuracy: 0.8458\n",
      "Epoch 7/20\n",
      "21/21 [==============================] - 74s 4s/step - loss: 0.5322 - accuracy: 0.8084 - val_loss: 0.5103 - val_accuracy: 0.8458\n",
      "Epoch 8/20\n",
      "21/21 [==============================] - 73s 3s/step - loss: 0.4864 - accuracy: 0.8458 - val_loss: 0.4449 - val_accuracy: 0.8551\n",
      "Epoch 9/20\n",
      "21/21 [==============================] - 73s 3s/step - loss: 0.4036 - accuracy: 0.8707 - val_loss: 0.4090 - val_accuracy: 0.8598\n",
      "Epoch 10/20\n",
      "21/21 [==============================] - 73s 3s/step - loss: 0.4006 - accuracy: 0.8660 - val_loss: 0.4291 - val_accuracy: 0.8598\n",
      "Epoch 11/20\n",
      "21/21 [==============================] - 72s 3s/step - loss: 0.3591 - accuracy: 0.8769 - val_loss: 0.3847 - val_accuracy: 0.8598\n",
      "Epoch 12/20\n",
      "21/21 [==============================] - 72s 3s/step - loss: 0.3498 - accuracy: 0.8769 - val_loss: 0.4399 - val_accuracy: 0.8458\n",
      "Epoch 13/20\n",
      "21/21 [==============================] - 72s 3s/step - loss: 0.3789 - accuracy: 0.8754 - val_loss: 0.3765 - val_accuracy: 0.8598\n",
      "Epoch 14/20\n",
      "21/21 [==============================] - 72s 3s/step - loss: 0.3240 - accuracy: 0.8972 - val_loss: 0.4420 - val_accuracy: 0.8364\n",
      "Epoch 15/20\n",
      "21/21 [==============================] - 72s 3s/step - loss: 0.3535 - accuracy: 0.8723 - val_loss: 0.3775 - val_accuracy: 0.8738\n",
      "Epoch 16/20\n",
      "21/21 [==============================] - 72s 3s/step - loss: 0.3321 - accuracy: 0.8738 - val_loss: 0.4036 - val_accuracy: 0.8551\n",
      "Epoch 17/20\n",
      "21/21 [==============================] - 72s 3s/step - loss: 0.4213 - accuracy: 0.8442 - val_loss: 0.3740 - val_accuracy: 0.8738\n",
      "Epoch 18/20\n",
      "21/21 [==============================] - 72s 3s/step - loss: 0.3306 - accuracy: 0.8816 - val_loss: 0.4407 - val_accuracy: 0.8505\n",
      "Epoch 19/20\n",
      "21/21 [==============================] - 72s 3s/step - loss: 0.2800 - accuracy: 0.9003 - val_loss: 0.3584 - val_accuracy: 0.8738\n",
      "Epoch 20/20\n",
      "21/21 [==============================] - 71s 3s/step - loss: 0.2895 - accuracy: 0.9065 - val_loss: 0.3689 - val_accuracy: 0.8785\n"
     ]
    }
   ],
   "source": [
    "# Treinamento do modelo com fine-tuning\n",
    "history_finetune = model.fit(\n",
    "    np.array(train_images), \n",
    "    train_labels_one_hot, \n",
    "    epochs=20, \n",
    "    batch_size=32, \n",
    "    validation_data=(np.array(val_images), val_labels_one_hot)\n",
    ")"
   ]
  },
  {
   "cell_type": "code",
   "execution_count": 37,
   "id": "c0a85253-c5f1-4a66-b462-68338fb30aee",
   "metadata": {},
   "outputs": [
    {
     "name": "stdout",
     "output_type": "stream",
     "text": [
      "INFO:tensorflow:Assets written to: trained_model.vgg16_vague_resolution\\assets\n"
     ]
    },
    {
     "name": "stderr",
     "output_type": "stream",
     "text": [
      "INFO:tensorflow:Assets written to: trained_model.vgg16_vague_resolution\\assets\n"
     ]
    }
   ],
   "source": [
    "# Salvar o modelo treinado\n",
    "model.save('trained_model.vgg16_vague_resolution')"
   ]
  },
  {
   "cell_type": "code",
   "execution_count": 38,
   "id": "0b2fde4c-0148-4ad4-8327-d3dc8a09e69a",
   "metadata": {},
   "outputs": [
    {
     "name": "stdout",
     "output_type": "stream",
     "text": [
      "7/7 [==============================] - 5s 747ms/step - loss: 0.3689 - accuracy: 0.8785\n",
      "Loss no conjunto de validação: 0.368906170129776\n",
      "Accuracy no conjunto de validação: 0.8785046935081482\n"
     ]
    }
   ],
   "source": [
    "# Avaliar no conjunto de validação\n",
    "val_loss, val_accuracy = model.evaluate(np.array(val_images), val_labels_one_hot)\n",
    "print(f\"Loss no conjunto de validação: {val_loss}\")\n",
    "print(f\"Accuracy no conjunto de validação: {val_accuracy}\")"
   ]
  },
  {
   "cell_type": "code",
   "execution_count": 39,
   "id": "3c9a4829-fd99-4b6a-822f-e9cda5842dfe",
   "metadata": {
    "tags": []
   },
   "outputs": [
    {
     "name": "stdout",
     "output_type": "stream",
     "text": [
      "7/7 [==============================] - 5s 750ms/step\n",
      "Matriz de Confusão:\n",
      "[[95  6  0]\n",
      " [ 1 92  0]\n",
      " [ 2 17  1]]\n",
      "Relatório de Classificação:\n",
      "              precision    recall  f1-score   support\n",
      "\n",
      "      E.coli       0.97      0.94      0.95       101\n",
      "P.aeruginosa       0.80      0.99      0.88        93\n",
      "    S.aureus       1.00      0.05      0.10        20\n",
      "\n",
      "    accuracy                           0.88       214\n",
      "   macro avg       0.92      0.66      0.64       214\n",
      "weighted avg       0.90      0.88      0.84       214\n",
      "\n"
     ]
    }
   ],
   "source": [
    "# Previsões e relatórios\n",
    "from sklearn.metrics import confusion_matrix, classification_report\n",
    "\n",
    "# Obter previsões do modelo\n",
    "val_predictions = model.predict(np.array(val_images))\n",
    "\n",
    "# Converter previsões one-hot encoded para rótulos\n",
    "val_predictions_labels = np.argmax(val_predictions, axis=1)\n",
    "val_labels_labels = np.argmax(val_labels_one_hot, axis=1)\n",
    "\n",
    "# Matriz de confusão\n",
    "conf_matrix = confusion_matrix(val_labels_labels, val_predictions_labels)\n",
    "print(\"Matriz de Confusão:\")\n",
    "print(conf_matrix)\n",
    "\n",
    "# Relatório de classificação\n",
    "class_report = classification_report(val_labels_labels, val_predictions_labels, target_names=label_encoder.classes_)\n",
    "print(\"Relatório de Classificação:\")\n",
    "print(class_report)"
   ]
  },
  {
   "cell_type": "code",
   "execution_count": 40,
   "id": "c7898085-7963-4a19-a6b1-f5ed9cec3ae7",
   "metadata": {},
   "outputs": [
    {
     "data": {
      "image/png": "[encoded data removed]",
      "text/plain": [
       "<Figure size 1000x800 with 2 Axes>"
      ]
     },
     "metadata": {},
     "output_type": "display_data"
    }
   ],
   "source": [
    "import seaborn as sns\n",
    "import matplotlib.pyplot as plt\n",
    "# Visualizar a matriz de confusão\n",
    "plt.figure(figsize=(10, 8))\n",
    "sns.heatmap(conf_matrix, annot=True, fmt='d', cmap='Blues', xticklabels=label_encoder.classes_, yticklabels=label_encoder.classes_)\n",
    "plt.xlabel('Predicted Label')\n",
    "plt.ylabel('True Label')\n",
    "plt.title('Confusion Matrix')\n",
    "plt.show()"
   ]
  },
  {
   "cell_type": "code",
   "execution_count": null,
   "id": "9e4d14d8-9fa7-41d9-a2b4-3fef04a5d7d7",
   "metadata": {},
   "outputs": [],
   "source": []
  }
 ],
 "metadata": {
  "kernelspec": {
   "display_name": "Python 3 (ipykernel)",
   "language": "python",
   "name": "python3"
  },
  "language_info": {
   "codemirror_mode": {
    "name": "ipython",
    "version": 3
   },
   "file_extension": ".py",
   "mimetype": "text/x-python",
   "name": "python",
   "nbconvert_exporter": "python",
   "pygments_lexer": "ipython3",
   "version": "3.11.5"
  },
  "widgets": {
   "application/vnd.jupyter.widget-state+json": {
    "state": {},
    "version_major": 2,
    "version_minor": 0
   }
  }
 },
 "nbformat": 4,
 "nbformat_minor": 5
}
